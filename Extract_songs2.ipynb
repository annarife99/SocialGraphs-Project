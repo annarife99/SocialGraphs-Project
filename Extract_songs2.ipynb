{
 "cells": [
  {
   "cell_type": "code",
   "execution_count": 75,
   "id": "2af31560",
   "metadata": {},
   "outputs": [],
   "source": [
    "def extract_html(url):\n",
    "    page = urlopen(url)\n",
    "    html_bytes = page.read()\n",
    "    html = html_bytes.decode(\"utf-8\")\n",
    "    return html"
   ]
  },
  {
   "cell_type": "code",
   "execution_count": 76,
   "id": "ca7c5c22",
   "metadata": {},
   "outputs": [
    {
     "data": {
      "text/plain": [
       "['12-Bar Original',\n",
       " '1822!',\n",
       " 'A Beginning',\n",
       " 'A Day In The Life',\n",
       " \"A Hard Day's Night\",\n",
       " 'A Little Rhyme',\n",
       " 'A Shot Of Rhythm And Blues',\n",
       " 'A Taste Of Honey',\n",
       " 'Across The Universe',\n",
       " 'Act Naturally']"
      ]
     },
     "execution_count": 76,
     "metadata": {},
     "output_type": "execute_result"
    }
   ],
   "source": [
    "import re\n",
    "from urllib.request import urlopen\n",
    "\n",
    "pattern1= 'hreflang=\"en\">(.*?)</a>'\n",
    "songs_titles=[]\n",
    "for i in range(0,9):\n",
    "    url = 'https://www.thebeatles.com/songs?page='+str(i)\n",
    "    html=extract_html(url)\n",
    "    a=re.findall(pattern1,html)\n",
    "    for el in a:\n",
    "        el=el.replace('&#039;', '\\'')\n",
    "        songs_titles.append(el)\n",
    "songs_titles[0:10]"
   ]
  },
  {
   "cell_type": "code",
   "execution_count": 80,
   "id": "8986f63a",
   "metadata": {},
   "outputs": [
    {
     "name": "stdout",
     "output_type": "stream",
     "text": [
      "words-love\n"
     ]
    }
   ],
   "source": [
    "import urllib.request as urllib2\n",
    "\n",
    "remove_list=[' a ',' in ',' the ',' of ',' to ',' is ',' at ',' for ',' that ',' by ',' as ',' from ',' into ',\n",
    "             ' on ',' with ',' off ',' this ',' up ',' like ']\n",
    "remove_list_start=['a-','in-','the-','of-','to-','is-','at-','for-','that-','by-','as-','from-','like-','this-',\n",
    "                  'with-']\n",
    "remove_list_end=['-by','-to','-on','-is','-that','-before']\n",
    "remove_list2=['\\'','.','!','(',')',',','/',':']\n",
    "\n",
    "pattern6='<div class=\"col-md-6 middle-content border-left border-right\"><p>'\n",
    "pattern7='<figure class=\"wp-block-table table-expander table table-imported\">'\n",
    "for title in songs_titles:\n",
    "    try:\n",
    "        title=title.lower()\n",
    "        for el in remove_list2: # delete special characters\n",
    "            title=title.replace(el,'')\n",
    "        for el in remove_list: # replace single words with a space\n",
    "            title=title.replace(el,' ')\n",
    "        title=title.replace(' ','-')\n",
    "        title=title.replace('--','-')\n",
    "        # delete words from the start\n",
    "        for i in range(0,6):\n",
    "            if title[:i] in remove_list_start:\n",
    "                title=title[i:]\n",
    "        # delete words end\n",
    "        for i in range(0,8):\n",
    "            if title[-i:] in remove_list_end:\n",
    "                title=title[:-i]\n",
    "        if title[0]=='-':\n",
    "            title=title[1:]\n",
    "        url='https://www.thebeatles.com/'\n",
    "        query=extract_html(url+title)\n",
    "        # write the extracted text in a .txt file\n",
    "        file=open('raw_songs/'+title+'.txt','w+')\n",
    "        file.write(query)\n",
    "        file.close()\n",
    "    except:\n",
    "        print(title)"
   ]
  },
  {
   "cell_type": "markdown",
   "id": "8a79f050",
   "metadata": {},
   "source": [
    "Hi ha a vegades que et pila la query del url tot i que la pàgina que correspon a la cançó té un afegit al final de -0 o -1, com el cas de la cançó que peta que és words-love-0"
   ]
  },
  {
   "cell_type": "code",
   "execution_count": 5,
   "id": "75a6821d",
   "metadata": {},
   "outputs": [],
   "source": [
    "import re\n",
    "from urllib.request import urlopen"
   ]
  },
  {
   "cell_type": "code",
   "execution_count": 4,
   "id": "48e0faf2",
   "metadata": {},
   "outputs": [
    {
     "data": {
      "text/plain": [
       "'Desmond has a barrow in the market place,  Molly is the singer in a band.  Desmond says to Molly, \"Girl, I like your face,\"  And Molly says this as she takes him by the hand:   Obladi, Oblada, life goes on, bra,  Lala how their life goes on.  Obladi, Oblada, life goes on, bra,  Lala how their life goes on.   Desmond takes a trolley to the jeweler\\'s store,  Buys a twenty carat golden ring.  Takes it back to Molly waiting at the door,  And as he gives it to her she begins to sing:   Obladi, Oblada, life goes on, bra,  Lala how their life goes on.  Obladi, Oblada, life goes on, bra,  Lala how their life goes on.   In a couple of years,  They have built a home sweet home.  With a couple of kids running in the yard  Of Desmond and Molly Jones.   Happy ever after in the market place,  Desmond lets the children lend a hand.  Molly stays at home and does her pretty face,  and in the evening she still sings it with the band.   Obladi, Oblada, life goes on, bra,  Lala how their life goes on.  Obladi, Oblada, life goes on, bra,  Lala how their life goes on.   In a couple of years,  They have built a home sweet home.  With a couple of kids running in the yard  of Desmond and Molly Jones.   Happy ever after in the market place,  Molly lets the children lend a hand.  Desmond stays at home and does his pretty face,  And in the evening she\\'s a singer with the band.   Obladi, Oblada, life goes on, bra,  Lala how their life goes on.  Obladi, Oblada, life goes on, bra,  Lala how their life goes   And if you want some fun, take obladiblada.                   '"
      ]
     },
     "execution_count": 4,
     "metadata": {},
     "output_type": "execute_result"
    }
   ],
   "source": [
    "pattern6='<div class=\"col-md-6 middle-content border-left border-right\"><p>'\n",
    "pattern7='<figure class=\"wp-block-table table-expander table table-imported\">'\n",
    "remove_list=['<br />','\\n','</p>','<p>']\n",
    "\n",
    "def extract_lyrics(song_path):\n",
    "    song=open(song_path).read()\n",
    "    idx_init = re.search(pattern6,song).end()\n",
    "    idx_final = re.search(pattern7,song).start()\n",
    "    lyrics=song[idx_init:idx_final]\n",
    "    for el in remove_list: # delete special characters\n",
    "        lyrics=lyrics.replace(el,' ')\n",
    "    return lyrics\n",
    "\n",
    "extract_lyrics('raw_songs/ob-la-di-ob-la-da.txt')"
   ]
  },
  {
   "cell_type": "code",
   "execution_count": 22,
   "id": "be9e0ca7",
   "metadata": {},
   "outputs": [
    {
     "data": {
      "text/plain": [
       "\"Yesterday, all my troubles seemed so far away,  Now it looks as though they're here to stay,  Oh, I believe in yesterday   Suddenly, I'm not half the man I used to be  There's a shadow hanging over me  Oh, yesterday came suddenly   Why she had to go I don't know, she wouldn't say  I said something wrong, now I long for yesterday   Yesterday, love was such an easy game to play  Now I need a place to hide away  Oh, I believe in yesterday   Why she had to go I don't know, she wouldn't say  I said something wrong, now I long for yesterday   Yesterday, love was such an easy game to play  Now I need a place to hide away  Oh, I believe in yesterday,  Mm mm mm mm mm.   \""
      ]
     },
     "execution_count": 22,
     "metadata": {},
     "output_type": "execute_result"
    }
   ],
   "source": [
    "extract_lyrics('raw_songs/yesterday.txt')"
   ]
  },
  {
   "cell_type": "code",
   "execution_count": 5,
   "id": "c7c890ad",
   "metadata": {},
   "outputs": [],
   "source": [
    "import os"
   ]
  },
  {
   "cell_type": "code",
   "execution_count": 191,
   "id": "5c7fec95",
   "metadata": {},
   "outputs": [
    {
     "name": "stdout",
     "output_type": "stream",
     "text": [
      "yesterday\tyouve-got-hide-your-love-away\tgot-get-you-my-life\ti-need-you\tone-after-909\tus-you\tif-i-fell\tlonesome-tears-my-eyes\tthree-cool-cats\tit-wont-be-long\tlucille\tyoure-going-lose-girl\tyou-know-what-do\tdizzy-miss-lizzy\teight-days-week\tme-you\teverybodys-got-something-hide-except-me-and-my-monkey\tmemphis-tennessee\triding-bus\tbecause\ther-majesty\t12-bar-original\tmaggie-mae\tpiggies\tim-only-sleeping\tget-back\tkomm-gib-mir-deine-hand\tim-loser\twhat-goes\tfixing-hole\twhen-i-get-home\there-there-and-everywhere\tim-down\tset-fire-lot\tlend-me-your-comb\tevery-little-thing\tyoull-be-mine\tcome-together\tkansas-city-hey-hey-hey-hey\tmartha-my-dear\till-cry-instead\till-follow-sun\tticket-ride\tonly-northern-song\tall-ive-got-do\tany-time-all\tbaby-its-you\tshes-leaving-home\tstrawberry-fields-forever\tim-so-tired\tthink-yourself\ttoo-much-monkey-business\tdont-let-me-down\t.DS_S\tmarch-meanies\tbaby-youre-rich-man\tbeatle-greetings\tact-naturally\ti-forgot-remember-forget\tgirl\tmy-bonnie\trevolution-9\ti-just-dont-understand\tpepperland-laid-waste\ti-call-your-name\ti-want-tell-you\tfree-bird\toctopuss-garden\twhat-youre-doing\tso-how-come-no-one-loves-me\ti-want-hold-your-hand\tfluff-you\tend\tshe-came-through-bathroom-window\tits-all-too-much\ttwist-and-shout\tgood-day-sunshine\tblackbird\ttheres-place\tooh-my-soul\tmother-natures-son\tmagical-mystery-tour\tsure-fall-love-you\ti-me-mine\tyou-really-got-hold-me\tlittle-child\twild-honey-pie\ti-want-you\tnothin-shakin\tdoctor-robert\thallelujah-i-love-her-so\tlet-it-be\tglad-all-over\ti-feel-fine\tgetting-better\task-me-why\tsie-liebt-dich\tcry-baby-cry\tno-one\tmoney-thats-what-i-want\tcry-shadow\tyour-mother-should-know\tboys\tlittle-rhyme\tbabys-black\tdig-pony\tive-just-seen-face\tlady-madonna\tsgt-peppers-lonely-hearts-club-band-reprise\tanother-girl\tits-only-love\tsgt-peppers-lonely-hearts-club-band\tshout\tnot-second-time\thave-banana\thoney-dont\tjunk\trip-it-shake-rattle-and-roll-blue-suede-shoes\tanna-go-him\tspite-all-danger\tstep-inside-love-los-paranoias\thow-do-you-do-it\till-be-my-way\tim-gonna-sit-right-down-and-cry\tkeep-your-hands-my-baby\they-jude\tif-youve-got-trouble\tmeans-lot\tmailman-bring-me-no-more-blues\ttaste-honey\tpaperback-writer\tsweet-little-sixteen\tyer-blues\twhen-im-sixty-four\tlong-long-long\tgolden-slumbers\tdont-ever-change\trocky-raccoon\thard-days-night\tcarol\tdrive-my-car\tnot-guilty\tday-tripper\tnorwegian-wood-bird-has-flown\twhile-my-guitar-gently-weeps\tyou-never-give-me-your-money\tspeech-brian-epstein\tslow-down\tdear-wack\till-be-back\teleanor-rigby\tlong-and-winding-road\trock-and-roll-music\tive-got-feeling\tcrying-waiting-hoping\ttell-me-why\twhy-dont-we-do-it-road\tsavoy-truffle\tdig-it\tsome-other-guy\thappiness-warm-gun\tinner-light\tteddy-boy\taint-she-sweet\tgood-night\tdont-pass-me\tbad-boy\there-comes-sun\tpolythene-pam\tjohnny-b-goode\tsearchin\tmr-moonlight\tall-my-loving\tyou-cant-do\tback-ussr\tday-life\tsea-time\ti-dont-want-spoil-party\ttomorrow-never-knows\teverybodys-trying-be-my-baby\tbesame-mucho\tlittle-help-my-friends\tmy-life\toh-darling\tdont-bother-me\tshe-loves-you\tsun-king\tmatchbox\tlucy-sky-diamonds\troll-over-beethoven\tacross-universe\tthings-we-said-today\tlove-these-goon-shows\tlong-tall-sally\ti-got-find-my-baby\ti-got-woman\tword\thelter-skelter\tsea-monsters\ti-am-walrus\t1822\tlovely-rita\tim-looking-through-you\tnight\tooh-my-arms\tand-your-bird-can-sing\tall-things-must-pass\tballad-john-and-yoko\thoneymoon-song\tboy\tjulia\tshot-rhythm-and-blues\tall-you-need-love\tpepperland\tgnik-nus\train\tim-happy-just-dance-you\tplease-mister-postman\tsomething\tclarabella\tlove-you\twait\tall-together-now\tbeing-benefit-mr-kite\twhats-new-mary-jane\thello-little-girl\tleave-my-kitten-alone\tlove-me-do\tpenny-lane\tcrinsk-dee-night\tjust-rumour\tsha-la-la-la-la\they-bulldog\tbirthday\tyellow-submarine\tchains\tglass-onion\ti-saw-her-standing-there\tcarry-weight\ti-wanna-be-your-man\tand-i-love-her\tdo-you-want-know-secret\tplease-please-me\tblue-jay-way\tflying\tthank-you-girl\tsexy-sadie\thelp\tdevil-her-heart\tthatll-be-day\thippy-hippy-shake\tcayenne\tyou-wont-see-me\tcome-and-get-it\tsea-holes\tmichelle\tob-la-di-ob-la-da\trun-your-life\tcontinuing-story-bungalow-bill\tbeginning\tthats-all-right-mama\tyou-blue\ttaxman\tps-i-love-you\ti-should-have-known-better\tdear-prudence\tyou-know-my-name\trevolution-1\tsoldier-love\twe-can-work-it-out\trevolution\thold-me-tight\tyoung-blood\tgood-morning-good-morning\ttill-there-was-you\tmaxwells-silver-hammer\tyes-it\ti-will\tdreamers-do\tknow-her-love-her\tno-reply\tmean-mr-mustard\told-brown-shoe\thello-goodbye\tshe-said-she-said\tcant-buy-me-love\thoney-pie\tshes-woman\tyellow-submarine-pepperland\ttwo-us\tnowhere-man\twithin-you-without-you\tfool-hill\tyou-me-too-much\tmoonlight-bay\till-get-you\tif-i-needed-someone\tsheik-araby\treal-love\tmisery\ttell-me-what-you-see\t"
     ]
    }
   ],
   "source": [
    "txt_files = os.listdir('raw_songs')\n",
    "songs_no_lyrics=[]\n",
    "for el in txt_files:\n",
    "    el=el[:-4]\n",
    "    song_path='raw_songs/'+el+'.txt'\n",
    "    try:\n",
    "        lyrics=extract_lyrics(song_path)\n",
    "        file=open('lyrics_songs/'+el+'.txt','w+')\n",
    "        file.write(lyrics)\n",
    "        file.close()\n",
    "    except:\n",
    "        songs_no_lyrics.append(el)\n",
    "        print(el, end='\\t')"
   ]
  },
  {
   "cell_type": "code",
   "execution_count": 192,
   "id": "32dd8519",
   "metadata": {},
   "outputs": [],
   "source": [
    "lyrics_files = os.listdir('lyrics_songs')\n",
    "for el in songs_no_lyrics:\n",
    "    el=el[:-4]\n",
    "    url='https://www.thebeatles.com/'\n",
    "    # check if the song has lyrics or not\n",
    "    for i in range(0,4):\n",
    "        try:\n",
    "            query=extract_html(url+el+'-'+str(i))\n",
    "            idx_init = re.search(pattern6,query).end()\n",
    "            idx_final = re.search(pattern7,query).start()\n",
    "            # rewrite the extracted text in a .txt file\n",
    "            file=open('raw_songs/'+el+'.txt','w+')\n",
    "            file.write(query)\n",
    "            file.close()\n",
    "            print(el, i)\n",
    "            break\n",
    "        except:\n",
    "            pass"
   ]
  },
  {
   "cell_type": "code",
   "execution_count": 193,
   "id": "47bba4a2",
   "metadata": {},
   "outputs": [
    {
     "data": {
      "text/plain": [
       "301"
      ]
     },
     "execution_count": 193,
     "metadata": {},
     "output_type": "execute_result"
    }
   ],
   "source": [
    "txt_files = os.listdir('raw_songs')\n",
    "songs_no_lyrics=[]\n",
    "for el in txt_files:\n",
    "    song_path='raw_songs/'+el\n",
    "    try:\n",
    "        lyrics=extract_lyrics(song_path)\n",
    "        file=open('lyrics_songs/'+el+'.txt','w+')\n",
    "        file.write(lyrics)\n",
    "        file.close()\n",
    "    except:\n",
    "        songs_no_lyrics.append(el)\n",
    "len(songs_no_lyrics)"
   ]
  },
  {
   "cell_type": "markdown",
   "id": "2e8978cb",
   "metadata": {},
   "source": [
    "### Feature: Clean lyrics files"
   ]
  },
  {
   "cell_type": "code",
   "execution_count": 90,
   "id": "bddada72",
   "metadata": {},
   "outputs": [],
   "source": [
    "from nltk.tokenize import WordPunctTokenizer\n",
    "from nltk.corpus import stopwords\n",
    "from nltk.probability import FreqDist\n",
    "\n",
    "stop_words = list(set(stopwords.words('english')))\n",
    "stop_words = [el.replace('\\'','') for el in stop_words]\n",
    "stop_words.append('im')\n",
    "\n",
    "\n",
    "def clean_lyrics(file_path):\n",
    "    data=open(file_path).read()\n",
    "    # import WordPunctTokenizer() method from nltk\n",
    "    # Create a reference variable for Class WordPunctTokenizer\n",
    "    tk = WordPunctTokenizer()\n",
    "    # define punctuation\n",
    "    punctuations = '''!()-[]{};:'\"\\,<>./?@#$%^&*_~'''\n",
    "    # remove punctuation from the string\n",
    "    no_punct = \"\"\n",
    "    for char in data:\n",
    "        if char not in punctuations:\n",
    "            no_punct = no_punct + char\n",
    "    # Remove all the special characters as \\n and single = left\n",
    "    char=['\\n','=']\n",
    "    for el in char:\n",
    "        raw=re.sub(el,'',no_punct)\n",
    "    # remove stop words\n",
    "    token_txt = tk.tokenize(raw.lower()) # set to lower case\n",
    "    token_txt = tk.tokenize(raw.lower()) # set to lower case\n",
    "    token_final = [x for x in token_txt if x not in stop_words and len(x)>2]\n",
    "    return token_final"
   ]
  },
  {
   "cell_type": "code",
   "execution_count": 91,
   "id": "99b5169a",
   "metadata": {},
   "outputs": [
    {
     "data": {
      "text/plain": [
       "203"
      ]
     },
     "execution_count": 91,
     "metadata": {},
     "output_type": "execute_result"
    }
   ],
   "source": [
    "lyrics_files=[el[:-4] for el in os.listdir('lyrics_songs')]\n",
    "lyrics_files.remove('.DS_S') # remove this element that is introduced when using os.listdir\n",
    "len(lyrics_files)"
   ]
  },
  {
   "cell_type": "markdown",
   "id": "e0e2bd0f",
   "metadata": {},
   "source": [
    "## Create network"
   ]
  },
  {
   "cell_type": "code",
   "execution_count": 96,
   "id": "f4dc20b8",
   "metadata": {},
   "outputs": [],
   "source": [
    "d_top5={}\n",
    "for file in lyrics_files:\n",
    "    path='lyrics_songs/'+file+'.txt'\n",
    "    clean=clean_lyrics(path)\n",
    "    \n",
    "    top5=[]\n",
    "    for el in FreqDist(clean).most_common(5):\n",
    "        top5.append(el[0])\n",
    "    d_top5[file]=top5"
   ]
  },
  {
   "cell_type": "code",
   "execution_count": 97,
   "id": "6ef5a164",
   "metadata": {},
   "outputs": [],
   "source": [
    "hyperlinks={} #dictionary to store links \n",
    "for file1 in lyrics_files:\n",
    "    eq_files=[]\n",
    "    for file2 in lyrics_files:\n",
    "        if file1!=file2:\n",
    "            a=d_top5[file1]\n",
    "            b=d_top5[file2]\n",
    "            # compute if there are equal words in both lists\n",
    "            eq=0\n",
    "            for el in a:\n",
    "                if el in b:\n",
    "                    eq+=1\n",
    "            if eq!=0:\n",
    "                eq_files.append(file2)\n",
    "    hyperlinks[file1]=eq_files"
   ]
  },
  {
   "cell_type": "code",
   "execution_count": 98,
   "id": "ff32afdf",
   "metadata": {},
   "outputs": [],
   "source": [
    "import networkx as nx\n",
    "#We build the Directed Network\n",
    "Beatles_nw= nx.DiGraph()\n",
    "for file in lyrics_files:\n",
    "    #We add the nodes and attributes to the the network\n",
    "    Beatles_nw.add_node(file)\n",
    "\n",
    "\n",
    "#We add the hyperlinks to the the network\n",
    "for el in lyrics_files:\n",
    "    links= hyperlinks[el]\n",
    "    for a in links:\n",
    "        u= el\n",
    "        v= a\n",
    "        Beatles_nw.add_edge(u,v)"
   ]
  },
  {
   "cell_type": "code",
   "execution_count": 99,
   "id": "2b15c780",
   "metadata": {},
   "outputs": [
    {
     "data": {
      "image/png": "[encoded data removed]",
      "text/plain": [
       "<Figure size 432x288 with 1 Axes>"
      ]
     },
     "metadata": {},
     "output_type": "display_data"
    }
   ],
   "source": [
    "nx.draw(Beatles_nw)"
   ]
  },
  {
   "cell_type": "markdown",
   "id": "e4c94f4b",
   "metadata": {},
   "source": [
    "### Extract GCC"
   ]
  },
  {
   "cell_type": "code",
   "execution_count": 100,
   "id": "06506339",
   "metadata": {},
   "outputs": [],
   "source": [
    "Gs = list(Beatles_nw.subgraph(c).copy() for c in nx.weakly_connected_components(Beatles_nw))\n",
    "biggest = 0\n",
    "GCC_index = 0\n",
    "for index,graph in enumerate(Gs):\n",
    "    if len(graph.nodes) > biggest:\n",
    "        biggest = len(graph.nodes)\n",
    "        GCC_index = index\n",
    "GCC = Gs[GCC_index]"
   ]
  },
  {
   "cell_type": "code",
   "execution_count": 101,
   "id": "b9ce14f1",
   "metadata": {},
   "outputs": [
    {
     "data": {
      "image/png": "[encoded data removed]",
      "text/plain": [
       "<Figure size 432x288 with 1 Axes>"
      ]
     },
     "metadata": {},
     "output_type": "display_data"
    }
   ],
   "source": [
    "options = {\n",
    "    'node_size': 40,\n",
    "    'width': 0.2,\n",
    "}\n",
    "nx.draw(GCC,**options)"
   ]
  },
  {
   "cell_type": "markdown",
   "id": "492fe64a",
   "metadata": {},
   "source": [
    "#### Convert to undirected network"
   ]
  },
  {
   "cell_type": "code",
   "execution_count": 102,
   "id": "6a26cc8f",
   "metadata": {},
   "outputs": [
    {
     "data": {
      "image/png": "[encoded data removed]",
      "text/plain": [
       "<Figure size 432x288 with 1 Axes>"
      ]
     },
     "metadata": {},
     "output_type": "display_data"
    }
   ],
   "source": [
    "un_Beatles_nw= GCC.to_undirected()\n",
    "\n",
    "options = {\n",
    "    'node_size': 40,\n",
    "    'width': 0.2,\n",
    "}\n",
    "nx.draw(un_Beatles_nw,**options)"
   ]
  },
  {
   "cell_type": "markdown",
   "id": "e6785727",
   "metadata": {},
   "source": [
    "Still needs to be define a criteria to link two songs. Right now the criteria is that if between the most 5 common words one is present in both songs, these songs are linked."
   ]
  },
  {
   "cell_type": "code",
   "execution_count": 127,
   "id": "c6eb338a",
   "metadata": {},
   "outputs": [
    {
     "data": {
      "text/plain": [
       "{'love-me-do': 76,\n",
       " 'my-life': 75,\n",
       " 'means-lot': 73,\n",
       " 'do-you-want-know-secret': 72,\n",
       " 'ask-me-why': 71,\n",
       " 'dreamers-do': 70,\n",
       " 'here-there-and-everywhere': 69,\n",
       " 'i-feel-fine': 69,\n",
       " 'i-dont-want-spoil-party': 68,\n",
       " 'i-should-have-known-better': 67,\n",
       " 'i-will': 67,\n",
       " 'shes-woman': 64,\n",
       " 'she-loves-you': 62,\n",
       " 'you-know-what-do': 61,\n",
       " 'end': 61,\n",
       " 'old-brown-shoe': 61,\n",
       " 'no-one': 60,\n",
       " 'dont-pass-me': 60,\n",
       " 'youve-got-hide-your-love-away': 59,\n",
       " 'cant-buy-me-love': 59,\n",
       " 'thank-you-girl': 58,\n",
       " 'things-we-said-today': 57,\n",
       " 'within-you-without-you': 57,\n",
       " 'all-you-need-love': 55,\n",
       " 'long-long-long': 54,\n",
       " 'love-you': 54,\n",
       " 'real-love': 54,\n",
       " 'if-i-fell': 53,\n",
       " 'you-blue': 53,\n",
       " 'ps-i-love-you': 53,\n",
       " 'not-second-time': 52,\n",
       " 'ill-be-back': 52,\n",
       " 'boy': 52,\n",
       " 'its-only-love': 51,\n",
       " 'step-inside-love-los-paranoias': 51,\n",
       " 'its-all-too-much': 49,\n",
       " 'if-i-needed-someone': 49,\n",
       " 'word': 48,\n",
       " 'and-i-love-her': 48,\n",
       " 'something': 47,\n",
       " 'please-please-me': 47,\n",
       " 'she-said-she-said': 47,\n",
       " 'dont-let-me-down': 46,\n",
       " 'i-call-your-name': 46,\n",
       " 'tomorrow-never-knows': 45,\n",
       " 'im-happy-just-dance-you': 45,\n",
       " 'because': 44,\n",
       " 'im-down': 44,\n",
       " 'wild-honey-pie': 44,\n",
       " 'eight-days-week': 43,\n",
       " 'im-so-tired': 43,\n",
       " 'julia': 43,\n",
       " 'every-little-thing': 41,\n",
       " 'dont-bother-me': 41,\n",
       " 'your-mother-should-know': 38,\n",
       " 'back-ussr': 38,\n",
       " 'inner-light': 37,\n",
       " 'hello-little-girl': 36,\n",
       " 'hello-goodbye': 36,\n",
       " 'yesterday': 35,\n",
       " 'polythene-pam': 35,\n",
       " 'ballad-john-and-yoko': 35,\n",
       " 'another-girl': 33,\n",
       " 'savoy-truffle': 33,\n",
       " 'taxman': 33,\n",
       " 'we-can-work-it-out': 33,\n",
       " 'ill-get-you': 33,\n",
       " 'yer-blues': 32,\n",
       " 'and-your-bird-can-sing': 32,\n",
       " 'while-my-guitar-gently-weeps': 31,\n",
       " 'you-know-my-name': 31,\n",
       " 'i-want-tell-you': 30,\n",
       " 'spite-all-danger': 30,\n",
       " 'not-guilty': 30,\n",
       " 'tell-me-what-you-see': 30,\n",
       " 'ill-cry-instead': 29,\n",
       " 'ive-got-feeling': 29,\n",
       " 'dear-prudence': 29,\n",
       " 'come-together': 28,\n",
       " 'got-get-you-my-life': 27,\n",
       " 'all-ive-got-do': 27,\n",
       " 'little-child': 27,\n",
       " 'run-your-life': 27,\n",
       " 'you-me-too-much': 27,\n",
       " 'misery': 27,\n",
       " 'you-cant-do': 26,\n",
       " 'devil-her-heart': 26,\n",
       " 'you-wont-see-me': 26,\n",
       " 'any-time-all': 25,\n",
       " 'all-my-loving': 25,\n",
       " 'i-wanna-be-your-man': 25,\n",
       " 'fool-hill': 25,\n",
       " 'it-wont-be-long': 24,\n",
       " 'baby-youre-rich-man': 24,\n",
       " 'good-morning-good-morning': 24,\n",
       " 'us-you': 23,\n",
       " 'youre-going-lose-girl': 23,\n",
       " 'she-came-through-bathroom-window': 23,\n",
       " 'dig-pony': 23,\n",
       " 'oh-darling': 23,\n",
       " 'night': 23,\n",
       " 'wait': 23,\n",
       " 'i-need-you': 22,\n",
       " 'me-you': 22,\n",
       " 'girl': 22,\n",
       " 'honey-dont': 22,\n",
       " 'paperback-writer': 22,\n",
       " 'helter-skelter': 22,\n",
       " 'get-back': 21,\n",
       " 'think-yourself': 21,\n",
       " 'honey-pie': 21,\n",
       " 'ill-follow-sun': 20,\n",
       " 'ive-just-seen-face': 20,\n",
       " 'golden-slumbers': 20,\n",
       " 'i-am-walrus': 20,\n",
       " 'blue-jay-way': 20,\n",
       " 'what-youre-doing': 19,\n",
       " 'lady-madonna': 19,\n",
       " 'help': 19,\n",
       " 'come-and-get-it': 19,\n",
       " 'two-us': 19,\n",
       " 'day-tripper': 18,\n",
       " 'you-never-give-me-your-money': 18,\n",
       " 'long-and-winding-road': 17,\n",
       " 'across-universe': 17,\n",
       " 'martha-my-dear': 16,\n",
       " 'eleanor-rigby': 16,\n",
       " 'matchbox': 16,\n",
       " 'one-after-909': 15,\n",
       " 'when-i-get-home': 15,\n",
       " 'i-want-hold-your-hand': 15,\n",
       " 'if-youve-got-trouble': 15,\n",
       " 'little-help-my-friends': 15,\n",
       " 'glass-onion': 15,\n",
       " 'carry-weight': 15,\n",
       " 'yes-it': 15,\n",
       " 'everybodys-got-something-hide-except-me-and-my-monkey': 14,\n",
       " 'good-day-sunshine': 14,\n",
       " 'theres-place': 14,\n",
       " 'cry-baby-cry': 14,\n",
       " 'hey-jude': 14,\n",
       " 'norwegian-wood-bird-has-flown': 14,\n",
       " 'everybodys-trying-be-my-baby': 14,\n",
       " 'lucy-sky-diamonds': 14,\n",
       " 'tell-me-why': 13,\n",
       " 'good-night': 13,\n",
       " 'birthday': 13,\n",
       " 'her-majesty': 12,\n",
       " 'fixing-hole': 12,\n",
       " 'octopuss-garden': 12,\n",
       " 'i-want-you': 12,\n",
       " 'sie-liebt-dich': 12,\n",
       " 'dig-it': 12,\n",
       " 'teddy-boy': 12,\n",
       " 'hold-me-tight': 12,\n",
       " 'ticket-ride': 11,\n",
       " 'penny-lane': 11,\n",
       " 'strawberry-fields-forever': 10,\n",
       " 'magical-mystery-tour': 10,\n",
       " 'getting-better': 10,\n",
       " 'rocky-raccoon': 10,\n",
       " 'here-comes-sun': 10,\n",
       " 'i-saw-her-standing-there': 10,\n",
       " 'nowhere-man': 10,\n",
       " 'why-dont-we-do-it-road': 9,\n",
       " 'all-things-must-pass': 9,\n",
       " 'rain': 9,\n",
       " 'what-goes': 8,\n",
       " 'lovely-rita': 8,\n",
       " 'piggies': 7,\n",
       " 'youll-be-mine': 7,\n",
       " 'blackbird': 7,\n",
       " 'when-im-sixty-four': 7,\n",
       " 'drive-my-car': 7,\n",
       " 'no-reply': 7,\n",
       " 'mean-mr-mustard': 7,\n",
       " 'only-northern-song': 6,\n",
       " 'i-me-mine': 6,\n",
       " 'doctor-robert': 6,\n",
       " 'im-only-sleeping': 5,\n",
       " 'shes-leaving-home': 5,\n",
       " 'free-bird': 5,\n",
       " 'hey-bulldog': 5,\n",
       " 'let-it-be': 4,\n",
       " 'babys-black': 4,\n",
       " 'sun-king': 4,\n",
       " 'continuing-story-bungalow-bill': 4,\n",
       " 'mother-natures-son': 3,\n",
       " 'junk': 3,\n",
       " 'happiness-warm-gun': 3,\n",
       " 'ob-la-di-ob-la-da': 3,\n",
       " 'im-loser': 2,\n",
       " 'sgt-peppers-lonely-hearts-club-band-reprise': 2,\n",
       " 'sgt-peppers-lonely-hearts-club-band': 2,\n",
       " 'im-looking-through-you': 2,\n",
       " 'being-benefit-mr-kite': 2,\n",
       " 'sexy-sadie': 2,\n",
       " 'maggie-mae': 1,\n",
       " 'komm-gib-mir-deine-hand': 1,\n",
       " 'whats-new-mary-jane': 1,\n",
       " 'yellow-submarine': 1}"
      ]
     },
     "execution_count": 127,
     "metadata": {},
     "output_type": "execute_result"
    }
   ],
   "source": [
    "Sorted_degree=dict(sorted(un_Beatles_nw.degree, key=lambda x: x[1], reverse=True))\n",
    "Sorted_degree"
   ]
  },
  {
   "cell_type": "code",
   "execution_count": 104,
   "id": "60cfc6b4",
   "metadata": {},
   "outputs": [
    {
     "data": {
      "text/plain": [
       "['make', 'love', 'see', 'pass', 'cry']"
      ]
     },
     "execution_count": 104,
     "metadata": {},
     "output_type": "execute_result"
    }
   ],
   "source": [
    "d_top5['dont-pass-me']"
   ]
  },
  {
   "cell_type": "code",
   "execution_count": 105,
   "id": "3b4a1aae",
   "metadata": {},
   "outputs": [
    {
     "data": {
      "text/plain": [
       "['love', 'know', 'ill', 'always', 'true']"
      ]
     },
     "execution_count": 105,
     "metadata": {},
     "output_type": "execute_result"
    }
   ],
   "source": [
    "d_top5['love-me-do']"
   ]
  },
  {
   "cell_type": "code",
   "execution_count": 106,
   "id": "4665b22a",
   "metadata": {},
   "outputs": [
    {
     "data": {
      "text/plain": [
       "['know', 'said', 'love', 'feel', 'fine']"
      ]
     },
     "execution_count": 106,
     "metadata": {},
     "output_type": "execute_result"
    }
   ],
   "source": [
    "d_top5['i-feel-fine']"
   ]
  },
  {
   "cell_type": "code",
   "execution_count": 107,
   "id": "3b7ea144",
   "metadata": {},
   "outputs": [
    {
     "data": {
      "text/plain": [
       "['yellow', 'submarine', 'live', 'sea', 'lived']"
      ]
     },
     "execution_count": 107,
     "metadata": {},
     "output_type": "execute_result"
    }
   ],
   "source": [
    "d_top5['yellow-submarine']"
   ]
  },
  {
   "cell_type": "markdown",
   "id": "cdfe98a7",
   "metadata": {},
   "source": [
    "#### Plot degree distribution"
   ]
  },
  {
   "cell_type": "code",
   "execution_count": 131,
   "id": "92aa8189",
   "metadata": {},
   "outputs": [
    {
     "data": {
      "image/png": "[encoded data removed]",
      "text/plain": [
       "<Figure size 432x288 with 1 Axes>"
      ]
     },
     "metadata": {
      "needs_background": "light"
     },
     "output_type": "display_data"
    }
   ],
   "source": [
    "import matplotlib.pyplot as plt\n",
    "import numpy as np\n",
    "#FROM UNDIRECTED TO DIRECTED GRAPH:\n",
    "un_Beatles_nw= GCC.to_undirected()\n",
    "all_degrees=[]\n",
    "\n",
    "#Obtenition of degree \n",
    "for deg in un_Beatles_nw.degree():\n",
    "    all_degrees.append(deg[1])\n",
    "    \n",
    "#Zoom in\n",
    "v = np.arange(int(min(all_degrees)),max(Sorted_degree.values()))\n",
    "count,bins=np.histogram(all_degrees,bins=v)\n",
    "plt.bar(bins[:-1], count)\n",
    "plt.title('Zoom in: Degree distribution of the undirected graph',fontsize=13)\n",
    "plt.xlabel('Degree',fontsize=12)\n",
    "plt.ylabel('Counts',fontsize=12)\n",
    "plt.show() "
   ]
  },
  {
   "cell_type": "markdown",
   "id": "d5c7f2f2",
   "metadata": {},
   "source": [
    "## Find communities"
   ]
  },
  {
   "cell_type": "code",
   "execution_count": 132,
   "id": "610e1a92",
   "metadata": {},
   "outputs": [
    {
     "data": {
      "image/png": "[encoded data removed]",
      "text/plain": [
       "<Figure size 432x288 with 1 Axes>"
      ]
     },
     "metadata": {},
     "output_type": "display_data"
    }
   ],
   "source": [
    "import community.community_louvain\n",
    "import matplotlib.cm as cm\n",
    "import matplotlib.pyplot as plt\n",
    "import networkx as nx\n",
    "\n",
    "# compute the best partition\n",
    "partition = community.community_louvain.best_partition(un_Beatles_nw)\n",
    "\n",
    "# draw the graph\n",
    "pos = nx.spring_layout(un_Beatles_nw)\n",
    "# color the nodes according to their partition\n",
    "cmap = cm.get_cmap('viridis', max(partition.values()) + 1)\n",
    "nx.draw_networkx_nodes(un_Beatles_nw, pos, partition.keys(), node_size=20,\n",
    "                       cmap=cmap, node_color=list(partition.values()))\n",
    "nx.draw_networkx_edges(un_Beatles_nw, pos, alpha=0.5)\n",
    "plt.show()"
   ]
  },
  {
   "cell_type": "code",
   "execution_count": 133,
   "id": "28d849b8",
   "metadata": {},
   "outputs": [
    {
     "name": "stdout",
     "output_type": "stream",
     "text": [
      "Number of communities found:  6\n"
     ]
    }
   ],
   "source": [
    "print('Number of communities found: ', len(np.unique(list(partition.values()))))"
   ]
  },
  {
   "cell_type": "code",
   "execution_count": 135,
   "id": "6373a1d3",
   "metadata": {},
   "outputs": [
    {
     "name": "stdout",
     "output_type": "stream",
     "text": [
      "Modularity: 0.3224\n"
     ]
    }
   ],
   "source": [
    "print('Modularity:', np.round(community.community_louvain.modularity(partition,un_Beatles_nw),4))"
   ]
  },
  {
   "cell_type": "code",
   "execution_count": 138,
   "id": "37693d44",
   "metadata": {},
   "outputs": [
    {
     "data": {
      "text/plain": [
       "[26, 43, 17, 70, 5, 40]"
      ]
     },
     "execution_count": 138,
     "metadata": {},
     "output_type": "execute_result"
    }
   ],
   "source": [
    "# we compute the number of characters in every community in order to find the top 5\n",
    "communities_d=dict.fromkeys(list(range(0,len(np.unique(list(partition.values()))))))\n",
    "for i in range(0,len(np.unique(list(partition.values())))):\n",
    "    l=[]\n",
    "    for el in partition:\n",
    "        if partition[el]==i:\n",
    "            l.append(el)\n",
    "    communities_d[i]=l\n",
    "    \n",
    "size_communities=[len(x) for x in communities_d.values()]\n",
    "\n",
    "size_communities"
   ]
  },
  {
   "cell_type": "markdown",
   "id": "96cfcb7a",
   "metadata": {},
   "source": [
    "Extract the most common words for each community"
   ]
  },
  {
   "cell_type": "code",
   "execution_count": 167,
   "id": "26436cce",
   "metadata": {},
   "outputs": [
    {
     "data": {
      "text/plain": [
       "['strawberry-fields-forever',\n",
       " 'let-it-be',\n",
       " 'hey-jude',\n",
       " 'hey-bulldog',\n",
       " 'continuing-story-bungalow-bill']"
      ]
     },
     "execution_count": 167,
     "metadata": {},
     "output_type": "execute_result"
    }
   ],
   "source": [
    "communities_d[4]"
   ]
  },
  {
   "cell_type": "markdown",
   "id": "47a79094",
   "metadata": {},
   "source": [
    "Most common words in each community (counting the time each word appears)"
   ]
  },
  {
   "cell_type": "code",
   "execution_count": 166,
   "id": "c155b3c1",
   "metadata": {},
   "outputs": [
    {
     "name": "stdout",
     "output_type": "stream",
     "text": [
      "[('know', 182), ('say', 53), ('name', 42), ('hello', 33), ('hand', 26)]\n",
      "[('love', 348), ('know', 78), ('cant', 47), ('need', 45), ('say', 44)]\n",
      "[('see', 74), ('ooh', 35), ('time', 32), ('better', 32), ('goo', 21)]\n",
      "[('got', 95), ('baby', 86), ('girl', 84), ('come', 75), ('home', 61)]\n",
      "[('let', 38), ('hey', 19), ('bill', 17), ('bungalow', 16), ('strawberry', 13)]\n",
      "[('yeah', 128), ('ill', 81), ('want', 72), ('long', 48), ('well', 42)]\n"
     ]
    }
   ],
   "source": [
    "for idx in communities_d:\n",
    "    community_words=[]\n",
    "    for el in communities_d[idx]:\n",
    "        path='lyrics_songs/'+el+'.txt'\n",
    "        clean=clean_lyrics(path)\n",
    "        for word in clean:\n",
    "            community_words.append(word)\n",
    "    print(FreqDist(community_words).most_common(5))"
   ]
  },
  {
   "cell_type": "markdown",
   "id": "0945b9ac",
   "metadata": {},
   "source": [
    "Most common words in each community (counting the number of song a word appear)"
   ]
  },
  {
   "cell_type": "code",
   "execution_count": 173,
   "id": "91dd912a",
   "metadata": {},
   "outputs": [
    {
     "name": "stdout",
     "output_type": "stream",
     "text": [
      "size: 26\n",
      "[('know', 20), ('like', 9), ('man', 8), ('say', 7), ('yes', 7)]\n",
      "size: 43\n",
      "[('love', 43), ('know', 27), ('see', 18), ('want', 15), ('say', 13)]\n",
      "size: 17\n",
      "[('see', 14), ('get', 8), ('time', 8), ('day', 7), ('never', 7)]\n",
      "size: 70\n",
      "[('know', 24), ('got', 23), ('time', 22), ('way', 20), ('love', 20)]\n",
      "size: 5\n",
      "[('know', 3), ('let', 3), ('right', 3), ('hey', 3), ('always', 2)]\n",
      "size: 40\n",
      "[('ill', 18), ('want', 17), ('know', 15), ('like', 15), ('see', 13)]\n"
     ]
    }
   ],
   "source": [
    "for idx in communities_d:\n",
    "    community_words=[]\n",
    "    for el in communities_d[idx]:\n",
    "        path='lyrics_songs/'+el+'.txt'\n",
    "        clean=clean_lyrics(path)\n",
    "        unique=list(np.unique(clean))\n",
    "        for word in unique:\n",
    "            community_words.append(word)\n",
    "    print('size:' ,size_communities[idx])\n",
    "    print(FreqDist(community_words).most_common(5))"
   ]
  },
  {
   "cell_type": "markdown",
   "id": "a1890f48",
   "metadata": {},
   "source": [
    "### Feature: most common words of a given community (times a song contains a word)"
   ]
  },
  {
   "cell_type": "code",
   "execution_count": 184,
   "id": "a2f61663",
   "metadata": {},
   "outputs": [
    {
     "data": {
      "text/plain": [
       "[('know', 20), ('like', 9), ('man', 8), ('say', 7), ('yes', 7)]"
      ]
     },
     "execution_count": 184,
     "metadata": {},
     "output_type": "execute_result"
    }
   ],
   "source": [
    "def community_words(community):\n",
    "    community_words=[]\n",
    "    for el in community:\n",
    "        path='lyrics_songs/'+el+'.txt'\n",
    "        clean=clean_lyrics(path)\n",
    "        unique=list(np.unique(clean))\n",
    "        for word in unique:\n",
    "            community_words.append(word)\n",
    "    return FreqDist(community_words).most_common(5)\n",
    "\n",
    "community_words(communities_d[0])"
   ]
  },
  {
   "cell_type": "markdown",
   "id": "62193090",
   "metadata": {},
   "source": [
    "### Feature: introduce a famous song and find in which community it belongs"
   ]
  },
  {
   "cell_type": "code",
   "execution_count": 185,
   "id": "0c3599cd",
   "metadata": {},
   "outputs": [
    {
     "data": {
      "text/plain": [
       "4"
      ]
     },
     "execution_count": 185,
     "metadata": {},
     "output_type": "execute_result"
    }
   ],
   "source": [
    "def song_community(song):\n",
    "    i=0\n",
    "    for idx in communities_d:\n",
    "        if song in communities_d[i]:\n",
    "            return i\n",
    "        i+=1\n",
    "        \n",
    "song_community('let-it-be')"
   ]
  },
  {
   "cell_type": "code",
   "execution_count": 186,
   "id": "75165d25",
   "metadata": {},
   "outputs": [
    {
     "data": {
      "text/plain": [
       "[('know', 3), ('let', 3), ('right', 3), ('hey', 3), ('always', 2)]"
      ]
     },
     "execution_count": 186,
     "metadata": {},
     "output_type": "execute_result"
    }
   ],
   "source": [
    "community_words(communities_d[song_community('let-it-be')])"
   ]
  },
  {
   "cell_type": "markdown",
   "id": "c8a78758",
   "metadata": {},
   "source": [
    "## VADER sentimental analysis"
   ]
  },
  {
   "cell_type": "code",
   "execution_count": 187,
   "id": "744a297c",
   "metadata": {},
   "outputs": [],
   "source": [
    "from vaderSentiment.vaderSentiment import SentimentIntensityAnalyzer"
   ]
  },
  {
   "cell_type": "code",
   "execution_count": null,
   "id": "c43479c5",
   "metadata": {},
   "outputs": [],
   "source": [
    "sentenceDic = {}\n",
    "for name in dialogues:\n",
    "    sentenceDic[name] = []\n",
    "    for line in dialogues[name]:\n",
    "        sentence = re.split(r'[.!?]+ *',line)\n",
    "        sentenceDic[name].extend(sentence)"
   ]
  },
  {
   "cell_type": "code",
   "execution_count": 194,
   "id": "92f05b6c",
   "metadata": {},
   "outputs": [
    {
     "data": {
      "text/plain": [
       "\"Well darling all the night  You'll be mine and I know  You'll be mine until you die  You'll be mine   And so  (And so)  All the night  (All the night)  You'll be mine  (You'll be mine)  You'll be mine  And the stars  (And the stars)  Always shine  (Always shine)  You'll be mine   My darling, when you brought me  That toast the other morning  I, I looked into your eyes  And I could see a nice little healthy eyeball  And I loved you like I never done  Like I've never done before!   And the stars  (And the stars)  Always shine  (Always shine)  And you'll be mine  [Incomprehensible] you'll be mine  You'll be mine  At the start  (At the start)  Oh yes, you'll be   \""
      ]
     },
     "execution_count": 194,
     "metadata": {},
     "output_type": "execute_result"
    }
   ],
   "source": [
    "file=open('lyrics_songs/youll-be-mine.txt').read()\n",
    "file"
   ]
  },
  {
   "cell_type": "code",
   "execution_count": 221,
   "id": "ec42b38c",
   "metadata": {},
   "outputs": [
    {
     "name": "stdout",
     "output_type": "stream",
     "text": [
      "You'll be mine and I know.\n",
      "You'll be mine until you die.\n",
      "You'll be mine.\n",
      " And so.\n",
      "(And so).\n",
      "All the night.\n",
      "(All the night).\n",
      "You'll be mine.\n",
      "(You'll be mine).\n",
      "You'll be mine.\n",
      "And the stars.\n",
      "(And the stars).\n",
      "Always shine.\n",
      "(Always shine).\n",
      "You'll be mine.\n",
      " My darling, when you brought me.\n",
      "That toast the other morning.\n",
      "I, I looked into your eyes.\n",
      "And I could see a nice little healthy eyeball.\n",
      "And I loved you like I never done.\n",
      "Like I've never done before!.\n",
      " And the stars.\n",
      "(And the stars).\n",
      "Always shine.\n",
      "(Always shine).\n",
      "And you'll be mine.\n",
      "[Incomprehensible] you'll be mine.\n",
      "You'll be mine.\n",
      "At the start.\n",
      "(At the start).\n",
      "Oh yes, you'll be.\n"
     ]
    }
   ],
   "source": [
    "sentences=[]\n",
    "index=[(m.start(0), m.end(0)) for m in re.finditer('  ',file)]\n",
    "for i in range(0,len(index)-1):\n",
    "    a=file[index[i][1]:index[i+1][0]]\n",
    "    sentences.append(a)"
   ]
  },
  {
   "cell_type": "code",
   "execution_count": 227,
   "id": "d4aff7bf",
   "metadata": {},
   "outputs": [
    {
     "data": {
      "text/plain": [
       "{'neg': 0.0, 'neu': 0.526, 'pos': 0.474, 'compound': 0.4019}"
      ]
     },
     "execution_count": 227,
     "metadata": {},
     "output_type": "execute_result"
    }
   ],
   "source": [
    "vs['compound']"
   ]
  },
  {
   "cell_type": "code",
   "execution_count": 238,
   "id": "00531955",
   "metadata": {
    "scrolled": true
   },
   "outputs": [
    {
     "data": {
      "text/plain": [
       "0.07086129032258064"
      ]
     },
     "execution_count": 238,
     "metadata": {},
     "output_type": "execute_result"
    }
   ],
   "source": [
    "def song_Vader(song):\n",
    "    # extract sentence of each song\n",
    "    sentences=[]\n",
    "    index=[(m.start(0), m.end(0)) for m in re.finditer('  ',file)]\n",
    "    for i in range(0,len(index)-1):\n",
    "        a=file[index[i][1]:index[i+1][0]]\n",
    "        sentences.append(a)\n",
    "    # compute sentiment analysis for sentence\n",
    "    analyzer = SentimentIntensityAnalyzer()\n",
    "    compound1=[]\n",
    "    compound2=[]\n",
    "    for sentence in sentences:\n",
    "        vs = analyzer.polarity_scores(sentence)\n",
    "        # take every sentence value (more robust)\n",
    "        compound1.append(vs['compound'])\n",
    "        # take just the sentences that are not neutral\n",
    "        if vs['compound']!=0:\n",
    "            compound2.append(vs['compound'])\n",
    "        # print(\"{:-<65} {}\".format(sentence, str(vs)))\n",
    "    return np.mean(compound1),np.mean(compound2)\n",
    "\n",
    "song_Vader('youll-be-mine')[0]"
   ]
  },
  {
   "cell_type": "code",
   "execution_count": 241,
   "id": "e5a57bfa",
   "metadata": {},
   "outputs": [
    {
     "name": "stdout",
     "output_type": "stream",
     "text": [
      "None\n",
      "None\n",
      "None\n",
      "None\n",
      "None\n",
      "None\n",
      "None\n",
      "None\n",
      "None\n",
      "None\n",
      "None\n",
      "None\n",
      "None\n",
      "None\n",
      "None\n",
      "None\n",
      "None\n",
      "None\n",
      "None\n",
      "None\n",
      "None\n",
      "None\n",
      "None\n",
      "None\n",
      "None\n",
      "None\n",
      "0.07086129032258064\n",
      "None\n",
      "None\n",
      "None\n",
      "None\n",
      "None\n",
      "None\n",
      "None\n",
      "None\n",
      "None\n",
      "None\n",
      "None\n",
      "None\n",
      "None\n",
      "None\n",
      "None\n",
      "None\n",
      "None\n",
      "None\n",
      "None\n",
      "None\n",
      "None\n",
      "None\n",
      "None\n",
      "None\n",
      "None\n",
      "None\n",
      "None\n",
      "None\n",
      "None\n",
      "None\n",
      "None\n",
      "None\n",
      "None\n",
      "None\n",
      "None\n",
      "None\n",
      "None\n",
      "None\n",
      "None\n",
      "None\n",
      "None\n",
      "None\n",
      "None\n",
      "0.07086129032258062\n",
      "None\n",
      "None\n",
      "None\n",
      "None\n",
      "None\n",
      "None\n",
      "None\n",
      "None\n",
      "None\n",
      "None\n",
      "None\n",
      "None\n",
      "None\n",
      "None\n",
      "None\n",
      "None\n",
      "None\n",
      "0.07086129032258064\n",
      "None\n",
      "None\n",
      "None\n",
      "None\n",
      "None\n",
      "None\n",
      "None\n",
      "None\n",
      "None\n",
      "None\n",
      "None\n",
      "None\n",
      "None\n",
      "None\n",
      "None\n",
      "None\n",
      "None\n",
      "None\n",
      "None\n",
      "None\n",
      "None\n",
      "None\n",
      "None\n",
      "None\n",
      "None\n",
      "None\n",
      "None\n",
      "None\n",
      "None\n",
      "None\n",
      "None\n",
      "None\n",
      "None\n",
      "None\n",
      "None\n",
      "None\n",
      "None\n",
      "None\n",
      "None\n",
      "None\n",
      "None\n",
      "None\n",
      "None\n",
      "None\n",
      "None\n",
      "None\n",
      "None\n",
      "None\n",
      "None\n",
      "None\n",
      "None\n",
      "None\n",
      "None\n",
      "None\n",
      "None\n",
      "None\n",
      "None\n",
      "None\n",
      "None\n",
      "None\n",
      "None\n",
      "None\n",
      "None\n",
      "None\n",
      "None\n",
      "None\n",
      "None\n",
      "None\n",
      "None\n",
      "None\n",
      "0.07086129032258066\n",
      "None\n",
      "None\n",
      "None\n",
      "None\n",
      "None\n",
      "0.07086129032258064\n",
      "None\n",
      "None\n",
      "None\n",
      "None\n",
      "None\n",
      "None\n",
      "None\n",
      "None\n",
      "None\n",
      "None\n",
      "None\n",
      "None\n",
      "None\n",
      "None\n",
      "None\n",
      "None\n",
      "None\n",
      "None\n",
      "None\n",
      "None\n",
      "None\n",
      "None\n",
      "None\n",
      "None\n",
      "None\n",
      "None\n",
      "None\n",
      "None\n",
      "None\n",
      "None\n",
      "None\n",
      "None\n",
      "None\n",
      "None\n",
      "None\n",
      "None\n",
      "None\n",
      "None\n",
      "None\n",
      "None\n",
      "0.07086129032258064\n"
     ]
    }
   ],
   "source": [
    "for idx in communities_d:\n",
    "    compound1=[]\n",
    "    compound2=[]\n",
    "    for el in communities_d[idx]:\n",
    "        print(compound1.append(song_Vader(el)[0]))\n",
    "        compound2.append(song_Vader(el)[1])\n",
    "    print(np.mean(compound1))"
   ]
  },
  {
   "cell_type": "code",
   "execution_count": null,
   "id": "368ab3a7",
   "metadata": {},
   "outputs": [],
   "source": [
    "sentenceDic = {}\n",
    "for name in dialogues:\n",
    "    sentenceDic[name] = []\n",
    "    for line in dialogues[name]:\n",
    "        sentence = re.split(r'[.!?]+ *',line)\n",
    "        sentenceDic[name].extend(sentence)"
   ]
  },
  {
   "cell_type": "code",
   "execution_count": 223,
   "id": "32f801c9",
   "metadata": {},
   "outputs": [],
   "source": [
    "def sentiment_score_VADER(sentence):\n",
    "    sentiment_dict = sid_obj.polarity_scores(sentence)\n",
    "    return sentiment_dict['compound']"
   ]
  },
  {
   "cell_type": "code",
   "execution_count": 224,
   "id": "4166b7b1",
   "metadata": {},
   "outputs": [
    {
     "ename": "NameError",
     "evalue": "name 'sid_obj' is not defined",
     "output_type": "error",
     "traceback": [
      "\u001b[0;31m---------------------------------------------------------------------------\u001b[0m",
      "\u001b[0;31mNameError\u001b[0m                                 Traceback (most recent call last)",
      "\u001b[0;32m/var/folders/sl/1xwn2w1j4x7c2rxkc6cdlnrh0000gn/T/ipykernel_80094/2922932878.py\u001b[0m in \u001b[0;36m<module>\u001b[0;34m\u001b[0m\n\u001b[0;32m----> 1\u001b[0;31m \u001b[0msentiment_score_VADER\u001b[0m\u001b[0;34m(\u001b[0m\u001b[0;34m'Oh yes, you\\'ll be.'\u001b[0m\u001b[0;34m)\u001b[0m\u001b[0;34m\u001b[0m\u001b[0;34m\u001b[0m\u001b[0m\n\u001b[0m",
      "\u001b[0;32m/var/folders/sl/1xwn2w1j4x7c2rxkc6cdlnrh0000gn/T/ipykernel_80094/3024877794.py\u001b[0m in \u001b[0;36msentiment_score_VADER\u001b[0;34m(sentence)\u001b[0m\n\u001b[1;32m      1\u001b[0m \u001b[0;32mdef\u001b[0m \u001b[0msentiment_score_VADER\u001b[0m\u001b[0;34m(\u001b[0m\u001b[0msentence\u001b[0m\u001b[0;34m)\u001b[0m\u001b[0;34m:\u001b[0m\u001b[0;34m\u001b[0m\u001b[0;34m\u001b[0m\u001b[0m\n\u001b[0;32m----> 2\u001b[0;31m     \u001b[0msentiment_dict\u001b[0m \u001b[0;34m=\u001b[0m \u001b[0msid_obj\u001b[0m\u001b[0;34m.\u001b[0m\u001b[0mpolarity_scores\u001b[0m\u001b[0;34m(\u001b[0m\u001b[0msentence\u001b[0m\u001b[0;34m)\u001b[0m\u001b[0;34m\u001b[0m\u001b[0;34m\u001b[0m\u001b[0m\n\u001b[0m\u001b[1;32m      3\u001b[0m     \u001b[0;32mreturn\u001b[0m \u001b[0msentiment_dict\u001b[0m\u001b[0;34m[\u001b[0m\u001b[0;34m'compound'\u001b[0m\u001b[0;34m]\u001b[0m\u001b[0;34m\u001b[0m\u001b[0;34m\u001b[0m\u001b[0m\n",
      "\u001b[0;31mNameError\u001b[0m: name 'sid_obj' is not defined"
     ]
    }
   ],
   "source": [
    "sentiment_score_VADER('Oh yes, you\\'ll be.')"
   ]
  },
  {
   "cell_type": "code",
   "execution_count": 237,
   "id": "1f6f4699",
   "metadata": {},
   "outputs": [
    {
     "name": "stdout",
     "output_type": "stream",
     "text": [
      "0\n",
      "1\n",
      "2\n",
      "3\n",
      "4\n",
      "5\n"
     ]
    }
   ],
   "source": [
    "for idx in communities_d:\n",
    "    for el in communities_d[idx]:\n",
    "        "
   ]
  },
  {
   "cell_type": "code",
   "execution_count": null,
   "id": "36c99686",
   "metadata": {},
   "outputs": [],
   "source": []
  }
 ],
 "metadata": {
  "kernelspec": {
   "display_name": "Python 3 (ipykernel)",
   "language": "python",
   "name": "python3"
  },
  "language_info": {
   "codemirror_mode": {
    "name": "ipython",
    "version": 3
   },
   "file_extension": ".py",
   "mimetype": "text/x-python",
   "name": "python",
   "nbconvert_exporter": "python",
   "pygments_lexer": "ipython3",
   "version": "3.7.11"
  }
 },
 "nbformat": 4,
 "nbformat_minor": 5
}
