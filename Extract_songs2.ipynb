{
 "cells": [
  {
   "cell_type": "code",
   "execution_count": 2,
   "id": "2af31560",
   "metadata": {},
   "outputs": [],
   "source": [
    "def extract_html(url):\n",
    "    page = urlopen(url)\n",
    "    html_bytes = page.read()\n",
    "    html = html_bytes.decode(\"utf-8\")\n",
    "    return html"
   ]
  },
  {
   "cell_type": "code",
   "execution_count": 304,
   "id": "9dc53627",
   "metadata": {},
   "outputs": [],
   "source": [
    "def convert_title(title):\n",
    "    remove_list=[' a ',' in ',' the ',' of ',' to ',' is ',' at ',' for ',' that ',' by ',' as ',' from ',' into ',\n",
    "             ' on ',' with ',' off ',' this ',' up ',' like ']\n",
    "    remove_list_start=['a-','in-','the-','of-','to-','is-','at-','for-','that-','by-','as-','from-','like-','this-',\n",
    "                      'with-']\n",
    "    remove_list_end=['-by','-to','-on','-is','-that','-before']\n",
    "    remove_list2=['\\'','.','!','(',')',',','/',':']\n",
    "\n",
    "    suffix_list=['th ','st ','nd ','rd ']\n",
    "\n",
    "    title=title.lower()\n",
    "    for el in remove_list2: # delete special characters\n",
    "        title=title.replace(el,'')\n",
    "    for el in remove_list: # replace single words with a space\n",
    "        title=title.replace(el,' ')\n",
    "    title=title.replace(' ','-')\n",
    "    title=title.replace('--','-')\n",
    "    # delete words from the start\n",
    "    for i in range(0,6):\n",
    "        if title[:i] in remove_list_start:\n",
    "            title=title[i:]\n",
    "    # delete words end\n",
    "    for i in range(0,8):\n",
    "        if title[-i:] in remove_list_end:\n",
    "            title=title[:-i]\n",
    "    if title[0]=='-':\n",
    "        title=title[1:]\n",
    "    return title"
   ]
  },
  {
   "cell_type": "code",
   "execution_count": 3,
   "id": "ca7c5c22",
   "metadata": {},
   "outputs": [
    {
     "data": {
      "text/plain": [
       "['12-Bar Original',\n",
       " '1822!',\n",
       " 'A Beginning',\n",
       " 'A Day In The Life',\n",
       " \"A Hard Day's Night\",\n",
       " 'A Little Rhyme',\n",
       " 'A Shot Of Rhythm And Blues',\n",
       " 'A Taste Of Honey',\n",
       " 'Across The Universe',\n",
       " 'Act Naturally']"
      ]
     },
     "execution_count": 3,
     "metadata": {},
     "output_type": "execute_result"
    }
   ],
   "source": [
    "import re\n",
    "from urllib.request import urlopen\n",
    "\n",
    "pattern1= 'hreflang=\"en\">(.*?)</a>'\n",
    "songs_titles=[]\n",
    "for i in range(0,9):\n",
    "    url = 'https://www.thebeatles.com/songs?page='+str(i)\n",
    "    html=extract_html(url)\n",
    "    a=re.findall(pattern1,html)\n",
    "    for el in a:\n",
    "        el=el.replace('&#039;', '\\'')\n",
    "        songs_titles.append(el)\n",
    "songs_titles[0:10]"
   ]
  },
  {
   "cell_type": "code",
   "execution_count": null,
   "id": "8986f63a",
   "metadata": {},
   "outputs": [],
   "source": [
    "import urllib.request as urllib2\n",
    "\n",
    "remove_list=[' a ',' in ',' the ',' of ',' to ',' is ',' at ',' for ',' that ',' by ',' as ',' from ',' into ',\n",
    "             ' on ',' with ',' off ',' this ',' up ',' like ']\n",
    "remove_list_start=['a-','in-','the-','of-','to-','is-','at-','for-','that-','by-','as-','from-','like-','this-',\n",
    "                  'with-']\n",
    "remove_list_end=['-by','-to','-on','-is','-that','-before']\n",
    "remove_list2=['\\'','.','!','(',')',',','/',':']\n",
    "\n",
    "for title in songs_titles:\n",
    "    try:\n",
    "        title=title.lower()\n",
    "        for el in remove_list2: # delete special characters\n",
    "            title=title.replace(el,'')\n",
    "        for el in remove_list: # replace single words with a space\n",
    "            title=title.replace(el,' ')\n",
    "        title=title.replace(' ','-')\n",
    "        title=title.replace('--','-')\n",
    "        # delete words from the start\n",
    "        for i in range(0,6):\n",
    "            if title[:i] in remove_list_start:\n",
    "                title=title[i:]\n",
    "        # delete words end\n",
    "        for i in range(0,8):\n",
    "            if title[-i:] in remove_list_end:\n",
    "                title=title[:-i]\n",
    "        if title[0]=='-':\n",
    "            title=title[1:]\n",
    "        url='https://www.thebeatles.com/'\n",
    "        query=extract_html(url+title)\n",
    "        # write the extracted text in a .txt file\n",
    "        file=open('raw_songs/'+title+'.txt','w+')\n",
    "        file.write(query)\n",
    "        file.close()\n",
    "    except:\n",
    "        print(title)"
   ]
  },
  {
   "cell_type": "markdown",
   "id": "8a79f050",
   "metadata": {},
   "source": [
    "Hi ha a vegades que et pila la query del url tot i que la pàgina que correspon a la cançó té un afegit al final de -0 o -1, com el cas de la cançó que peta que és words-love-0"
   ]
  },
  {
   "cell_type": "code",
   "execution_count": 4,
   "id": "75a6821d",
   "metadata": {},
   "outputs": [],
   "source": [
    "import re\n",
    "from urllib.request import urlopen"
   ]
  },
  {
   "cell_type": "code",
   "execution_count": 5,
   "id": "48e0faf2",
   "metadata": {},
   "outputs": [
    {
     "data": {
      "text/plain": [
       "'Desmond has a barrow in the market place,  Molly is the singer in a band.  Desmond says to Molly, \"Girl, I like your face,\"  And Molly says this as she takes him by the hand:   Obladi, Oblada, life goes on, bra,  Lala how their life goes on.  Obladi, Oblada, life goes on, bra,  Lala how their life goes on.   Desmond takes a trolley to the jeweler\\'s store,  Buys a twenty carat golden ring.  Takes it back to Molly waiting at the door,  And as he gives it to her she begins to sing:   Obladi, Oblada, life goes on, bra,  Lala how their life goes on.  Obladi, Oblada, life goes on, bra,  Lala how their life goes on.   In a couple of years,  They have built a home sweet home.  With a couple of kids running in the yard  Of Desmond and Molly Jones.   Happy ever after in the market place,  Desmond lets the children lend a hand.  Molly stays at home and does her pretty face,  and in the evening she still sings it with the band.   Obladi, Oblada, life goes on, bra,  Lala how their life goes on.  Obladi, Oblada, life goes on, bra,  Lala how their life goes on.   In a couple of years,  They have built a home sweet home.  With a couple of kids running in the yard  of Desmond and Molly Jones.   Happy ever after in the market place,  Molly lets the children lend a hand.  Desmond stays at home and does his pretty face,  And in the evening she\\'s a singer with the band.   Obladi, Oblada, life goes on, bra,  Lala how their life goes on.  Obladi, Oblada, life goes on, bra,  Lala how their life goes   And if you want some fun, take obladiblada.                   '"
      ]
     },
     "execution_count": 5,
     "metadata": {},
     "output_type": "execute_result"
    }
   ],
   "source": [
    "pattern6='<div class=\"col-md-6 middle-content border-left border-right\"><p>'\n",
    "pattern7='<figure class=\"wp-block-table table-expander table table-imported\">'\n",
    "remove_list=['<br />','\\n','</p>','<p>']\n",
    "\n",
    "def extract_lyrics(song_path):\n",
    "    song=open(song_path).read()\n",
    "    idx_init = re.search(pattern6,song).end()\n",
    "    idx_final = re.search(pattern7,song).start()\n",
    "    lyrics=song[idx_init:idx_final]\n",
    "    for el in remove_list: # delete special characters\n",
    "        lyrics=lyrics.replace(el,' ')\n",
    "    return lyrics\n",
    "\n",
    "extract_lyrics('raw_songs/ob-la-di-ob-la-da.txt')"
   ]
  },
  {
   "cell_type": "code",
   "execution_count": 6,
   "id": "be9e0ca7",
   "metadata": {},
   "outputs": [
    {
     "data": {
      "text/plain": [
       "\"Yesterday, all my troubles seemed so far away,  Now it looks as though they're here to stay,  Oh, I believe in yesterday   Suddenly, I'm not half the man I used to be  There's a shadow hanging over me  Oh, yesterday came suddenly   Why she had to go I don't know, she wouldn't say  I said something wrong, now I long for yesterday   Yesterday, love was such an easy game to play  Now I need a place to hide away  Oh, I believe in yesterday   Why she had to go I don't know, she wouldn't say  I said something wrong, now I long for yesterday   Yesterday, love was such an easy game to play  Now I need a place to hide away  Oh, I believe in yesterday,  Mm mm mm mm mm.   \""
      ]
     },
     "execution_count": 6,
     "metadata": {},
     "output_type": "execute_result"
    }
   ],
   "source": [
    "extract_lyrics('raw_songs/yesterday.txt')"
   ]
  },
  {
   "cell_type": "code",
   "execution_count": 7,
   "id": "c7c890ad",
   "metadata": {},
   "outputs": [],
   "source": [
    "import os"
   ]
  },
  {
   "cell_type": "code",
   "execution_count": 10,
   "id": "5c7fec95",
   "metadata": {},
   "outputs": [
    {
     "name": "stdout",
     "output_type": "stream",
     "text": [
      "lonesome-tears-my-eyes\tthree-cool-cats\tLucille\tdizzy-miss-lizzy\tmemphis-tennessee\triding-bus\t12-bar-original\tset-fire-lot\tlend-me-your-comb\tkansas-city-hey-hey-hey-hey\tbaby-its-you\ttoo-much-monkey-business\t.DS_S\tmarch-meanies\tbeatle-greetings\tact-naturally\ti-forgot-remember-forget\tmy-bonnie\trevolution-9\ti-just-dont-understand\tpepperland-laid-waste\tso-how-come-no-one-loves-me\tfluff-you\ttwist-and-shout\tooh-my-soul\tsure-fall-love-you\tyou-really-got-hold-me\tnothin-shakin\thallelujah-i-love-her-so\tglad-all-over\tmoney-thats-what-i-want\tcry-shadow\tBoys\tlittle-rhyme\tShout\thave-banana\trip-it-shake-rattle-and-roll-blue-suede-shoes\tanna-go-him\thow-do-you-do-it\till-be-my-way\tim-gonna-sit-right-down-and-cry\tkeep-your-hands-my-baby\tmailman-bring-me-no-more-blues\ttaste-honey\tsweet-little-sixteen\tdont-ever-change\thard-days-night\tCarol\tspeech-brian-epstein\tslow-down\tdear-wack\trock-and-roll-music\tcrying-waiting-hoping\tsome-other-guy\taint-she-sweet\tbad-boy\tjohnny-b-goode\tsearchin\tmr-moonlight\tday-life\tsea-time\tbesame-mucho\troll-over-beethoven\tlove-these-goon-shows\tlong-tall-sally\ti-got-find-my-baby\ti-got-woman\tsea-monsters\t1822\tooh-my-arms\thoneymoon-song\tshot-rhythm-and-blues\tpepperland\tgnik-nus\tplease-mister-postman\tClarabella\tall-together-now\tleave-my-kitten-alone\tcrinsk-dee-night\tjust-rumour\tsha-la-la-la-la\tChains\tFlying\tthatll-be-day\thippy-hippy-shake\tCayenne\tsea-holes\tbeginning\tthats-all-right-mama\trevolution-1\tsoldier-love\tRevolution\tyoung-blood\ttill-there-was-you\tknow-her-love-her\tyellow-submarine-pepperland\tmoonlight-bay\tsheik-araby\t"
     ]
    }
   ],
   "source": [
    "txt_files = os.listdir('raw_songs')\n",
    "songs_no_lyrics=[]\n",
    "for el in txt_files:\n",
    "    el=el[:-4]\n",
    "    song_path='raw_songs/'+el+'.txt'\n",
    "    try:\n",
    "        lyrics=extract_lyrics(song_path)\n",
    "        file=open('lyrics_songs/'+el+'.txt','w+')\n",
    "        file.write(lyrics)\n",
    "        file.close()\n",
    "    except:\n",
    "        songs_no_lyrics.append(el)\n",
    "        print(el, end='\\t')"
   ]
  },
  {
   "cell_type": "code",
   "execution_count": 11,
   "id": "47bba4a2",
   "metadata": {},
   "outputs": [
    {
     "data": {
      "text/plain": [
       "98"
      ]
     },
     "execution_count": 11,
     "metadata": {},
     "output_type": "execute_result"
    }
   ],
   "source": [
    "txt_files = os.listdir('raw_songs')\n",
    "songs_no_lyrics=[]\n",
    "for el in txt_files:\n",
    "    song_path='raw_songs/'+el\n",
    "    try:\n",
    "        lyrics=extract_lyrics(song_path)\n",
    "        file=open('lyrics_songs/'+el+'.txt','w+')\n",
    "        file.write(lyrics)\n",
    "        file.close()\n",
    "    except:\n",
    "        songs_no_lyrics.append(el)\n",
    "len(songs_no_lyrics)"
   ]
  },
  {
   "cell_type": "markdown",
   "id": "2e8978cb",
   "metadata": {},
   "source": [
    "### Feature: Clean lyrics files"
   ]
  },
  {
   "cell_type": "code",
   "execution_count": 12,
   "id": "bddada72",
   "metadata": {},
   "outputs": [],
   "source": [
    "from nltk.tokenize import WordPunctTokenizer\n",
    "from nltk.corpus import stopwords\n",
    "from nltk.probability import FreqDist\n",
    "\n",
    "stop_words = list(set(stopwords.words('english')))\n",
    "stop_words = [el.replace('\\'','') for el in stop_words]\n",
    "stop_words.append('im')\n",
    "\n",
    "\n",
    "def clean_lyrics(file_path):\n",
    "    data=open(file_path).read()\n",
    "    # import WordPunctTokenizer() method from nltk\n",
    "    # Create a reference variable for Class WordPunctTokenizer\n",
    "    tk = WordPunctTokenizer()\n",
    "    # define punctuation\n",
    "    punctuations = '''!()-[]{};:'\"\\,<>./?@#$%^&*_~'''\n",
    "    # remove punctuation from the string\n",
    "    no_punct = \"\"\n",
    "    for char in data:\n",
    "        if char not in punctuations:\n",
    "            no_punct = no_punct + char\n",
    "    # Remove all the special characters as \\n and single = left\n",
    "    char=['\\n','=']\n",
    "    for el in char:\n",
    "        raw=re.sub(el,'',no_punct)\n",
    "    # remove stop words\n",
    "    token_txt = tk.tokenize(raw.lower()) # set to lower case\n",
    "    token_txt = tk.tokenize(raw.lower()) # set to lower case\n",
    "    token_final = [x for x in token_txt if x not in stop_words and len(x)>2]\n",
    "    return token_final"
   ]
  },
  {
   "cell_type": "code",
   "execution_count": 340,
   "id": "99b5169a",
   "metadata": {},
   "outputs": [
    {
     "data": {
      "text/plain": [
       "203"
      ]
     },
     "execution_count": 340,
     "metadata": {},
     "output_type": "execute_result"
    }
   ],
   "source": [
    "lyrics_files=[el[:-4] for el in os.listdir('lyrics_songs')]\n",
    "lyrics_files.remove('.DS_S') # remove this element that is introduced when using os.listdir\n",
    "len(lyrics_files)"
   ]
  },
  {
   "cell_type": "markdown",
   "id": "e0e2bd0f",
   "metadata": {},
   "source": [
    "## Create network"
   ]
  },
  {
   "cell_type": "code",
   "execution_count": 155,
   "id": "7588b753",
   "metadata": {},
   "outputs": [
    {
     "data": {
      "text/html": [
       "<div>\n",
       "<style scoped>\n",
       "    .dataframe tbody tr th:only-of-type {\n",
       "        vertical-align: middle;\n",
       "    }\n",
       "\n",
       "    .dataframe tbody tr th {\n",
       "        vertical-align: top;\n",
       "    }\n",
       "\n",
       "    .dataframe thead th {\n",
       "        text-align: right;\n",
       "    }\n",
       "</style>\n",
       "<table border=\"1\" class=\"dataframe\">\n",
       "  <thead>\n",
       "    <tr style=\"text-align: right;\">\n",
       "      <th></th>\n",
       "      <th>song</th>\n",
       "      <th>year</th>\n",
       "    </tr>\n",
       "  </thead>\n",
       "  <tbody>\n",
       "    <tr>\n",
       "      <th>0</th>\n",
       "      <td>12-Bar Original</td>\n",
       "      <td>Monday, 18th March, 1996</td>\n",
       "    </tr>\n",
       "    <tr>\n",
       "      <th>1</th>\n",
       "      <td>1822!</td>\n",
       "      <td>Wednesday, 30th November, 1994</td>\n",
       "    </tr>\n",
       "    <tr>\n",
       "      <th>2</th>\n",
       "      <td>A Beginning</td>\n",
       "      <td>Monday, 28th October, 1996</td>\n",
       "    </tr>\n",
       "    <tr>\n",
       "      <th>3</th>\n",
       "      <td>A Day In The Life</td>\n",
       "      <td>Thursday, 1st June, 1967</td>\n",
       "    </tr>\n",
       "    <tr>\n",
       "      <th>4</th>\n",
       "      <td>A Hard Day's Night</td>\n",
       "      <td>Friday, 10th July, 1964</td>\n",
       "    </tr>\n",
       "    <tr>\n",
       "      <th>...</th>\n",
       "      <td>...</td>\n",
       "      <td>...</td>\n",
       "    </tr>\n",
       "    <tr>\n",
       "      <th>296</th>\n",
       "      <td>You'll Be Mine</td>\n",
       "      <td>Monday, 20th November, 1995</td>\n",
       "    </tr>\n",
       "    <tr>\n",
       "      <th>297</th>\n",
       "      <td>You're Going To Lose That Girl</td>\n",
       "      <td>Friday, 6th August, 1965</td>\n",
       "    </tr>\n",
       "    <tr>\n",
       "      <th>298</th>\n",
       "      <td>You've Got To Hide Your Love Away</td>\n",
       "      <td>Friday, 6th August, 1965</td>\n",
       "    </tr>\n",
       "    <tr>\n",
       "      <th>299</th>\n",
       "      <td>Young Blood</td>\n",
       "      <td>Wednesday, 30th November, 1994</td>\n",
       "    </tr>\n",
       "    <tr>\n",
       "      <th>300</th>\n",
       "      <td>Your Mother Should Know</td>\n",
       "      <td>Monday, 27th November, 1967</td>\n",
       "    </tr>\n",
       "  </tbody>\n",
       "</table>\n",
       "<p>301 rows × 2 columns</p>\n",
       "</div>"
      ],
      "text/plain": [
       "                                  song  \\\n",
       "0                      12-Bar Original   \n",
       "1                                1822!   \n",
       "2                          A Beginning   \n",
       "3                    A Day In The Life   \n",
       "4                   A Hard Day's Night   \n",
       "..                                 ...   \n",
       "296                     You'll Be Mine   \n",
       "297     You're Going To Lose That Girl   \n",
       "298  You've Got To Hide Your Love Away   \n",
       "299                        Young Blood   \n",
       "300            Your Mother Should Know   \n",
       "\n",
       "                                         year  \n",
       "0          Monday, 18th March, 1996            \n",
       "1    Wednesday, 30th November, 1994            \n",
       "2        Monday, 28th October, 1996            \n",
       "3          Thursday, 1st June, 1967            \n",
       "4           Friday, 10th July, 1964            \n",
       "..                                        ...  \n",
       "296     Monday, 20th November, 1995            \n",
       "297        Friday, 6th August, 1965            \n",
       "298        Friday, 6th August, 1965            \n",
       "299  Wednesday, 30th November, 1994            \n",
       "300     Monday, 27th November, 1967            \n",
       "\n",
       "[301 rows x 2 columns]"
      ]
     },
     "execution_count": 155,
     "metadata": {},
     "output_type": "execute_result"
    }
   ],
   "source": [
    "import pandas as pd\n",
    "#import Years .csv\n",
    "Years=pd.read_csv('Songs_Years.csv')\n",
    "Years=Years.iloc[0:301,:]\n",
    "Years"
   ]
  },
  {
   "cell_type": "code",
   "execution_count": 300,
   "id": "030ffb3b",
   "metadata": {},
   "outputs": [
    {
     "data": {
      "text/plain": [
       "1967"
      ]
     },
     "execution_count": 300,
     "metadata": {},
     "output_type": "execute_result"
    }
   ],
   "source": [
    "int(beatles_dataset[beatles_dataset['Title']=='A Day in the Life']['Year'])"
   ]
  },
  {
   "cell_type": "code",
   "execution_count": 305,
   "id": "67c15535",
   "metadata": {},
   "outputs": [
    {
     "data": {
      "text/plain": [
       "'day-life'"
      ]
     },
     "execution_count": 305,
     "metadata": {},
     "output_type": "execute_result"
    }
   ],
   "source": [
    "convert_title('A Day In The Life')"
   ]
  },
  {
   "cell_type": "code",
   "execution_count": 302,
   "id": "32c4d955",
   "metadata": {},
   "outputs": [
    {
     "data": {
      "text/html": [
       "<div>\n",
       "<style scoped>\n",
       "    .dataframe tbody tr th:only-of-type {\n",
       "        vertical-align: middle;\n",
       "    }\n",
       "\n",
       "    .dataframe tbody tr th {\n",
       "        vertical-align: top;\n",
       "    }\n",
       "\n",
       "    .dataframe thead th {\n",
       "        text-align: right;\n",
       "    }\n",
       "</style>\n",
       "<table border=\"1\" class=\"dataframe\">\n",
       "  <thead>\n",
       "    <tr style=\"text-align: right;\">\n",
       "      <th></th>\n",
       "      <th>song</th>\n",
       "      <th>year</th>\n",
       "    </tr>\n",
       "  </thead>\n",
       "  <tbody>\n",
       "    <tr>\n",
       "      <th>3</th>\n",
       "      <td>A Day In The Life</td>\n",
       "      <td>Thursday, 1st June, 1967</td>\n",
       "    </tr>\n",
       "  </tbody>\n",
       "</table>\n",
       "</div>"
      ],
      "text/plain": [
       "                song                                year\n",
       "3  A Day In The Life  Thursday, 1st June, 1967          "
      ]
     },
     "execution_count": 302,
     "metadata": {},
     "output_type": "execute_result"
    }
   ],
   "source": [
    "Years[Years['song']=='A Day In The Life']"
   ]
  },
  {
   "cell_type": "code",
   "execution_count": 294,
   "id": "b60c9159",
   "metadata": {},
   "outputs": [
    {
     "data": {
      "text/html": [
       "<div>\n",
       "<style scoped>\n",
       "    .dataframe tbody tr th:only-of-type {\n",
       "        vertical-align: middle;\n",
       "    }\n",
       "\n",
       "    .dataframe tbody tr th {\n",
       "        vertical-align: top;\n",
       "    }\n",
       "\n",
       "    .dataframe thead th {\n",
       "        text-align: right;\n",
       "    }\n",
       "</style>\n",
       "<table border=\"1\" class=\"dataframe\">\n",
       "  <thead>\n",
       "    <tr style=\"text-align: right;\">\n",
       "      <th></th>\n",
       "      <th>Title</th>\n",
       "      <th>Year</th>\n",
       "      <th>Album.debut</th>\n",
       "      <th>Duration</th>\n",
       "      <th>Other.releases</th>\n",
       "      <th>Genre</th>\n",
       "      <th>Songwriter</th>\n",
       "      <th>Lead.vocal</th>\n",
       "      <th>Top.50.Billboard</th>\n",
       "    </tr>\n",
       "  </thead>\n",
       "  <tbody>\n",
       "    <tr>\n",
       "      <th>0</th>\n",
       "      <td>12-Bar Original</td>\n",
       "      <td>1965</td>\n",
       "      <td>Anthology 2</td>\n",
       "      <td>174</td>\n",
       "      <td>0</td>\n",
       "      <td>Blues</td>\n",
       "      <td>Lennon, McCartney, Harrison and Starkey</td>\n",
       "      <td>NaN</td>\n",
       "      <td>-1</td>\n",
       "    </tr>\n",
       "    <tr>\n",
       "      <th>1</th>\n",
       "      <td>A Day in the Life</td>\n",
       "      <td>1967</td>\n",
       "      <td>Sgt. Pepper's Lonely Hearts Club Band</td>\n",
       "      <td>335</td>\n",
       "      <td>12</td>\n",
       "      <td>Psychedelic Rock, Art Rock, Pop/Rock</td>\n",
       "      <td>Lennon and McCartney</td>\n",
       "      <td>Lennon and McCartney</td>\n",
       "      <td>-1</td>\n",
       "    </tr>\n",
       "    <tr>\n",
       "      <th>2</th>\n",
       "      <td>A Hard Day's Night</td>\n",
       "      <td>1964</td>\n",
       "      <td>UK: A Hard Day's Night US: 1962-1966</td>\n",
       "      <td>152</td>\n",
       "      <td>35</td>\n",
       "      <td>Rock, Electronic, Pop/Rock</td>\n",
       "      <td>Lennon</td>\n",
       "      <td>Lennon, with McCartney</td>\n",
       "      <td>8</td>\n",
       "    </tr>\n",
       "    <tr>\n",
       "      <th>3</th>\n",
       "      <td>A Shot of Rhythm and Blues</td>\n",
       "      <td>1963</td>\n",
       "      <td>Live at the BBC</td>\n",
       "      <td>104</td>\n",
       "      <td>0</td>\n",
       "      <td>R&amp;B, Pop/Rock</td>\n",
       "      <td>Thompson</td>\n",
       "      <td>Lennon</td>\n",
       "      <td>-1</td>\n",
       "    </tr>\n",
       "    <tr>\n",
       "      <th>4</th>\n",
       "      <td>A Taste of Honey</td>\n",
       "      <td>1963</td>\n",
       "      <td>UK: Please Please Me US: The Early Beatles</td>\n",
       "      <td>163</td>\n",
       "      <td>29</td>\n",
       "      <td>Pop/Rock, Jazz, Stage&amp;Screen</td>\n",
       "      <td>Scott, Marlow</td>\n",
       "      <td>McCartney</td>\n",
       "      <td>-1</td>\n",
       "    </tr>\n",
       "  </tbody>\n",
       "</table>\n",
       "</div>"
      ],
      "text/plain": [
       "                        Title  Year  \\\n",
       "0             12-Bar Original  1965   \n",
       "1           A Day in the Life  1967   \n",
       "2          A Hard Day's Night  1964   \n",
       "3  A Shot of Rhythm and Blues  1963   \n",
       "4            A Taste of Honey  1963   \n",
       "\n",
       "                                  Album.debut  Duration  Other.releases  \\\n",
       "0                                 Anthology 2       174               0   \n",
       "1       Sgt. Pepper's Lonely Hearts Club Band       335              12   \n",
       "2        UK: A Hard Day's Night US: 1962-1966       152              35   \n",
       "3                             Live at the BBC       104               0   \n",
       "4  UK: Please Please Me US: The Early Beatles       163              29   \n",
       "\n",
       "                                  Genre  \\\n",
       "0                                 Blues   \n",
       "1  Psychedelic Rock, Art Rock, Pop/Rock   \n",
       "2            Rock, Electronic, Pop/Rock   \n",
       "3                         R&B, Pop/Rock   \n",
       "4          Pop/Rock, Jazz, Stage&Screen   \n",
       "\n",
       "                                Songwriter              Lead.vocal  \\\n",
       "0  Lennon, McCartney, Harrison and Starkey                     NaN   \n",
       "1                     Lennon and McCartney    Lennon and McCartney   \n",
       "2                                   Lennon  Lennon, with McCartney   \n",
       "3                                 Thompson                  Lennon   \n",
       "4                            Scott, Marlow               McCartney   \n",
       "\n",
       "   Top.50.Billboard  \n",
       "0                -1  \n",
       "1                -1  \n",
       "2                 8  \n",
       "3                -1  \n",
       "4                -1  "
      ]
     },
     "execution_count": 294,
     "metadata": {},
     "output_type": "execute_result"
    }
   ],
   "source": [
    "idx=0\n",
    "for el in beatles_dataset['Title']:\n",
    "    if el in list(Years['song']):\n",
    "        int(beatles_dataset[beatles_dataset['Title']==el]['Year'])\n",
    "        beatles_dataset['Title']\n",
    "        Years.iloc[idx,1]=Years"
   ]
  },
  {
   "cell_type": "code",
   "execution_count": 156,
   "id": "df34ce46",
   "metadata": {},
   "outputs": [
    {
     "data": {
      "text/plain": [
       "'Monday, 18th March, 1996          '"
      ]
     },
     "execution_count": 156,
     "metadata": {},
     "output_type": "execute_result"
    }
   ],
   "source": [
    "Years.iloc[0,1]"
   ]
  },
  {
   "cell_type": "markdown",
   "id": "4151436c",
   "metadata": {},
   "source": [
    "Extract Year, Month and Day from dates"
   ]
  },
  {
   "cell_type": "code",
   "execution_count": 157,
   "id": "41b0e4fb",
   "metadata": {},
   "outputs": [],
   "source": [
    "a=Years[Years['song']=='12-Bar Original']['year'][0]\n",
    "a=a.replace(' ','')\n",
    "Year=a[-4:]\n",
    "Month=a[re.search('th',a).end():-5]\n",
    "Day=a[re.search('th',a).start()-1:re.search('th',a).start()]"
   ]
  },
  {
   "cell_type": "code",
   "execution_count": 159,
   "id": "e4f56173",
   "metadata": {},
   "outputs": [
    {
     "data": {
      "text/plain": [
       "301"
      ]
     },
     "execution_count": 159,
     "metadata": {},
     "output_type": "execute_result"
    }
   ],
   "source": [
    "len(Years)"
   ]
  },
  {
   "cell_type": "code",
   "execution_count": 190,
   "id": "93e30391",
   "metadata": {},
   "outputs": [],
   "source": [
    "songs=[]; years=[]; months=[]; days=[]\n",
    "\n",
    "remove_list=[' a ',' in ',' the ',' of ',' to ',' is ',' at ',' for ',' that ',' by ',' as ',' from ',' into ',\n",
    "             ' on ',' with ',' off ',' this ',' up ',' like ']\n",
    "remove_list_start=['a-','in-','the-','of-','to-','is-','at-','for-','that-','by-','as-','from-','like-','this-',\n",
    "                  'with-']\n",
    "remove_list_end=['-by','-to','-on','-is','-that','-before']\n",
    "remove_list2=['\\'','.','!','(',')',',','/',':']\n",
    "\n",
    "suffix_list=['th ','st ','nd ','rd ']\n",
    "\n",
    "idx=0\n",
    "for Title in Years['song']:\n",
    "    title=convert_title(Title)\n",
    "    songs.append(title)\n",
    "    # extract dates\n",
    "    a=Years.iloc[idx,1]\n",
    "    idx+=1\n",
    "    # a=a.replace(' ','')\n",
    "    years.append(a[-14:-10])\n",
    "    for el in suffix_list:\n",
    "        try:\n",
    "            months.append(a[re.search(el,a).end():-16])\n",
    "            days.append(a[re.search(el,a).start()-2:re.search(el,a).start()])\n",
    "        except:\n",
    "            pass"
   ]
  },
  {
   "cell_type": "code",
   "execution_count": 192,
   "id": "113266f2",
   "metadata": {},
   "outputs": [
    {
     "data": {
      "text/html": [
       "<div>\n",
       "<style scoped>\n",
       "    .dataframe tbody tr th:only-of-type {\n",
       "        vertical-align: middle;\n",
       "    }\n",
       "\n",
       "    .dataframe tbody tr th {\n",
       "        vertical-align: top;\n",
       "    }\n",
       "\n",
       "    .dataframe thead th {\n",
       "        text-align: right;\n",
       "    }\n",
       "</style>\n",
       "<table border=\"1\" class=\"dataframe\">\n",
       "  <thead>\n",
       "    <tr style=\"text-align: right;\">\n",
       "      <th></th>\n",
       "      <th>song</th>\n",
       "      <th>year</th>\n",
       "      <th>month</th>\n",
       "      <th>day</th>\n",
       "    </tr>\n",
       "  </thead>\n",
       "  <tbody>\n",
       "    <tr>\n",
       "      <th>0</th>\n",
       "      <td>12-bar-original</td>\n",
       "      <td>1996</td>\n",
       "      <td>March</td>\n",
       "      <td>18</td>\n",
       "    </tr>\n",
       "    <tr>\n",
       "      <th>1</th>\n",
       "      <td>1822</td>\n",
       "      <td>1994</td>\n",
       "      <td>November</td>\n",
       "      <td>30</td>\n",
       "    </tr>\n",
       "    <tr>\n",
       "      <th>2</th>\n",
       "      <td>beginning</td>\n",
       "      <td>1996</td>\n",
       "      <td>October</td>\n",
       "      <td>28</td>\n",
       "    </tr>\n",
       "    <tr>\n",
       "      <th>3</th>\n",
       "      <td>day-life</td>\n",
       "      <td>1967</td>\n",
       "      <td>June</td>\n",
       "      <td>1</td>\n",
       "    </tr>\n",
       "    <tr>\n",
       "      <th>4</th>\n",
       "      <td>hard-days-night</td>\n",
       "      <td>1964</td>\n",
       "      <td>July</td>\n",
       "      <td>10</td>\n",
       "    </tr>\n",
       "    <tr>\n",
       "      <th>...</th>\n",
       "      <td>...</td>\n",
       "      <td>...</td>\n",
       "      <td>...</td>\n",
       "      <td>...</td>\n",
       "    </tr>\n",
       "    <tr>\n",
       "      <th>296</th>\n",
       "      <td>youll-be-mine</td>\n",
       "      <td>1995</td>\n",
       "      <td>November</td>\n",
       "      <td>20</td>\n",
       "    </tr>\n",
       "    <tr>\n",
       "      <th>297</th>\n",
       "      <td>youre-going-lose-girl</td>\n",
       "      <td>1965</td>\n",
       "      <td>August</td>\n",
       "      <td>6</td>\n",
       "    </tr>\n",
       "    <tr>\n",
       "      <th>298</th>\n",
       "      <td>youve-got-hide-your-love-away</td>\n",
       "      <td>1965</td>\n",
       "      <td>August</td>\n",
       "      <td>6</td>\n",
       "    </tr>\n",
       "    <tr>\n",
       "      <th>299</th>\n",
       "      <td>young-blood</td>\n",
       "      <td>1994</td>\n",
       "      <td>November</td>\n",
       "      <td>30</td>\n",
       "    </tr>\n",
       "    <tr>\n",
       "      <th>300</th>\n",
       "      <td>your-mother-should-know</td>\n",
       "      <td>1967</td>\n",
       "      <td>November</td>\n",
       "      <td>27</td>\n",
       "    </tr>\n",
       "  </tbody>\n",
       "</table>\n",
       "<p>301 rows × 4 columns</p>\n",
       "</div>"
      ],
      "text/plain": [
       "                              song  year     month day\n",
       "0                  12-bar-original  1996     March  18\n",
       "1                             1822  1994  November  30\n",
       "2                        beginning  1996   October  28\n",
       "3                         day-life  1967      June   1\n",
       "4                  hard-days-night  1964      July  10\n",
       "..                             ...   ...       ...  ..\n",
       "296                  youll-be-mine  1995  November  20\n",
       "297          youre-going-lose-girl  1965    August   6\n",
       "298  youve-got-hide-your-love-away  1965    August   6\n",
       "299                    young-blood  1994  November  30\n",
       "300        your-mother-should-know  1967  November  27\n",
       "\n",
       "[301 rows x 4 columns]"
      ]
     },
     "execution_count": 192,
     "metadata": {},
     "output_type": "execute_result"
    }
   ],
   "source": [
    "d={'song':songs,'year':years,'month':months,'day':days}\n",
    "dates_df=pd.DataFrame(d)\n",
    "dates_df"
   ]
  },
  {
   "cell_type": "code",
   "execution_count": 1,
   "id": "cf99c005",
   "metadata": {},
   "outputs": [
    {
     "ename": "NameError",
     "evalue": "name 'years_sorted' is not defined",
     "output_type": "error",
     "traceback": [
      "\u001b[0;31m---------------------------------------------------------------------------\u001b[0m",
      "\u001b[0;31mNameError\u001b[0m                                 Traceback (most recent call last)",
      "\u001b[0;32m/var/folders/10/xzk2l09d3_g6x6v7c5tmyw7m0000gn/T/ipykernel_57154/2027560115.py\u001b[0m in \u001b[0;36m<module>\u001b[0;34m\u001b[0m\n\u001b[1;32m      1\u001b[0m months_value={'January':1,'February':2,'March':3,'April':4,'May':5,'June':6,\n\u001b[1;32m      2\u001b[0m              'July':7,'August':8,'September':9,'October':10,'November':11,'December':12}\n\u001b[0;32m----> 3\u001b[0;31m \u001b[0mmonths_sorted\u001b[0m\u001b[0;34m=\u001b[0m\u001b[0myears_sorted\u001b[0m\u001b[0;34m.\u001b[0m\u001b[0mreplace\u001b[0m\u001b[0;34m(\u001b[0m\u001b[0;34m{\u001b[0m\u001b[0;34m'month'\u001b[0m\u001b[0;34m:\u001b[0m \u001b[0mmonths_value\u001b[0m\u001b[0;34m}\u001b[0m\u001b[0;34m)\u001b[0m\u001b[0;34m.\u001b[0m\u001b[0msort_values\u001b[0m\u001b[0;34m(\u001b[0m\u001b[0mby\u001b[0m\u001b[0;34m=\u001b[0m\u001b[0;34m[\u001b[0m\u001b[0;34m'year'\u001b[0m\u001b[0;34m,\u001b[0m\u001b[0;34m'month'\u001b[0m\u001b[0;34m,\u001b[0m\u001b[0;34m'day'\u001b[0m\u001b[0;34m]\u001b[0m\u001b[0;34m)\u001b[0m\u001b[0;34m.\u001b[0m\u001b[0mindex\u001b[0m\u001b[0;34m\u001b[0m\u001b[0;34m\u001b[0m\u001b[0m\n\u001b[0m\u001b[1;32m      4\u001b[0m \u001b[0mdates_df\u001b[0m\u001b[0;34m.\u001b[0m\u001b[0mreindex\u001b[0m\u001b[0;34m(\u001b[0m\u001b[0mmonths_sorted\u001b[0m\u001b[0;34m)\u001b[0m\u001b[0;34m[\u001b[0m\u001b[0;34m-\u001b[0m\u001b[0;36m90\u001b[0m\u001b[0;34m:\u001b[0m\u001b[0;34m-\u001b[0m\u001b[0;36m80\u001b[0m\u001b[0;34m]\u001b[0m\u001b[0;34m\u001b[0m\u001b[0;34m\u001b[0m\u001b[0m\n",
      "\u001b[0;31mNameError\u001b[0m: name 'years_sorted' is not defined"
     ]
    }
   ],
   "source": [
    "\n",
    "months_value={'January':1,'February':2,'March':3,'April':4,'May':5,'June':6,\n",
    "             'July':7,'August':8,'September':9,'October':10,'November':11,'December':12}\n",
    "months_sorted=years_sorted.replace({'month': months_value}).sort_values(by=['year','month','day']).index\n",
    "dates_df.reindex(months_sorted)[-90:-80]\n"
   ]
  },
  {
   "cell_type": "code",
   "execution_count": 335,
   "id": "f4dc20b8",
   "metadata": {},
   "outputs": [],
   "source": [
    "d_top5={}\n",
    "for file in lyrics_files:\n",
    "    path='lyrics_songs/'+file+'.txt'\n",
    "    clean=clean_lyrics(path)\n",
    "    top5=[]\n",
    "    for el in FreqDist(clean).most_common(5):\n",
    "        top5.append(el[0])\n",
    "    d_top5[file]=top5"
   ]
  },
  {
   "cell_type": "code",
   "execution_count": 256,
   "id": "30745da9",
   "metadata": {},
   "outputs": [],
   "source": [
    "hyperlinks={} #dictionary to store links \n",
    "for file1 in lyrics_files:\n",
    "    eq_files=[]\n",
    "    for file2 in lyrics_files:\n",
    "        if file1!=file2:\n",
    "            a=d_top5[file1]\n",
    "            b=d_top5[file2]\n",
    "            # compute if there are equal words in both lists\n",
    "            eq=0\n",
    "            for el in a:\n",
    "                if el in b:\n",
    "                    eq+=1\n",
    "            if eq!=0:\n",
    "                eq_files.append(file2)\n",
    "    idx1=dates_df[dates_df['song']==file1].index[0]\n",
    "    eq_files_later=[]\n",
    "    for eq in eq_files:\n",
    "        idx2=dates_df[dates_df['song']==eq].index[0]\n",
    "        if idx1<idx2: # means that file1 song was released earlier\n",
    "            eq_files_later.append(eq)\n",
    "    hyperlinks[file1]=eq_files_later"
   ]
  },
  {
   "cell_type": "markdown",
   "id": "4851a84b",
   "metadata": {},
   "source": [
    "Testeo:\n",
    "hyperlinks={} #dictionary to store links \n",
    "for file1 in lyrics_files:\n",
    "    for file2 in lyrics_files:\n",
    "        if file1!=file2:\n",
    "            a=d_top5[file1]\n",
    "            b=d_top5[file2]\n",
    "            # compute if there are equal words in both lists\n",
    "            eq=0\n",
    "            for el in a:\n",
    "                if el in b:\n",
    "                    eq+=1\n",
    "            if eq!=0:\n",
    "                # find which song was released before\n",
    "                idx1=dates_df[dates_df['song']==file1].index[0]\n",
    "                idx2=dates_df[dates_df['song']==file2].index[0]\n",
    "                if idx1<idx2: # means that file1 song was released earlier\n",
    "                    hyperlinks[file1]=file2\n",
    "                else:\n",
    "                    hyperlinks[file2]=file1"
   ]
  },
  {
   "cell_type": "code",
   "execution_count": 270,
   "id": "11048822",
   "metadata": {},
   "outputs": [
    {
     "data": {
      "text/plain": [
       "203"
      ]
     },
     "execution_count": 270,
     "metadata": {},
     "output_type": "execute_result"
    }
   ],
   "source": [
    "len(lyrics_files)"
   ]
  },
  {
   "cell_type": "code",
   "execution_count": 261,
   "id": "ff32afdf",
   "metadata": {},
   "outputs": [],
   "source": [
    "import networkx as nx\n",
    "#We build the Directed Network\n",
    "Beatles_nw= nx.DiGraph()\n",
    "for file in lyrics_files:\n",
    "    #We add the nodes and attributes to the the network\n",
    "    Beatles_nw.add_node(file)\n",
    "\n",
    "\n",
    "#We add the hyperlinks to the the network\n",
    "for el in hyperlinks:\n",
    "    links= hyperlinks[el]\n",
    "    for a in links:\n",
    "        u= el\n",
    "        v= a\n",
    "        Beatles_nw.add_edge(u,v)"
   ]
  },
  {
   "cell_type": "code",
   "execution_count": 262,
   "id": "2b15c780",
   "metadata": {},
   "outputs": [
    {
     "data": {
      "image/png": "[encoded data removed]",
      "text/plain": [
       "<Figure size 432x288 with 1 Axes>"
      ]
     },
     "metadata": {},
     "output_type": "display_data"
    }
   ],
   "source": [
    "nx.draw(Beatles_nw)"
   ]
  },
  {
   "cell_type": "markdown",
   "id": "e4c94f4b",
   "metadata": {},
   "source": [
    "### Extract GCC"
   ]
  },
  {
   "cell_type": "code",
   "execution_count": 263,
   "id": "06506339",
   "metadata": {},
   "outputs": [],
   "source": [
    "Gs = list(Beatles_nw.subgraph(c).copy() for c in nx.weakly_connected_components(Beatles_nw))\n",
    "biggest = 0\n",
    "GCC_index = 0\n",
    "for index,graph in enumerate(Gs):\n",
    "    if len(graph.nodes) > biggest:\n",
    "        biggest = len(graph.nodes)\n",
    "        GCC_index = index\n",
    "GCC = Gs[GCC_index]"
   ]
  },
  {
   "cell_type": "code",
   "execution_count": 264,
   "id": "b9ce14f1",
   "metadata": {},
   "outputs": [
    {
     "data": {
      "image/png": "[encoded data removed]",
      "text/plain": [
       "<Figure size 432x288 with 1 Axes>"
      ]
     },
     "metadata": {},
     "output_type": "display_data"
    }
   ],
   "source": [
    "options = {\n",
    "    'node_size': 40,\n",
    "    'width': 0.2\n",
    "}\n",
    "nx.draw(GCC,**options)"
   ]
  },
  {
   "cell_type": "markdown",
   "id": "492fe64a",
   "metadata": {},
   "source": [
    "#### Convert to undirected network"
   ]
  },
  {
   "cell_type": "code",
   "execution_count": 266,
   "id": "6a26cc8f",
   "metadata": {},
   "outputs": [
    {
     "data": {
      "image/png": "[encoded data removed]",
      "text/plain": [
       "<Figure size 432x288 with 1 Axes>"
      ]
     },
     "metadata": {},
     "output_type": "display_data"
    }
   ],
   "source": [
    "un_Beatles_nw= GCC.to_undirected()\n",
    "\n",
    "options = {\n",
    "    'node_size': 40,\n",
    "    'width': 0.2,\n",
    "}\n",
    "nx.draw(un_Beatles_nw,**options)"
   ]
  },
  {
   "cell_type": "markdown",
   "id": "e6785727",
   "metadata": {},
   "source": [
    "Still needs to be define a criteria to link two songs. Right now the criteria is that if between the most 5 common words one is present in both songs, these songs are linked."
   ]
  },
  {
   "cell_type": "markdown",
   "id": "89b9b75b",
   "metadata": {},
   "source": [
    "## Create network evolution by time"
   ]
  },
  {
   "cell_type": "code",
   "execution_count": 344,
   "id": "d3a282aa",
   "metadata": {},
   "outputs": [],
   "source": [
    "d_top5={}\n",
    "for file in lyrics_files:\n",
    "    if file=='taste-honey':\n",
    "        print('YAS')\n",
    "    path='lyrics_songs/'+file+'.txt'\n",
    "    clean=clean_lyrics(path)\n",
    "    top5=[]\n",
    "    for el in FreqDist(clean).most_common(5):\n",
    "        top5.append(el[0])\n",
    "    d_top5[file]=top5"
   ]
  },
  {
   "cell_type": "code",
   "execution_count": 364,
   "id": "710bfced",
   "metadata": {},
   "outputs": [
    {
     "name": "stdout",
     "output_type": "stream",
     "text": [
      "nodes: 2\n",
      "edges: 1\n",
      "nodes: 34\n",
      "edges: 67\n",
      "nodes: 65\n",
      "edges: 307\n",
      "nodes: 96\n",
      "edges: 594\n",
      "nodes: 112\n",
      "edges: 830\n",
      "nodes: 136\n",
      "edges: 1084\n",
      "nodes: 171\n",
      "edges: 1592\n",
      "nodes: 204\n",
      "edges: 2086\n",
      "nodes: 214\n",
      "edges: 2242\n",
      "nodes: 217\n",
      "edges: 2304\n",
      "nodes: 261\n",
      "edges: 2324\n",
      "nodes: 281\n",
      "edges: 2427\n",
      "nodes: 294\n",
      "edges: 2630\n",
      "nodes: 295\n",
      "edges: 2631\n",
      "nodes: 296\n",
      "edges: 2631\n",
      "nodes: 298\n",
      "edges: 2687\n",
      "nodes: 301\n",
      "edges: 2760\n"
     ]
    }
   ],
   "source": [
    "years=np.unique(list(dates_df['year']))\n",
    "lyrics_files=[]\n",
    "options = {\n",
    "    'node_size': 40,\n",
    "    'width': 0.2}\n",
    "\n",
    "for idx,year in enumerate(years):\n",
    "    a=list(dates_df[dates_df['year']==year]['song'])\n",
    "    for el in a:\n",
    "        lyrics_files.append(el)\n",
    "        \n",
    "    hyperlinks={} #dictionary to store links \n",
    "    for file1 in lyrics_files:\n",
    "        eq_files=[]\n",
    "        for file2 in lyrics_files:\n",
    "            if file1!=file2:\n",
    "                try:\n",
    "                    a=d_top5[file1]\n",
    "                    b=d_top5[file2]\n",
    "                    # compute if there are equal words in both lists\n",
    "                    eq=0\n",
    "                    for el in a:\n",
    "                        if el in b:\n",
    "                            eq+=1\n",
    "                    if eq!=0:\n",
    "                        eq_files.append(file2)\n",
    "                except:\n",
    "                    pass\n",
    "        idx1=dates_df[dates_df['song']==file1].index[0]\n",
    "        eq_files_later=[]\n",
    "        for eq in eq_files:\n",
    "            idx2=dates_df[dates_df['song']==eq].index[0]\n",
    "            if idx1<idx2: # means that file1 song was released earlier\n",
    "                eq_files_later.append(eq)\n",
    "        hyperlinks[file1]=eq_files_later\n",
    "        \n",
    "    #build the network\n",
    "    Beatles_nw= nx.DiGraph()\n",
    "    for file in lyrics_files:\n",
    "        #We add the nodes and attributes to the the network\n",
    "        Beatles_nw.add_node(file)\n",
    "    #We add the hyperlinks to the the network\n",
    "    for el in hyperlinks:\n",
    "        links= hyperlinks[el]\n",
    "        for a in links:\n",
    "            u= el\n",
    "            v= a\n",
    "            Beatles_nw.add_edge(u,v)\n",
    "            \n",
    "    print('nodes:',len(Beatles_nw.nodes()))  \n",
    "    print('edges:',len(Beatles_nw.edges()))    \n",
    "    #nx.draw(Beatles_nw,**options)\n",
    "    #plt.savefig(\"Graph\"+str(idx)+\".png\")\n"
   ]
  },
  {
   "cell_type": "code",
   "execution_count": 359,
   "id": "8b507437",
   "metadata": {},
   "outputs": [
    {
     "name": "stdout",
     "output_type": "stream",
     "text": [
      "2760\n"
     ]
    }
   ],
   "source": []
  },
  {
   "cell_type": "code",
   "execution_count": 338,
   "id": "bbf337fb",
   "metadata": {},
   "outputs": [
    {
     "ename": "KeyError",
     "evalue": "'taste-honey'",
     "output_type": "error",
     "traceback": [
      "\u001b[0;31m---------------------------------------------------------------------------\u001b[0m",
      "\u001b[0;31mKeyError\u001b[0m                                  Traceback (most recent call last)",
      "\u001b[0;32m/var/folders/sl/1xwn2w1j4x7c2rxkc6cdlnrh0000gn/T/ipykernel_90290/2486013724.py\u001b[0m in \u001b[0;36m<module>\u001b[0;34m\u001b[0m\n\u001b[0;32m----> 1\u001b[0;31m \u001b[0md_top5\u001b[0m\u001b[0;34m[\u001b[0m\u001b[0;34m'taste-honey'\u001b[0m\u001b[0;34m]\u001b[0m\u001b[0;34m\u001b[0m\u001b[0;34m\u001b[0m\u001b[0m\n\u001b[0m",
      "\u001b[0;31mKeyError\u001b[0m: 'taste-honey'"
     ]
    }
   ],
   "source": [
    "d_top5['taste-honey']"
   ]
  },
  {
   "cell_type": "code",
   "execution_count": 321,
   "id": "e75957c9",
   "metadata": {},
   "outputs": [
    {
     "data": {
      "text/plain": [
       "['love-me-do', 'ps-i-love-you']"
      ]
     },
     "execution_count": 321,
     "metadata": {},
     "output_type": "execute_result"
    }
   ],
   "source": [
    "list(dates_df[dates_df['year']==years[0]]['song'])"
   ]
  },
  {
   "cell_type": "code",
   "execution_count": null,
   "id": "e26464af",
   "metadata": {},
   "outputs": [],
   "source": [
    "hyperlinks={} #dictionary to store links \n",
    "for file1 in lyrics_files:\n",
    "    eq_files=[]\n",
    "    for file2 in lyrics_files:\n",
    "        if file1!=file2:\n",
    "            a=d_top5[file1]\n",
    "            b=d_top5[file2]\n",
    "            # compute if there are equal words in both lists\n",
    "            eq=0\n",
    "            for el in a:\n",
    "                if el in b:\n",
    "                    eq+=1\n",
    "            if eq!=0:\n",
    "                eq_files.append(file2)\n",
    "    idx1=dates_df[dates_df['song']==file1].index[0]\n",
    "    eq_files_later=[]\n",
    "    for eq in eq_files:\n",
    "        idx2=dates_df[dates_df['song']==eq].index[0]\n",
    "        if idx1<idx2: # means that file1 song was released earlier\n",
    "            eq_files_later.append(eq)\n",
    "    hyperlinks[file1]=eq_files_later"
   ]
  },
  {
   "cell_type": "code",
   "execution_count": null,
   "id": "744bc76e",
   "metadata": {},
   "outputs": [],
   "source": []
  },
  {
   "cell_type": "code",
   "execution_count": null,
   "id": "566210a6",
   "metadata": {},
   "outputs": [],
   "source": []
  },
  {
   "cell_type": "code",
   "execution_count": null,
   "id": "25f063ee",
   "metadata": {},
   "outputs": [],
   "source": []
  },
  {
   "cell_type": "markdown",
   "id": "a8a7cb6b",
   "metadata": {},
   "source": [
    "## Sort network by degree"
   ]
  },
  {
   "cell_type": "code",
   "execution_count": 267,
   "id": "c6eb338a",
   "metadata": {},
   "outputs": [
    {
     "data": {
      "text/plain": [
       "{'love-me-do': 76,\n",
       " 'my-life': 75,\n",
       " 'means-lot': 73,\n",
       " 'do-you-want-know-secret': 72,\n",
       " 'ask-me-why': 71,\n",
       " 'dreamers-do': 70,\n",
       " 'here-there-and-everywhere': 69,\n",
       " 'i-feel-fine': 69,\n",
       " 'i-dont-want-spoil-party': 68,\n",
       " 'i-should-have-known-better': 67,\n",
       " 'i-will': 67,\n",
       " 'shes-woman': 64,\n",
       " 'she-loves-you': 62,\n",
       " 'you-know-what-do': 61,\n",
       " 'end': 61,\n",
       " 'old-brown-shoe': 61,\n",
       " 'no-one': 60,\n",
       " 'dont-pass-me': 60,\n",
       " 'youve-got-hide-your-love-away': 59,\n",
       " 'cant-buy-me-love': 59,\n",
       " 'thank-you-girl': 58,\n",
       " 'things-we-said-today': 57,\n",
       " 'within-you-without-you': 57,\n",
       " 'all-you-need-love': 55,\n",
       " 'long-long-long': 54,\n",
       " 'love-you': 54,\n",
       " 'real-love': 54,\n",
       " 'if-i-fell': 53,\n",
       " 'you-blue': 53,\n",
       " 'ps-i-love-you': 53,\n",
       " 'not-second-time': 52,\n",
       " 'ill-be-back': 52,\n",
       " 'boy': 52,\n",
       " 'its-only-love': 51,\n",
       " 'step-inside-love-los-paranoias': 51,\n",
       " 'its-all-too-much': 49,\n",
       " 'if-i-needed-someone': 49,\n",
       " 'word': 48,\n",
       " 'and-i-love-her': 48,\n",
       " 'something': 47,\n",
       " 'please-please-me': 47,\n",
       " 'she-said-she-said': 47,\n",
       " 'dont-let-me-down': 46,\n",
       " 'i-call-your-name': 46,\n",
       " 'tomorrow-never-knows': 45,\n",
       " 'im-happy-just-dance-you': 45,\n",
       " 'because': 44,\n",
       " 'im-down': 44,\n",
       " 'wild-honey-pie': 44,\n",
       " 'eight-days-week': 43,\n",
       " 'im-so-tired': 43,\n",
       " 'julia': 43,\n",
       " 'every-little-thing': 41,\n",
       " 'dont-bother-me': 41,\n",
       " 'your-mother-should-know': 38,\n",
       " 'back-ussr': 38,\n",
       " 'inner-light': 37,\n",
       " 'hello-little-girl': 36,\n",
       " 'hello-goodbye': 36,\n",
       " 'yesterday': 35,\n",
       " 'polythene-pam': 35,\n",
       " 'ballad-john-and-yoko': 35,\n",
       " 'another-girl': 33,\n",
       " 'savoy-truffle': 33,\n",
       " 'taxman': 33,\n",
       " 'we-can-work-it-out': 33,\n",
       " 'ill-get-you': 33,\n",
       " 'yer-blues': 32,\n",
       " 'and-your-bird-can-sing': 32,\n",
       " 'while-my-guitar-gently-weeps': 31,\n",
       " 'you-know-my-name': 31,\n",
       " 'i-want-tell-you': 30,\n",
       " 'spite-all-danger': 30,\n",
       " 'not-guilty': 30,\n",
       " 'tell-me-what-you-see': 30,\n",
       " 'ill-cry-instead': 29,\n",
       " 'ive-got-feeling': 29,\n",
       " 'dear-prudence': 29,\n",
       " 'come-together': 28,\n",
       " 'got-get-you-my-life': 27,\n",
       " 'all-ive-got-do': 27,\n",
       " 'little-child': 27,\n",
       " 'run-your-life': 27,\n",
       " 'you-me-too-much': 27,\n",
       " 'misery': 27,\n",
       " 'you-cant-do': 26,\n",
       " 'devil-her-heart': 26,\n",
       " 'you-wont-see-me': 26,\n",
       " 'any-time-all': 25,\n",
       " 'all-my-loving': 25,\n",
       " 'i-wanna-be-your-man': 25,\n",
       " 'fool-hill': 25,\n",
       " 'it-wont-be-long': 24,\n",
       " 'baby-youre-rich-man': 24,\n",
       " 'good-morning-good-morning': 24,\n",
       " 'us-you': 23,\n",
       " 'youre-going-lose-girl': 23,\n",
       " 'she-came-through-bathroom-window': 23,\n",
       " 'dig-pony': 23,\n",
       " 'oh-darling': 23,\n",
       " 'night': 23,\n",
       " 'wait': 23,\n",
       " 'i-need-you': 22,\n",
       " 'me-you': 22,\n",
       " 'girl': 22,\n",
       " 'honey-dont': 22,\n",
       " 'paperback-writer': 22,\n",
       " 'helter-skelter': 22,\n",
       " 'get-back': 21,\n",
       " 'think-yourself': 21,\n",
       " 'honey-pie': 21,\n",
       " 'ill-follow-sun': 20,\n",
       " 'ive-just-seen-face': 20,\n",
       " 'golden-slumbers': 20,\n",
       " 'i-am-walrus': 20,\n",
       " 'blue-jay-way': 20,\n",
       " 'what-youre-doing': 19,\n",
       " 'lady-madonna': 19,\n",
       " 'help': 19,\n",
       " 'come-and-get-it': 19,\n",
       " 'two-us': 19,\n",
       " 'day-tripper': 18,\n",
       " 'you-never-give-me-your-money': 18,\n",
       " 'long-and-winding-road': 17,\n",
       " 'across-universe': 17,\n",
       " 'martha-my-dear': 16,\n",
       " 'eleanor-rigby': 16,\n",
       " 'matchbox': 16,\n",
       " 'one-after-909': 15,\n",
       " 'when-i-get-home': 15,\n",
       " 'i-want-hold-your-hand': 15,\n",
       " 'if-youve-got-trouble': 15,\n",
       " 'little-help-my-friends': 15,\n",
       " 'glass-onion': 15,\n",
       " 'carry-weight': 15,\n",
       " 'yes-it': 15,\n",
       " 'everybodys-got-something-hide-except-me-and-my-monkey': 14,\n",
       " 'good-day-sunshine': 14,\n",
       " 'theres-place': 14,\n",
       " 'cry-baby-cry': 14,\n",
       " 'hey-jude': 14,\n",
       " 'norwegian-wood-bird-has-flown': 14,\n",
       " 'everybodys-trying-be-my-baby': 14,\n",
       " 'lucy-sky-diamonds': 14,\n",
       " 'tell-me-why': 13,\n",
       " 'good-night': 13,\n",
       " 'birthday': 13,\n",
       " 'her-majesty': 12,\n",
       " 'fixing-hole': 12,\n",
       " 'octopuss-garden': 12,\n",
       " 'i-want-you': 12,\n",
       " 'sie-liebt-dich': 12,\n",
       " 'dig-it': 12,\n",
       " 'teddy-boy': 12,\n",
       " 'hold-me-tight': 12,\n",
       " 'ticket-ride': 11,\n",
       " 'penny-lane': 11,\n",
       " 'strawberry-fields-forever': 10,\n",
       " 'magical-mystery-tour': 10,\n",
       " 'getting-better': 10,\n",
       " 'rocky-raccoon': 10,\n",
       " 'here-comes-sun': 10,\n",
       " 'i-saw-her-standing-there': 10,\n",
       " 'nowhere-man': 10,\n",
       " 'why-dont-we-do-it-road': 9,\n",
       " 'all-things-must-pass': 9,\n",
       " 'rain': 9,\n",
       " 'what-goes': 8,\n",
       " 'lovely-rita': 8,\n",
       " 'piggies': 7,\n",
       " 'youll-be-mine': 7,\n",
       " 'blackbird': 7,\n",
       " 'when-im-sixty-four': 7,\n",
       " 'drive-my-car': 7,\n",
       " 'no-reply': 7,\n",
       " 'mean-mr-mustard': 7,\n",
       " 'only-northern-song': 6,\n",
       " 'i-me-mine': 6,\n",
       " 'doctor-robert': 6,\n",
       " 'im-only-sleeping': 5,\n",
       " 'shes-leaving-home': 5,\n",
       " 'free-bird': 5,\n",
       " 'hey-bulldog': 5,\n",
       " 'let-it-be': 4,\n",
       " 'babys-black': 4,\n",
       " 'sun-king': 4,\n",
       " 'continuing-story-bungalow-bill': 4,\n",
       " 'mother-natures-son': 3,\n",
       " 'junk': 3,\n",
       " 'happiness-warm-gun': 3,\n",
       " 'ob-la-di-ob-la-da': 3,\n",
       " 'im-loser': 2,\n",
       " 'sgt-peppers-lonely-hearts-club-band-reprise': 2,\n",
       " 'sgt-peppers-lonely-hearts-club-band': 2,\n",
       " 'im-looking-through-you': 2,\n",
       " 'being-benefit-mr-kite': 2,\n",
       " 'sexy-sadie': 2,\n",
       " 'maggie-mae': 1,\n",
       " 'komm-gib-mir-deine-hand': 1,\n",
       " 'whats-new-mary-jane': 1,\n",
       " 'yellow-submarine': 1}"
      ]
     },
     "execution_count": 267,
     "metadata": {},
     "output_type": "execute_result"
    }
   ],
   "source": [
    "Sorted_degree=dict(sorted(un_Beatles_nw.degree, key=lambda x: x[1], reverse=True))\n",
    "Sorted_degree"
   ]
  },
  {
   "cell_type": "code",
   "execution_count": 21,
   "id": "60cfc6b4",
   "metadata": {},
   "outputs": [
    {
     "data": {
      "text/plain": [
       "['make', 'love', 'see', 'pass', 'cry']"
      ]
     },
     "execution_count": 21,
     "metadata": {},
     "output_type": "execute_result"
    }
   ],
   "source": [
    "d_top5['dont-pass-me']"
   ]
  },
  {
   "cell_type": "code",
   "execution_count": 22,
   "id": "3b4a1aae",
   "metadata": {},
   "outputs": [
    {
     "data": {
      "text/plain": [
       "['love', 'know', 'ill', 'always', 'true']"
      ]
     },
     "execution_count": 22,
     "metadata": {},
     "output_type": "execute_result"
    }
   ],
   "source": [
    "d_top5['love-me-do']"
   ]
  },
  {
   "cell_type": "code",
   "execution_count": 23,
   "id": "4665b22a",
   "metadata": {},
   "outputs": [
    {
     "data": {
      "text/plain": [
       "['know', 'said', 'love', 'feel', 'fine']"
      ]
     },
     "execution_count": 23,
     "metadata": {},
     "output_type": "execute_result"
    }
   ],
   "source": [
    "d_top5['i-feel-fine']"
   ]
  },
  {
   "cell_type": "code",
   "execution_count": 25,
   "id": "3b7ea144",
   "metadata": {},
   "outputs": [
    {
     "data": {
      "text/plain": [
       "['yellow', 'submarine', 'live', 'sea', 'lived']"
      ]
     },
     "execution_count": 25,
     "metadata": {},
     "output_type": "execute_result"
    }
   ],
   "source": [
    "d_top5['yellow-submarine']"
   ]
  },
  {
   "cell_type": "markdown",
   "id": "cdfe98a7",
   "metadata": {},
   "source": [
    "#### Plot degree distribution"
   ]
  },
  {
   "cell_type": "code",
   "execution_count": 269,
   "id": "92aa8189",
   "metadata": {},
   "outputs": [
    {
     "data": {
      "image/png": "[encoded data removed]",
      "text/plain": [
       "<Figure size 432x288 with 1 Axes>"
      ]
     },
     "metadata": {
      "needs_background": "light"
     },
     "output_type": "display_data"
    }
   ],
   "source": [
    "import matplotlib.pyplot as plt\n",
    "import numpy as np\n",
    "#FROM UNDIRECTED TO DIRECTED GRAPH:\n",
    "un_Beatles_nw= GCC.to_undirected()\n",
    "all_degrees=[]\n",
    "\n",
    "#Obtenition of degree \n",
    "for deg in un_Beatles_nw.degree():\n",
    "    all_degrees.append(deg[1])\n",
    "    \n",
    "#Zoom in\n",
    "v = np.arange(int(min(all_degrees)),max(Sorted_degree.values()))\n",
    "count,bins=np.histogram(all_degrees,bins=v)\n",
    "plt.bar(bins[:-1], count)\n",
    "plt.title('Zoom in: Degree distribution of the undirected graph',fontsize=13)\n",
    "plt.xlabel('Degree',fontsize=12)\n",
    "plt.ylabel('Counts',fontsize=12)\n",
    "plt.show() "
   ]
  },
  {
   "cell_type": "markdown",
   "id": "d5c7f2f2",
   "metadata": {},
   "source": [
    "## Find communities"
   ]
  },
  {
   "cell_type": "code",
   "execution_count": 45,
   "id": "610e1a92",
   "metadata": {},
   "outputs": [
    {
     "data": {
      "image/png": "[encoded data removed]",
      "text/plain": [
       "<Figure size 432x288 with 1 Axes>"
      ]
     },
     "metadata": {},
     "output_type": "display_data"
    }
   ],
   "source": [
    "import community.community_louvain\n",
    "import matplotlib.cm as cm\n",
    "import matplotlib.pyplot as plt\n",
    "import networkx as nx\n",
    "\n",
    "# compute the best partition\n",
    "partition = community.community_louvain.best_partition(un_Beatles_nw)\n",
    "\n",
    "# draw the graph\n",
    "pos = nx.spring_layout(un_Beatles_nw)\n",
    "# color the nodes according to their partition\n",
    "cmap = cm.get_cmap('viridis', max(partition.values()) + 1)\n",
    "nx.draw_networkx_nodes(un_Beatles_nw, pos, partition.keys(), node_size=20,\n",
    "                       cmap=cmap, node_color=list(partition.values()))\n",
    "nx.draw_networkx_edges(un_Beatles_nw, pos, alpha=0.5)\n",
    "plt.show()"
   ]
  },
  {
   "cell_type": "code",
   "execution_count": 46,
   "id": "28d849b8",
   "metadata": {},
   "outputs": [
    {
     "name": "stdout",
     "output_type": "stream",
     "text": [
      "Number of communities found:  6\n"
     ]
    }
   ],
   "source": [
    "print('Number of communities found: ', len(np.unique(list(partition.values()))))"
   ]
  },
  {
   "cell_type": "code",
   "execution_count": 47,
   "id": "6373a1d3",
   "metadata": {},
   "outputs": [
    {
     "name": "stdout",
     "output_type": "stream",
     "text": [
      "Modularity: 0.3312\n"
     ]
    }
   ],
   "source": [
    "print('Modularity:', np.round(community.community_louvain.modularity(partition,un_Beatles_nw),4))"
   ]
  },
  {
   "cell_type": "code",
   "execution_count": 48,
   "id": "37693d44",
   "metadata": {},
   "outputs": [
    {
     "data": {
      "text/plain": [
       "[50, 86, 32, 112, 50, 72]"
      ]
     },
     "execution_count": 48,
     "metadata": {},
     "output_type": "execute_result"
    }
   ],
   "source": [
    "# we compute the number of characters in every community in order to find the top 5\n",
    "communities_d=dict.fromkeys(list(range(0,len(np.unique(list(partition.values()))))))\n",
    "for i in range(0,len(np.unique(list(partition.values())))):\n",
    "    l=[]\n",
    "    for el in partition:\n",
    "        if partition[el]==i:\n",
    "            l.append(el)\n",
    "    communities_d[i]=l\n",
    "    \n",
    "size_communities=[len(x) for x in communities_d.values()]\n",
    "\n",
    "size_communities"
   ]
  },
  {
   "cell_type": "markdown",
   "id": "96cfcb7a",
   "metadata": {},
   "source": [
    "Extract the most common words for each community"
   ]
  },
  {
   "cell_type": "code",
   "execution_count": 49,
   "id": "26436cce",
   "metadata": {},
   "outputs": [
    {
     "data": {
      "text/plain": [
       "['i-need-you',\n",
       " 'i-need-you.txt',\n",
       " 'im-only-sleeping',\n",
       " 'continuing-story-bungalow-bill.txt',\n",
       " 'im-only-sleeping.txt',\n",
       " 'when-i-get-home',\n",
       " 'come-together',\n",
       " 'ticket-ride',\n",
       " 'strawberry-fields-forever',\n",
       " 'hey-bulldog.txt']"
      ]
     },
     "execution_count": 49,
     "metadata": {},
     "output_type": "execute_result"
    }
   ],
   "source": [
    "communities_d[4][0:10]"
   ]
  },
  {
   "cell_type": "markdown",
   "id": "47a79094",
   "metadata": {},
   "source": [
    "Most common words in each community (counting the time each word appears)"
   ]
  },
  {
   "cell_type": "code",
   "execution_count": 50,
   "id": "c155b3c1",
   "metadata": {},
   "outputs": [
    {
     "name": "stdout",
     "output_type": "stream",
     "text": [
      "[('know', 366), ('say', 98), ('name', 84), ('lonely', 66), ('hello', 66)]\n",
      "[('love', 696), ('know', 156), ('cant', 94), ('need', 90), ('say', 88)]\n",
      "[('see', 140), ('ooh', 70), ('better', 64), ('time', 56), ('goo', 42)]\n",
      "[('baby', 152), ('girl', 134), ('come', 114), ('little', 110), ('man', 108)]\n",
      "[('got', 152), ('ive', 108), ('let', 96), ('yeah', 80), ('please', 44)]\n",
      "[('yeah', 258), ('ill', 158), ('want', 140), ('well', 102), ('long', 88)]\n"
     ]
    }
   ],
   "source": [
    "for idx in communities_d:\n",
    "    community_words=[]\n",
    "    for el in communities_d[idx]:\n",
    "        path='lyrics_songs/'+el+'.txt'\n",
    "        clean=clean_lyrics(path)\n",
    "        for word in clean:\n",
    "            community_words.append(word)\n",
    "    print(FreqDist(community_words).most_common(5))"
   ]
  },
  {
   "cell_type": "markdown",
   "id": "0945b9ac",
   "metadata": {},
   "source": [
    "Most common words in each community (counting the number of song a word appear)"
   ]
  },
  {
   "cell_type": "code",
   "execution_count": 51,
   "id": "91dd912a",
   "metadata": {},
   "outputs": [
    {
     "name": "stdout",
     "output_type": "stream",
     "text": [
      "size: 50\n",
      "[('know', 42), ('love', 14), ('like', 14), ('time', 14), ('one', 14)]\n",
      "size: 86\n",
      "[('love', 86), ('know', 54), ('see', 36), ('want', 30), ('say', 26)]\n",
      "size: 32\n",
      "[('see', 26), ('get', 16), ('day', 14), ('never', 14), ('say', 14)]\n",
      "size: 112\n",
      "[('know', 34), ('see', 30), ('like', 28), ('love', 28), ('time', 26)]\n",
      "size: 50\n",
      "[('got', 24), ('know', 22), ('time', 22), ('ive', 22), ('please', 18)]\n",
      "size: 72\n",
      "[('ill', 34), ('want', 32), ('well', 28), ('know', 28), ('like', 28)]\n"
     ]
    }
   ],
   "source": [
    "for idx in communities_d:\n",
    "    community_words=[]\n",
    "    for el in communities_d[idx]:\n",
    "        path='lyrics_songs/'+el+'.txt'\n",
    "        clean=clean_lyrics(path)\n",
    "        unique=list(np.unique(clean))\n",
    "        for word in unique:\n",
    "            community_words.append(word)\n",
    "    print('size:' ,size_communities[idx])\n",
    "    print(FreqDist(community_words).most_common(5))"
   ]
  },
  {
   "cell_type": "markdown",
   "id": "a1890f48",
   "metadata": {},
   "source": [
    "### Feature: most common words of a given community (times a song contains a word)"
   ]
  },
  {
   "cell_type": "code",
   "execution_count": 52,
   "id": "a2f61663",
   "metadata": {},
   "outputs": [
    {
     "data": {
      "text/plain": [
       "[('know', 42), ('love', 14), ('like', 14), ('time', 14), ('one', 14)]"
      ]
     },
     "execution_count": 52,
     "metadata": {},
     "output_type": "execute_result"
    }
   ],
   "source": [
    "def community_words(community):\n",
    "    community_words=[]\n",
    "    for el in community:\n",
    "        path='lyrics_songs/'+el+'.txt'\n",
    "        clean=clean_lyrics(path)\n",
    "        unique=list(np.unique(clean))\n",
    "        for word in unique:\n",
    "            community_words.append(word)\n",
    "    return FreqDist(community_words).most_common(5)\n",
    "\n",
    "community_words(communities_d[0])"
   ]
  },
  {
   "cell_type": "markdown",
   "id": "62193090",
   "metadata": {},
   "source": [
    "### Feature: introduce a famous song and find in which community it belongs"
   ]
  },
  {
   "cell_type": "code",
   "execution_count": 53,
   "id": "0c3599cd",
   "metadata": {},
   "outputs": [
    {
     "data": {
      "text/plain": [
       "4"
      ]
     },
     "execution_count": 53,
     "metadata": {},
     "output_type": "execute_result"
    }
   ],
   "source": [
    "def song_community(song):\n",
    "    i=0\n",
    "    for idx in communities_d:\n",
    "        if song in communities_d[i]:\n",
    "            return i\n",
    "        i+=1\n",
    "        \n",
    "song_community('let-it-be')"
   ]
  },
  {
   "cell_type": "code",
   "execution_count": 64,
   "id": "75165d25",
   "metadata": {},
   "outputs": [
    {
     "data": {
      "text/plain": [
       "[('got', 24), ('know', 22), ('time', 22), ('ive', 22), ('please', 18)]"
      ]
     },
     "execution_count": 64,
     "metadata": {},
     "output_type": "execute_result"
    }
   ],
   "source": [
    "community_words(communities_d[song_community('let-it-be')])"
   ]
  },
  {
   "cell_type": "markdown",
   "id": "c8a78758",
   "metadata": {},
   "source": [
    "## VADER sentimental analysis"
   ]
  },
  {
   "cell_type": "code",
   "execution_count": 55,
   "id": "744a297c",
   "metadata": {},
   "outputs": [],
   "source": [
    "from vaderSentiment.vaderSentiment import SentimentIntensityAnalyzer"
   ]
  },
  {
   "cell_type": "code",
   "execution_count": 57,
   "id": "92f05b6c",
   "metadata": {},
   "outputs": [
    {
     "data": {
      "text/plain": [
       "\"Well darling all the night  You'll be mine and I know  You'll be mine until you die  You'll be mine   And so  (And so)  All the night  (All the night)  You'll be mine  (You'll be mine)  You'll be mine  And the stars  (And the stars)  Always shine  (Always shine)  You'll be mine   My darling, when you brought me  That toast the other morning  I, I looked into your eyes  And I could see a nice little healthy eyeball  And I loved you like I never done  Like I've never done before!   And the stars  (And the stars)  Always shine  (Always shine)  And you'll be mine  [Incomprehensible] you'll be mine  You'll be mine  At the start  (At the start)  Oh yes, you'll be   \""
      ]
     },
     "execution_count": 57,
     "metadata": {},
     "output_type": "execute_result"
    }
   ],
   "source": [
    "file=open('lyrics_songs/youll-be-mine.txt').read()\n",
    "file"
   ]
  },
  {
   "cell_type": "code",
   "execution_count": 58,
   "id": "ec42b38c",
   "metadata": {},
   "outputs": [],
   "source": [
    "sentences=[]\n",
    "index=[(m.start(0), m.end(0)) for m in re.finditer('  ',file)]\n",
    "for i in range(0,len(index)-1):\n",
    "    a=file[index[i][1]:index[i+1][0]]\n",
    "    sentences.append(a)"
   ]
  },
  {
   "cell_type": "code",
   "execution_count": 65,
   "id": "00531955",
   "metadata": {
    "scrolled": true
   },
   "outputs": [
    {
     "data": {
      "text/plain": [
       "0.08556285714285713"
      ]
     },
     "execution_count": 65,
     "metadata": {},
     "output_type": "execute_result"
    }
   ],
   "source": [
    "def song_Vader(song):\n",
    "    # extract sentence of each song\n",
    "    file=open('lyrics_songs/'+song+'.txt').read()\n",
    "    sentences=[]\n",
    "    index=[(m.start(0), m.end(0)) for m in re.finditer('  ',file)]\n",
    "    for i in range(0,len(index)-1):\n",
    "        a=file[index[i][1]:index[i+1][0]]\n",
    "        sentences.append(a)\n",
    "    # compute sentiment analysis for sentence\n",
    "    analyzer = SentimentIntensityAnalyzer()\n",
    "    compound1=[]\n",
    "    compound2=[]\n",
    "    for sentence in sentences:\n",
    "        vs = analyzer.polarity_scores(sentence)\n",
    "        # take every sentence value (more robust)\n",
    "        compound1.append(vs['compound'])\n",
    "        # take just the sentences that are not neutral\n",
    "        if vs['compound']!=0:\n",
    "            compound2.append(vs['compound'])\n",
    "        # print(\"{:-<65} {}\".format(sentence, str(vs)))\n",
    "    return np.mean(compound1),np.mean(compound2)\n",
    "\n",
    "song_Vader('let-it-be')[0]"
   ]
  },
  {
   "cell_type": "code",
   "execution_count": 61,
   "id": "fcd3850e",
   "metadata": {},
   "outputs": [
    {
     "data": {
      "text/plain": [
       "'When I find myself in times of trouble  Mother Mary comes to me  Speaking words of wisdom  Let it be.   And in my hour of darkness  She is standing right in front of me  Speaking words of wisdom  Let it be.   Let it be, let it be, let it be, let it be  Whisper words of wisdom  Let it be.   And when the broken-hearted people  Living in the world agree  There will be an answer  Let it be.   For though they may be parted there is  Still a chance that they will see  There will be an answer  Let it be.   Let it be, let it be, let it be, let it be  There will be an answer  Let it be.   And when the night is cloudy  There is still a light that shines on me  Shine until tomorrow  Let it be.   I wake up to the sound of music  Mother Mary comes to me  Speaking words of wisdom  Let it be.   Let it be, let it be, let it be, let it be  There will be an answer  Let it be.   Let it be, let it be, let it be, let it be  Whisper words of wisdom  Let it be...   '"
      ]
     },
     "execution_count": 61,
     "metadata": {},
     "output_type": "execute_result"
    }
   ],
   "source": [
    "open('lyrics_songs/'+'let-it-be'+'.txt').read()"
   ]
  },
  {
   "cell_type": "code",
   "execution_count": null,
   "id": "368ab3a7",
   "metadata": {},
   "outputs": [],
   "source": [
    "sentenceDic = {}\n",
    "for name in dialogues:\n",
    "    sentenceDic[name] = []\n",
    "    for line in dialogues[name]:\n",
    "        sentence = re.split(r'[.!?]+ *',line)\n",
    "        sentenceDic[name].extend(sentence)"
   ]
  },
  {
   "cell_type": "code",
   "execution_count": null,
   "id": "32f801c9",
   "metadata": {},
   "outputs": [],
   "source": [
    "def sentiment_score_VADER(sentence):\n",
    "    sentiment_dict = sid_obj.polarity_scores(sentence)\n",
    "    return sentiment_dict['compound']"
   ]
  },
  {
   "cell_type": "code",
   "execution_count": null,
   "id": "4166b7b1",
   "metadata": {},
   "outputs": [],
   "source": [
    "sentiment_score_VADER('Oh yes, you\\'ll be.')"
   ]
  },
  {
   "cell_type": "code",
   "execution_count": null,
   "id": "1f6f4699",
   "metadata": {},
   "outputs": [],
   "source": [
    "for idx in communities_d:\n",
    "    for el in communities_d[idx]:\n",
    "        "
   ]
  },
  {
   "cell_type": "code",
   "execution_count": 286,
   "id": "a9b541a3",
   "metadata": {},
   "outputs": [
    {
     "data": {
      "text/html": [
       "<div>\n",
       "<style scoped>\n",
       "    .dataframe tbody tr th:only-of-type {\n",
       "        vertical-align: middle;\n",
       "    }\n",
       "\n",
       "    .dataframe tbody tr th {\n",
       "        vertical-align: top;\n",
       "    }\n",
       "\n",
       "    .dataframe thead th {\n",
       "        text-align: right;\n",
       "    }\n",
       "</style>\n",
       "<table border=\"1\" class=\"dataframe\">\n",
       "  <thead>\n",
       "    <tr style=\"text-align: right;\">\n",
       "      <th></th>\n",
       "      <th>Title</th>\n",
       "      <th>Year</th>\n",
       "      <th>Album.debut</th>\n",
       "      <th>Duration</th>\n",
       "      <th>Other.releases</th>\n",
       "      <th>Genre</th>\n",
       "      <th>Songwriter</th>\n",
       "      <th>Lead.vocal</th>\n",
       "      <th>Top.50.Billboard</th>\n",
       "    </tr>\n",
       "  </thead>\n",
       "  <tbody>\n",
       "    <tr>\n",
       "      <th>0</th>\n",
       "      <td>12-Bar Original</td>\n",
       "      <td>1965</td>\n",
       "      <td>Anthology 2</td>\n",
       "      <td>174</td>\n",
       "      <td>0</td>\n",
       "      <td>Blues</td>\n",
       "      <td>Lennon, McCartney, Harrison and Starkey</td>\n",
       "      <td>NaN</td>\n",
       "      <td>-1</td>\n",
       "    </tr>\n",
       "    <tr>\n",
       "      <th>1</th>\n",
       "      <td>A Day in the Life</td>\n",
       "      <td>1967</td>\n",
       "      <td>Sgt. Pepper's Lonely Hearts Club Band</td>\n",
       "      <td>335</td>\n",
       "      <td>12</td>\n",
       "      <td>Psychedelic Rock, Art Rock, Pop/Rock</td>\n",
       "      <td>Lennon and McCartney</td>\n",
       "      <td>Lennon and McCartney</td>\n",
       "      <td>-1</td>\n",
       "    </tr>\n",
       "    <tr>\n",
       "      <th>2</th>\n",
       "      <td>A Hard Day's Night</td>\n",
       "      <td>1964</td>\n",
       "      <td>UK: A Hard Day's Night US: 1962-1966</td>\n",
       "      <td>152</td>\n",
       "      <td>35</td>\n",
       "      <td>Rock, Electronic, Pop/Rock</td>\n",
       "      <td>Lennon</td>\n",
       "      <td>Lennon, with McCartney</td>\n",
       "      <td>8</td>\n",
       "    </tr>\n",
       "    <tr>\n",
       "      <th>3</th>\n",
       "      <td>A Shot of Rhythm and Blues</td>\n",
       "      <td>1963</td>\n",
       "      <td>Live at the BBC</td>\n",
       "      <td>104</td>\n",
       "      <td>0</td>\n",
       "      <td>R&amp;B, Pop/Rock</td>\n",
       "      <td>Thompson</td>\n",
       "      <td>Lennon</td>\n",
       "      <td>-1</td>\n",
       "    </tr>\n",
       "    <tr>\n",
       "      <th>4</th>\n",
       "      <td>A Taste of Honey</td>\n",
       "      <td>1963</td>\n",
       "      <td>UK: Please Please Me US: The Early Beatles</td>\n",
       "      <td>163</td>\n",
       "      <td>29</td>\n",
       "      <td>Pop/Rock, Jazz, Stage&amp;Screen</td>\n",
       "      <td>Scott, Marlow</td>\n",
       "      <td>McCartney</td>\n",
       "      <td>-1</td>\n",
       "    </tr>\n",
       "    <tr>\n",
       "      <th>...</th>\n",
       "      <td>...</td>\n",
       "      <td>...</td>\n",
       "      <td>...</td>\n",
       "      <td>...</td>\n",
       "      <td>...</td>\n",
       "      <td>...</td>\n",
       "      <td>...</td>\n",
       "      <td>...</td>\n",
       "      <td>...</td>\n",
       "    </tr>\n",
       "    <tr>\n",
       "      <th>305</th>\n",
       "      <td>You're Going to Lose That Girl</td>\n",
       "      <td>1965</td>\n",
       "      <td>Help!</td>\n",
       "      <td>140</td>\n",
       "      <td>6</td>\n",
       "      <td>Rock, Pop/Rock</td>\n",
       "      <td>Lennon</td>\n",
       "      <td>Lennon</td>\n",
       "      <td>-1</td>\n",
       "    </tr>\n",
       "    <tr>\n",
       "      <th>306</th>\n",
       "      <td>You've Got to Hide Your Love Away</td>\n",
       "      <td>1965</td>\n",
       "      <td>Help!</td>\n",
       "      <td>131</td>\n",
       "      <td>12</td>\n",
       "      <td>FolkPop/Rock</td>\n",
       "      <td>Lennon</td>\n",
       "      <td>Lennon</td>\n",
       "      <td>-1</td>\n",
       "    </tr>\n",
       "    <tr>\n",
       "      <th>307</th>\n",
       "      <td>You've Really Got a Hold on Me</td>\n",
       "      <td>1963</td>\n",
       "      <td>UK: With the Beatles US: The Beatles Second Album</td>\n",
       "      <td>182</td>\n",
       "      <td>2</td>\n",
       "      <td>Soul, Pop/Rock</td>\n",
       "      <td>Robinson</td>\n",
       "      <td>Lennon and Harrison</td>\n",
       "      <td>-1</td>\n",
       "    </tr>\n",
       "    <tr>\n",
       "      <th>308</th>\n",
       "      <td>Young Blood</td>\n",
       "      <td>1963</td>\n",
       "      <td>Live at the BBC</td>\n",
       "      <td>116</td>\n",
       "      <td>0</td>\n",
       "      <td>Pop/Rock</td>\n",
       "      <td>Leiber, Stoller</td>\n",
       "      <td>Harrison</td>\n",
       "      <td>-1</td>\n",
       "    </tr>\n",
       "    <tr>\n",
       "      <th>309</th>\n",
       "      <td>Your Mother Should Know</td>\n",
       "      <td>1967</td>\n",
       "      <td>Magical Mystery Tour</td>\n",
       "      <td>149</td>\n",
       "      <td>13</td>\n",
       "      <td>Music Hall, Vaudeville Rock, Psychedelic Pop, ...</td>\n",
       "      <td>McCartney</td>\n",
       "      <td>McCartney</td>\n",
       "      <td>-1</td>\n",
       "    </tr>\n",
       "  </tbody>\n",
       "</table>\n",
       "<p>310 rows × 9 columns</p>\n",
       "</div>"
      ],
      "text/plain": [
       "                                 Title  Year  \\\n",
       "0                      12-Bar Original  1965   \n",
       "1                    A Day in the Life  1967   \n",
       "2                   A Hard Day's Night  1964   \n",
       "3           A Shot of Rhythm and Blues  1963   \n",
       "4                     A Taste of Honey  1963   \n",
       "..                                 ...   ...   \n",
       "305     You're Going to Lose That Girl  1965   \n",
       "306  You've Got to Hide Your Love Away  1965   \n",
       "307     You've Really Got a Hold on Me  1963   \n",
       "308                        Young Blood  1963   \n",
       "309            Your Mother Should Know  1967   \n",
       "\n",
       "                                           Album.debut  Duration  \\\n",
       "0                                          Anthology 2       174   \n",
       "1                Sgt. Pepper's Lonely Hearts Club Band       335   \n",
       "2                 UK: A Hard Day's Night US: 1962-1966       152   \n",
       "3                                      Live at the BBC       104   \n",
       "4           UK: Please Please Me US: The Early Beatles       163   \n",
       "..                                                 ...       ...   \n",
       "305                                              Help!       140   \n",
       "306                                              Help!       131   \n",
       "307  UK: With the Beatles US: The Beatles Second Album       182   \n",
       "308                                    Live at the BBC       116   \n",
       "309                               Magical Mystery Tour       149   \n",
       "\n",
       "     Other.releases                                              Genre  \\\n",
       "0                 0                                              Blues   \n",
       "1                12               Psychedelic Rock, Art Rock, Pop/Rock   \n",
       "2                35                         Rock, Electronic, Pop/Rock   \n",
       "3                 0                                      R&B, Pop/Rock   \n",
       "4                29                       Pop/Rock, Jazz, Stage&Screen   \n",
       "..              ...                                                ...   \n",
       "305               6                                     Rock, Pop/Rock   \n",
       "306              12                                       FolkPop/Rock   \n",
       "307               2                                     Soul, Pop/Rock   \n",
       "308               0                                           Pop/Rock   \n",
       "309              13  Music Hall, Vaudeville Rock, Psychedelic Pop, ...   \n",
       "\n",
       "                                  Songwriter              Lead.vocal  \\\n",
       "0    Lennon, McCartney, Harrison and Starkey                     NaN   \n",
       "1                       Lennon and McCartney    Lennon and McCartney   \n",
       "2                                     Lennon  Lennon, with McCartney   \n",
       "3                                   Thompson                  Lennon   \n",
       "4                              Scott, Marlow               McCartney   \n",
       "..                                       ...                     ...   \n",
       "305                                   Lennon                  Lennon   \n",
       "306                                   Lennon                  Lennon   \n",
       "307                                 Robinson     Lennon and Harrison   \n",
       "308                          Leiber, Stoller                Harrison   \n",
       "309                                McCartney               McCartney   \n",
       "\n",
       "     Top.50.Billboard  \n",
       "0                  -1  \n",
       "1                  -1  \n",
       "2                   8  \n",
       "3                  -1  \n",
       "4                  -1  \n",
       "..                ...  \n",
       "305                -1  \n",
       "306                -1  \n",
       "307                -1  \n",
       "308                -1  \n",
       "309                -1  \n",
       "\n",
       "[310 rows x 9 columns]"
      ]
     },
     "execution_count": 286,
     "metadata": {},
     "output_type": "execute_result"
    }
   ],
   "source": [
    "beatles_dataset"
   ]
  },
  {
   "cell_type": "code",
   "execution_count": 285,
   "id": "36c99686",
   "metadata": {},
   "outputs": [
    {
     "data": {
      "text/plain": [
       "1980"
      ]
     },
     "execution_count": 285,
     "metadata": {},
     "output_type": "execute_result"
    }
   ],
   "source": [
    "beatles_dataset=pd.read_csv('Beatles_Dataset.csv')\n",
    "min(beatles_dataset['Year'])\n",
    "max(beatles_dataset['Year'])"
   ]
  },
  {
   "cell_type": "code",
   "execution_count": 291,
   "id": "40a59e09",
   "metadata": {},
   "outputs": [
    {
     "data": {
      "text/plain": [
       "55"
      ]
     },
     "execution_count": 291,
     "metadata": {},
     "output_type": "execute_result"
    }
   ],
   "source": [
    "len(np.unique(list(beatles_dataset['Album.debut'])))"
   ]
  },
  {
   "cell_type": "code",
   "execution_count": 292,
   "id": "796102ac",
   "metadata": {},
   "outputs": [
    {
     "data": {
      "text/plain": [
       "['Anthology 2',\n",
       " \"Sgt. Pepper's Lonely Hearts Club Band\",\n",
       " \"UK: A Hard Day's Night US: 1962-1966\",\n",
       " 'Live at the BBC',\n",
       " 'UK: Please Please Me US: The Early Beatles',\n",
       " 'Let It Be',\n",
       " 'UK: Help! US: Yesterday and Today',\n",
       " 'Anthology 1',\n",
       " 'UK: With the Beatles US: Meet The Beatles!',\n",
       " 'UK: With the Beatles US: Meet The Beatles!',\n",
       " 'Anthology 3',\n",
       " 'Yellow Submarine',\n",
       " 'Magical Mystery Tour',\n",
       " \"UK: A Hard Day's Night US: Something New\",\n",
       " 'UK: Revolver US: Yesterday and Today',\n",
       " 'UK: Please Please Me US: The Early Beatles',\n",
       " 'Help!',\n",
       " \"UK: A Hard Day's Night US: Something New\",\n",
       " 'UK: Please Please Me US: The Early Beatles',\n",
       " 'UK: Please Please Me US: The Early Beatles',\n",
       " \"UK: Beatles for Sale US: Beatles '65\",\n",
       " 'Magical Mystery Tour',\n",
       " 'The Beatles',\n",
       " 'UK: A Collection of Beatles Oldies US: Beatles VI',\n",
       " 'The Beatles Bootleg Recordings 1963',\n",
       " 'On Air - Live at the BBC Volume 2',\n",
       " 'Let It Be... Naked - Fly on the Wall bonus disc',\n",
       " 'Abbey Road',\n",
       " \"Sgt. Pepper's Lonely Hearts Club Band\",\n",
       " 'The Beatles',\n",
       " 'The Beatles',\n",
       " 'Magical Mystery Tour',\n",
       " 'UK: Please Please Me US: The Early Beatles',\n",
       " 'Anthology 1',\n",
       " \"UK: A Hard Day's Night US: Hey Jude\",\n",
       " 'Live at the BBC',\n",
       " 'Abbey Road',\n",
       " nan,\n",
       " 'Anthology 1',\n",
       " 'UK: Please Please Me US: The Early Beatles',\n",
       " 'Let It Be... Naked - Fly on the Wall bonus disc',\n",
       " \"The Beatles' Christmas Album\",\n",
       " nan,\n",
       " 'Live at the BBC',\n",
       " 'Anthology 3',\n",
       " 'Abbey Road',\n",
       " 'The Beatles',\n",
       " 'Anthology 1',\n",
       " 'Live at the BBC',\n",
       " 'UK: A Collection of Beatles Oldies US: Yesterday and Today',\n",
       " 'The Beatles',\n",
       " 'UK: With the Beatles US: The Beatles Second Album',\n",
       " 'Let It Be',\n",
       " 'Let It Be',\n",
       " 'UK: Help! US: Beatles VI',\n",
       " 'UK: Please Please Me US: The Early Beatles',\n",
       " 'UK: Revolver US: Yesterday and Today',\n",
       " 'UK: With the Beatles US: Meet The Beatles!',\n",
       " 'Live at the BBC',\n",
       " 'UK: 1967-1970 US: Hey Jude',\n",
       " 'The Beatles',\n",
       " 'UK: Rubber Soul US: Yesterday and Today',\n",
       " 'UK: Beatles for Sale US: Beatles VI',\n",
       " 'Revolver',\n",
       " nan,\n",
       " 'UK: Beatles for Sale US: Beatles VI',\n",
       " 'The Beatles',\n",
       " \"UK: Beatles for Sale US: Beatles '65\",\n",
       " 'Let It Be... Naked - Fly on the Wall bonus disc',\n",
       " \"Sgt. Pepper's Lonely Hearts Club Band\",\n",
       " 'Magical Mystery Tour',\n",
       " 'Revolver',\n",
       " 'Let It Be',\n",
       " 'Anthology 1',\n",
       " 'UK: A Collection of Beatles Oldies US: 1962-1966',\n",
       " 'Live at the BBC',\n",
       " 'Let It Be',\n",
       " \"Sgt. Pepper's Lonely Hearts Club Band\",\n",
       " 'Rubber Soul',\n",
       " 'Live at the BBC',\n",
       " 'The Beatles',\n",
       " 'Abbey Road',\n",
       " 'Revolver',\n",
       " \"Sgt. Pepper's Lonely Hearts Club Band\",\n",
       " 'The Beatles',\n",
       " nan,\n",
       " 'Revolver',\n",
       " 'Anthology 1',\n",
       " 'The Beatles',\n",
       " nan,\n",
       " 'Anthology 1',\n",
       " 'Magical Mystery Tour',\n",
       " 'Help!',\n",
       " 'The Beatles',\n",
       " 'Abbey Road',\n",
       " 'Abbey Road',\n",
       " 'Revolver',\n",
       " 'Yellow Submarine',\n",
       " 'UK: 1967-1970 US: Hey Jude',\n",
       " 'Live at the BBC',\n",
       " 'UK: With the Beatles US: Meet The Beatles!',\n",
       " \"UK: Beatles for Sale US: Beatles '65\",\n",
       " 'The Beatles',\n",
       " 'Anthology 1',\n",
       " 'Magical Mystery Tour',\n",
       " 'UK: Past Masters Volume 1 US: The Beatles Second Album',\n",
       " 'UK: Beatles for Sale US: Beatles VI',\n",
       " \"UK: A Collection of Beatles Oldies US: Beatles '65\",\n",
       " 'Live at the BBC',\n",
       " 'Live at the BBC',\n",
       " 'Live at the BBC',\n",
       " 'Live at the BBC',\n",
       " nan,\n",
       " 'Let It Be',\n",
       " 'Help!',\n",
       " 'UK: Please Please Me US: Meet The Beatles!',\n",
       " \"UK: A Hard Day's Night US: Hey Jude\",\n",
       " 'UK: With the Beatles US: Meet The Beatles!',\n",
       " 'UK: A Collection of Beatles Oldies US: Meet The Beatles!',\n",
       " 'Revolver',\n",
       " 'Abbey Road',\n",
       " 'The Beatles',\n",
       " \"UK: A Hard Day's Night US: Beatles '65\",\n",
       " 'Live at the BBC',\n",
       " \"UK: A Hard Day's Night US: Something New\",\n",
       " \"UK: Beatles for Sale US: Beatles '65\",\n",
       " 'UK: Past Masters Volume 1 US: The Beatles Second Album',\n",
       " nan,\n",
       " \"UK: Beatles for Sale US: Beatles '65\",\n",
       " \"Rock 'n' Roll Music\",\n",
       " 'Live at the BBC',\n",
       " \"UK: A Hard Day's Night US: Something New\",\n",
       " 'The Beatles Bootleg Recordings 1963',\n",
       " 'Rubber Soul',\n",
       " 'UK: Revolver US: Yesterday and Today',\n",
       " 'The Beatles',\n",
       " 'Live! at the Star-Club in Hamburg, Germany; 1962',\n",
       " 'On Air - Live at the BBC Volume 2',\n",
       " 'Let It Be',\n",
       " 'UK: Help! US: Rubber Soul',\n",
       " \"UK: A Hard Day's Night US: Something New\",\n",
       " 'UK: Rubber Soul US: Yesterday and Today',\n",
       " 'Anthology 2',\n",
       " 'Rubber Soul',\n",
       " 'Anthology 1',\n",
       " 'UK: With the Beatles US: Meet The Beatles!',\n",
       " 'Yellow Submarine',\n",
       " 'UK: Help! US: Rubber Soul',\n",
       " nan,\n",
       " nan,\n",
       " 'Live at the BBC',\n",
       " 'The Beatles',\n",
       " 'Anthology 3',\n",
       " 'UK: Beatles for Sale US: Beatles VI',\n",
       " 'Live at the BBC',\n",
       " 'UK: Rarities US: Something New',\n",
       " 'UK: 1967-1970 US: Hey Jude',\n",
       " 'Anthology 1',\n",
       " 'Anthology 1',\n",
       " 'Let It Be',\n",
       " 'Anthology 1',\n",
       " 'UK: With the Beatles US: Meet The Beatles!',\n",
       " 'Live at the BBC',\n",
       " \"UK: Rock 'n' Roll Music US: The Beatles Second Album\",\n",
       " 'The Beatles',\n",
       " nan,\n",
       " 'UK: Please Please Me US: The Early Beatles',\n",
       " nan,\n",
       " 'Revolver',\n",
       " \"Sgt. Pepper's Lonely Hearts Club Band\",\n",
       " 'Live at the BBC',\n",
       " \"Sgt. Pepper's Lonely Hearts Club Band\",\n",
       " nan,\n",
       " 'Let It Be',\n",
       " 'Magical Mystery Tour',\n",
       " 'Anthology 3',\n",
       " 'The Beatles',\n",
       " \"UK: Rock 'n' Roll Music US: Something New\",\n",
       " 'Abbey Road',\n",
       " 'Abbey Road',\n",
       " 'Live at the BBC',\n",
       " 'Rubber Soul',\n",
       " 'UK: Please Please Me US: Rarities',\n",
       " 'UK: With the Beatles US: The Beatles Second Album',\n",
       " 'Anthology 1',\n",
       " 'The Beatles',\n",
       " \"UK: Beatles for Sale US: Beatles '65\",\n",
       " 'Anthology 1',\n",
       " \"UK: Beatles for Sale US: Beatles '65\",\n",
       " 'Rubber Soul',\n",
       " 'UK: With the Beatles US: Meet The Beatles!',\n",
       " 'Anthology 3',\n",
       " 'Live at the BBC',\n",
       " 'UK: Rubber Soul US: Yesterday and Today',\n",
       " 'The Beatles',\n",
       " 'Abbey Road',\n",
       " 'Abbey Road',\n",
       " 'UK: 1967-1970 US: Hey Jude',\n",
       " 'Let It Be',\n",
       " nan,\n",
       " 'Yellow Submarine',\n",
       " 'Live at the BBC',\n",
       " 'UK: Please Please Me US: The Early Beatles',\n",
       " 'UK: A Collection of Beatles Oldies US: Hey Jude',\n",
       " 'Magical Mystery Tour',\n",
       " 'The Beatles',\n",
       " 'UK: With the Beatles US: The Beatles Second Album',\n",
       " 'UK: Please Please Me US: The Early Beatles',\n",
       " 'Abbey Road',\n",
       " 'UK: Rarities US: Hey Jude',\n",
       " 'Anthology 2',\n",
       " 'The Beatles',\n",
       " 'The Beatles',\n",
       " 'UK: 1967-1970 US: Hey Jude',\n",
       " 'Anthology 3',\n",
       " \"UK: Beatles for Sale US: Beatles '65\",\n",
       " 'The Beatles',\n",
       " 'UK: With the Beatles US: The Beatles Second Album',\n",
       " 'Rubber Soul',\n",
       " 'The Beatles',\n",
       " 'Anthology 1',\n",
       " nan,\n",
       " 'The Beatles',\n",
       " \"Sgt. Pepper's Lonely Hearts Club Band\",\n",
       " \"Sgt. Pepper's Lonely Hearts Club Band\",\n",
       " nan,\n",
       " 'Abbey Road',\n",
       " 'UK: A Collection of Beatles Oldies US: The Beatles Second Album',\n",
       " 'Revolver',\n",
       " \"UK: Rarities US: Beatles '65\",\n",
       " \"Sgt. Pepper's Lonely Hearts Club Band\",\n",
       " 'Anthology 1',\n",
       " 'UK: Rarities US: Rarities',\n",
       " \"UK: Rock 'n' Roll Music US: Something New\",\n",
       " 'Live at the BBC',\n",
       " 'Live at the BBC',\n",
       " 'Live at the BBC',\n",
       " 'Abbey Road',\n",
       " nan,\n",
       " 'Anthology 3',\n",
       " 'Magical Mystery Tour',\n",
       " 'Abbey Road',\n",
       " 'Live at the BBC',\n",
       " 'Live at the BBC',\n",
       " nan,\n",
       " 'Let It Be... Naked - Fly on the Wall bonus disc',\n",
       " 'Revolver',\n",
       " 'Anthology 3',\n",
       " 'UK: Help! US: Beatles VI',\n",
       " \"UK: A Hard Day's Night US: Something New\",\n",
       " 'UK: Rarities US: The Beatles Second Album',\n",
       " 'Anthology 2',\n",
       " 'Anthology 1',\n",
       " 'Live at the BBC',\n",
       " 'UK: 1967-1970 US: Hey Jude',\n",
       " 'The Beatles',\n",
       " 'Abbey Road',\n",
       " 'Magical Mystery Tour',\n",
       " 'Live at the BBC',\n",
       " 'UK: Rarities US: Rarities',\n",
       " 'Let It Be',\n",
       " 'Help!',\n",
       " nan,\n",
       " 'Anthology 1',\n",
       " 'Rubber Soul',\n",
       " 'UK: Please Please Me US: Rarities',\n",
       " \"UK: A Hard Day's Night US: Something New\",\n",
       " 'Rubber Soul',\n",
       " 'UK: Rarities US: Meet The Beatles!',\n",
       " 'Anthology 1',\n",
       " 'Help!',\n",
       " 'UK: With the Beatles US: Meet The Beatles!',\n",
       " nan,\n",
       " 'Live at the BBC',\n",
       " 'Revolver',\n",
       " 'Live at the BBC',\n",
       " 'UK: Please Please Me US: The Early Beatles',\n",
       " 'Let It Be',\n",
       " 'Rubber Soul',\n",
       " nan,\n",
       " 'UK: A Collection of Beatles Oldies US: Yesterday and Today',\n",
       " 'UK: Rubber Soul US: Yesterday and Today',\n",
       " 'UK: Beatles for Sale US: Beatles VI',\n",
       " 'Anthology 3',\n",
       " \"UK: A Hard Day's Night US: Something New\",\n",
       " \"Sgt. Pepper's Lonely Hearts Club Band\",\n",
       " 'The Beatles',\n",
       " 'The Beatles',\n",
       " 'The Beatles',\n",
       " nan,\n",
       " \"Sgt. Pepper's Lonely Hearts Club Band\",\n",
       " \"Sgt. Pepper's Lonely Hearts Club Band\",\n",
       " nan,\n",
       " 'UK: Beatles for Sale US: Beatles VI',\n",
       " 'Revolver',\n",
       " 'The Beatles',\n",
       " 'UK: Rarities US: Beatles VI',\n",
       " 'UK: Help! US: Yesterday and Today',\n",
       " \"UK: A Hard Day's Night US: The Beatles Second Album\",\n",
       " 'UK: Rarities US: Rarities',\n",
       " 'Anthology 1',\n",
       " 'UK: Help! US: Beatles VI',\n",
       " 'Abbey Road',\n",
       " 'Rubber Soul',\n",
       " 'Anthology 1',\n",
       " 'Help!',\n",
       " 'Help!',\n",
       " 'UK: With the Beatles US: The Beatles Second Album',\n",
       " 'Live at the BBC',\n",
       " 'Magical Mystery Tour']"
      ]
     },
     "execution_count": 292,
     "metadata": {},
     "output_type": "execute_result"
    }
   ],
   "source": [
    "list(beatles_dataset['Album.debut'])"
   ]
  },
  {
   "cell_type": "code",
   "execution_count": null,
   "id": "a83a7938",
   "metadata": {},
   "outputs": [],
   "source": []
  }
 ],
 "metadata": {
  "kernelspec": {
   "display_name": "Python 3 (ipykernel)",
   "language": "python",
   "name": "python3"
  },
  "language_info": {
   "codemirror_mode": {
    "name": "ipython",
    "version": 3
   },
   "file_extension": ".py",
   "mimetype": "text/x-python",
   "name": "python",
   "nbconvert_exporter": "python",
   "pygments_lexer": "ipython3",
   "version": "3.7.11"
  }
 },
 "nbformat": 4,
 "nbformat_minor": 5
}
