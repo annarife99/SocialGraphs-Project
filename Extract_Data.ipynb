{
 "cells": [
  {
   "cell_type": "code",
   "execution_count": 12,
   "id": "92b32603",
   "metadata": {},
   "outputs": [
    {
     "name": "stdout",
     "output_type": "stream",
     "text": [
      "https://beatles.fandom.com/api.php?action=query&prop=revisions&rvprop=content&&titles=Category:The_Beatles_songs&format=json\n"
     ]
    }
   ],
   "source": [
    "import urllib\n",
    "\n",
    "baseurl = \"https://beatles.fandom.com/api.php?\"\n",
    "action = \"action=query\"  \n",
    "title = \"titles=Category:The_Beatles_songs\"\n",
    "\n",
    "\n",
    "content = \"prop=revisions&rvprop=content\"\n",
    "dataformat =\"format=json\" #instead of json, we can use xml\n",
    "\n",
    "songs = \"{}{}&{}&{}&{}\".format(baseurl, action, content, title,dataformat)\n",
    "print(songs)\n",
    "#=conten&rvslots=*\n"
   ]
  },
  {
   "cell_type": "code",
   "execution_count": null,
   "id": "06237215",
   "metadata": {},
   "outputs": [],
   "source": []
  }
 ],
 "metadata": {
  "kernelspec": {
   "display_name": "Python 3 (ipykernel)",
   "language": "python",
   "name": "python3"
  },
  "language_info": {
   "codemirror_mode": {
    "name": "ipython",
    "version": 3
   },
   "file_extension": ".py",
   "mimetype": "text/x-python",
   "name": "python",
   "nbconvert_exporter": "python",
   "pygments_lexer": "ipython3",
   "version": "3.7.11"
  }
 },
 "nbformat": 4,
 "nbformat_minor": 5
}
