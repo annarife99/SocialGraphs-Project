{
 "cells": [
  {
   "cell_type": "code",
   "execution_count": 75,
   "id": "2af31560",
   "metadata": {},
   "outputs": [],
   "source": [
    "def extract_html(url):\n",
    "    page = urlopen(url)\n",
    "    html_bytes = page.read()\n",
    "    html = html_bytes.decode(\"utf-8\")\n",
    "    return html"
   ]
  },
  {
   "cell_type": "code",
   "execution_count": 76,
   "id": "ca7c5c22",
   "metadata": {},
   "outputs": [
    {
     "data": {
      "text/plain": [
       "['12-Bar Original',\n",
       " '1822!',\n",
       " 'A Beginning',\n",
       " 'A Day In The Life',\n",
       " \"A Hard Day's Night\",\n",
       " 'A Little Rhyme',\n",
       " 'A Shot Of Rhythm And Blues',\n",
       " 'A Taste Of Honey',\n",
       " 'Across The Universe',\n",
       " 'Act Naturally']"
      ]
     },
     "execution_count": 76,
     "metadata": {},
     "output_type": "execute_result"
    }
   ],
   "source": [
    "import re\n",
    "from urllib.request import urlopen\n",
    "\n",
    "pattern1= 'hreflang=\"en\">(.*?)</a>'\n",
    "songs_titles=[]\n",
    "for i in range(0,9):\n",
    "    url = 'https://www.thebeatles.com/songs?page='+str(i)\n",
    "    html=extract_html(url)\n",
    "    a=re.findall(pattern1,html)\n",
    "    for el in a:\n",
    "        el=el.replace('&#039;', '\\'')\n",
    "        songs_titles.append(el)\n",
    "songs_titles[0:10]"
   ]
  },
  {
   "cell_type": "code",
   "execution_count": 80,
   "id": "8986f63a",
   "metadata": {},
   "outputs": [
    {
     "name": "stdout",
     "output_type": "stream",
     "text": [
      "words-love\n"
     ]
    }
   ],
   "source": [
    "import urllib.request as urllib2\n",
    "\n",
    "remove_list=[' a ',' in ',' the ',' of ',' to ',' is ',' at ',' for ',' that ',' by ',' as ',' from ',' into ',\n",
    "             ' on ',' with ',' off ',' this ',' up ',' like ']\n",
    "remove_list_start=['a-','in-','the-','of-','to-','is-','at-','for-','that-','by-','as-','from-','like-','this-',\n",
    "                  'with-']\n",
    "remove_list_end=['-by','-to','-on','-is','-that','-before']\n",
    "remove_list2=['\\'','.','!','(',')',',','/',':']\n",
    "\n",
    "pattern6='<div class=\"col-md-6 middle-content border-left border-right\"><p>'\n",
    "pattern7='<figure class=\"wp-block-table table-expander table table-imported\">'\n",
    "for title in songs_titles:\n",
    "    try:\n",
    "        title=title.lower()\n",
    "        for el in remove_list2: # delete special characters\n",
    "            title=title.replace(el,'')\n",
    "        for el in remove_list: # replace single words with a space\n",
    "            title=title.replace(el,' ')\n",
    "        title=title.replace(' ','-')\n",
    "        title=title.replace('--','-')\n",
    "        # delete words from the start\n",
    "        for i in range(0,6):\n",
    "            if title[:i] in remove_list_start:\n",
    "                title=title[i:]\n",
    "        # delete words end\n",
    "        for i in range(0,8):\n",
    "            if title[-i:] in remove_list_end:\n",
    "                title=title[:-i]\n",
    "        if title[0]=='-':\n",
    "            title=title[1:]\n",
    "        url='https://www.thebeatles.com/'\n",
    "        query=extract_html(url+title)\n",
    "        # write the extracted text in a .txt file\n",
    "        file=open('raw_songs/'+title+'.txt','w+')\n",
    "        file.write(query)\n",
    "        file.close()\n",
    "    except:\n",
    "        print(title)"
   ]
  },
  {
   "cell_type": "markdown",
   "id": "8a79f050",
   "metadata": {},
   "source": [
    "Hi ha a vegades que et pila la query del url tot i que la pàgina que correspon a la cançó té un afegit al final de -0 o -1, com el cas de la cançó que peta que és words-love-0"
   ]
  },
  {
   "cell_type": "code",
   "execution_count": 81,
   "id": "75a6821d",
   "metadata": {},
   "outputs": [],
   "source": [
    "import re\n",
    "from urllib.request import urlopen"
   ]
  },
  {
   "cell_type": "code",
   "execution_count": 83,
   "id": "48e0faf2",
   "metadata": {},
   "outputs": [
    {
     "data": {
      "text/plain": [
       "'Desmond has a barrow in the market place,  Molly is the singer in a band.  Desmond says to Molly, \"Girl, I like your face,\"  And Molly says this as she takes him by the hand:   Obladi, Oblada, life goes on, bra,  Lala how their life goes on.  Obladi, Oblada, life goes on, bra,  Lala how their life goes on.   Desmond takes a trolley to the jeweler\\'s store,  Buys a twenty carat golden ring.  Takes it back to Molly waiting at the door,  And as he gives it to her she begins to sing:   Obladi, Oblada, life goes on, bra,  Lala how their life goes on.  Obladi, Oblada, life goes on, bra,  Lala how their life goes on.   In a couple of years,  They have built a home sweet home.  With a couple of kids running in the yard  Of Desmond and Molly Jones.   Happy ever after in the market place,  Desmond lets the children lend a hand.  Molly stays at home and does her pretty face,  and in the evening she still sings it with the band.   Obladi, Oblada, life goes on, bra,  Lala how their life goes on.  Obladi, Oblada, life goes on, bra,  Lala how their life goes on.   In a couple of years,  They have built a home sweet home.  With a couple of kids running in the yard  of Desmond and Molly Jones.   Happy ever after in the market place,  Molly lets the children lend a hand.  Desmond stays at home and does his pretty face,  And in the evening she\\'s a singer with the band.   Obladi, Oblada, life goes on, bra,  Lala how their life goes on.  Obladi, Oblada, life goes on, bra,  Lala how their life goes   And if you want some fun, take obladiblada.                   '"
      ]
     },
     "execution_count": 83,
     "metadata": {},
     "output_type": "execute_result"
    }
   ],
   "source": [
    "pattern6='<div class=\"col-md-6 middle-content border-left border-right\"><p>'\n",
    "pattern7='<figure class=\"wp-block-table table-expander table table-imported\">'\n",
    "remove_list=['<br />','\\n','</p>','<p>']\n",
    "\n",
    "def extract_lyrics(song_path):\n",
    "    song=open(song_path).read()\n",
    "    idx_init = re.search(pattern6,song).end()\n",
    "    idx_final = re.search(pattern7,song).start()\n",
    "    lyrics=song[idx_init:idx_final]\n",
    "    for el in remove_list: # delete special characters\n",
    "        lyrics=lyrics.replace(el,' ')\n",
    "    return lyrics\n",
    "\n",
    "extract_lyrics('raw_songs/ob-la-di-ob-la-da.txt')"
   ]
  },
  {
   "cell_type": "code",
   "execution_count": 84,
   "id": "c7c890ad",
   "metadata": {},
   "outputs": [],
   "source": [
    "import os"
   ]
  },
  {
   "cell_type": "code",
   "execution_count": 86,
   "id": "5c7fec95",
   "metadata": {},
   "outputs": [
    {
     "name": "stdout",
     "output_type": "stream",
     "text": [
      "lonesome-tears-my-eyes.txt\tthree-cool-cats.txt\tlucille.txt\tdizzy-miss-lizzy.txt\tmemphis-tennessee.txt\triding-bus.txt\t12-bar-original.txt\tset-fire-lot.txt\tlend-me-your-comb.txt\tkansas-city-hey-hey-hey-hey.txt\tbaby-its-you.txt\ttoo-much-monkey-business.txt\t.DS_Store\tmarch-meanies.txt\tbeatle-greetings.txt\tact-naturally.txt\ti-forgot-remember-forget.txt\tmy-bonnie.txt\trevolution-9.txt\ti-just-dont-understand.txt\tpepperland-laid-waste.txt\tso-how-come-no-one-loves-me.txt\tfluff-you.txt\ttwist-and-shout.txt\tooh-my-soul.txt\tmagical-mystery-tour.txt\tsure-fall-love-you.txt\tyou-really-got-hold-me.txt\tnothin-shakin.txt\thallelujah-i-love-her-so.txt\tlet-it-be.txt\tglad-all-over.txt\tmoney-thats-what-i-want.txt\tcry-shadow.txt\tboys.txt\tlittle-rhyme.txt\tshout.txt\thave-banana.txt\trip-it-shake-rattle-and-roll-blue-suede-shoes.txt\tanna-go-him.txt\thow-do-you-do-it.txt\till-be-my-way.txt\tim-gonna-sit-right-down-and-cry.txt\tkeep-your-hands-my-baby.txt\tmailman-bring-me-no-more-blues.txt\ttaste-honey.txt\tsweet-little-sixteen.txt\tdont-ever-change.txt\thard-days-night.txt\tcarol.txt\tspeech-brian-epstein.txt\tslow-down.txt\tdear-wack.txt\trock-and-roll-music.txt\tcrying-waiting-hoping.txt\tsome-other-guy.txt\taint-she-sweet.txt\tbad-boy.txt\tjohnny-b-goode.txt\tsearchin.txt\tmr-moonlight.txt\tday-life.txt\tsea-time.txt\tbesame-mucho.txt\troll-over-beethoven.txt\tlove-these-goon-shows.txt\tlong-tall-sally.txt\ti-got-find-my-baby.txt\ti-got-woman.txt\tsea-monsters.txt\t1822.txt\tooh-my-arms.txt\thoneymoon-song.txt\tshot-rhythm-and-blues.txt\tall-you-need-love.txt\tpepperland.txt\tgnik-nus.txt\tplease-mister-postman.txt\tclarabella.txt\tall-together-now.txt\tleave-my-kitten-alone.txt\tpenny-lane.txt\tcrinsk-dee-night.txt\tjust-rumour.txt\tsha-la-la-la-la.txt\tyellow-submarine.txt\tchains.txt\tplease-please-me.txt\tflying.txt\thelp.txt\tthatll-be-day.txt\thippy-hippy-shake.txt\tcayenne.txt\tsea-holes.txt\tbeginning.txt\tthats-all-right-mama.txt\trevolution-1.txt\tsoldier-love.txt\trevolution.txt\tyoung-blood.txt\ttill-there-was-you.txt\tknow-her-love-her.txt\tyellow-submarine-pepperland.txt\tmoonlight-bay.txt\tsheik-araby.txt\t"
     ]
    }
   ],
   "source": [
    "txt_files = os.listdir('raw_songs')\n",
    "songs_no_lyrics=[]\n",
    "for el in txt_files:\n",
    "    song_path='raw_songs/'+el\n",
    "    try:\n",
    "        lyrics=extract_lyrics(song_path)\n",
    "        file=open('lyrics_songs/'+el+'.txt','w+')\n",
    "        file.write(lyrics)\n",
    "        file.close()\n",
    "    except:\n",
    "        songs_no_lyrics.append(el)\n",
    "        print(el, end='\\t')"
   ]
  },
  {
   "cell_type": "code",
   "execution_count": 91,
   "id": "32dd8519",
   "metadata": {},
   "outputs": [
    {
     "name": "stdout",
     "output_type": "stream",
     "text": [
      "magical-mystery-tour 0\n",
      "let-it-be 1\n",
      "all-you-need-love 0\n",
      "penny-lane 1\n",
      "yellow-submarine 0\n",
      "please-please-me 0\n",
      "help 1\n"
     ]
    }
   ],
   "source": [
    "lyrics_files = os.listdir('lyrics_songs')\n",
    "for el in songs_no_lyrics:\n",
    "    el=el[:-4]\n",
    "    url='https://www.thebeatles.com/'\n",
    "    # check if the song has lyrics or not\n",
    "    for i in range(0,4):\n",
    "        try:\n",
    "            query=extract_html(url+el+'-'+str(i))\n",
    "            idx_init = re.search(pattern6,query).end()\n",
    "            idx_final = re.search(pattern7,query).start()\n",
    "            # rewrite the extracted text in a .txt file\n",
    "            file=open('raw_songs/'+el+'.txt','w+')\n",
    "            file.write(query)\n",
    "            file.close()\n",
    "            print(el, i)\n",
    "            break\n",
    "        except:\n",
    "            pass"
   ]
  },
  {
   "cell_type": "code",
   "execution_count": 93,
   "id": "47bba4a2",
   "metadata": {},
   "outputs": [
    {
     "data": {
      "text/plain": [
       "98"
      ]
     },
     "execution_count": 93,
     "metadata": {},
     "output_type": "execute_result"
    }
   ],
   "source": [
    "txt_files = os.listdir('raw_songs')\n",
    "songs_no_lyrics=[]\n",
    "for el in txt_files:\n",
    "    song_path='raw_songs/'+el\n",
    "    try:\n",
    "        lyrics=extract_lyrics(song_path)\n",
    "        file=open('lyrics_songs/'+el+'.txt','w+')\n",
    "        file.write(lyrics)\n",
    "        file.close()\n",
    "    except:\n",
    "        songs_no_lyrics.append(el)\n",
    "len(songs_no_lyrics)"
   ]
  },
  {
   "cell_type": "markdown",
   "id": "2e8978cb",
   "metadata": {},
   "source": [
    "### Clean lyrics files"
   ]
  },
  {
   "cell_type": "code",
   "execution_count": 98,
   "id": "8d9962cf",
   "metadata": {},
   "outputs": [
    {
     "name": "stdout",
     "output_type": "stream",
     "text": [
      "desmond barrow market place molly singer band desmond says molly girl like face molly says takes hand obladi oblada life goes bra lala life goes obladi oblada life goes bra lala life goes desmond takes trolley jewelers store buys twenty carat golden ring takes back molly waiting door gives begins sing obladi oblada life goes bra lala life goes obladi oblada life goes bra lala life goes couple years built home sweet home couple kids running yard desmond molly jones happy ever market place desmond lets children lend hand molly stays home pretty face evening still sings band obladi oblada life goes bra lala life goes obladi oblada life goes bra lala life goes couple years built home sweet home couple kids running yard desmond molly jones happy ever market place molly lets children lend hand desmond stays home pretty face evening shes singer band obladi oblada life goes bra lala life goes obladi oblada life goes bra lala life goes want fun take obladiblada "
     ]
    }
   ],
   "source": [
    "from nltk.corpus import stopwords\n",
    "from nltk import word_tokenize\n",
    "# lyrics_files = os.listdir('lyrics_songs')\n",
    "# song_path='raw_songs/'+el\n",
    "\n",
    "lyrics=extract_lyrics('raw_songs/ob-la-di-ob-la-da.txt')\n",
    "\n",
    "# import WordPunctTokenizer() method from nltk\n",
    "from nltk.tokenize import WordPunctTokenizer\n",
    "# Create a reference variable for Class WordPunctTokenizer\n",
    "tk = WordPunctTokenizer()\n",
    "\n",
    "# define punctuation\n",
    "punctuations = '''!()-[]{};:'\"\\,<>./?@#$%^&*_~'''\n",
    "# remove punctuation from the string\n",
    "no_punct = \"\"\n",
    "for char in lyrics:\n",
    "    if char not in punctuations:\n",
    "        no_punct = no_punct + char\n",
    "# Remove all the special characters as \\n and single = left\n",
    "char=['\\n','=']\n",
    "for el in char:\n",
    "    raw=re.sub(el,'',no_punct)\n",
    "# remove stop words\n",
    "stop_words = list(set(stopwords.words('english')))\n",
    "token_txt = tk.tokenize(raw.lower()) # set to lower case\n",
    "token_txt = tk.tokenize(raw.lower()) # set to lower case\n",
    "token_final = [x for x in token_txt if x not in stop_words and len(x)>1]\n",
    "for el in token_final:\n",
    "    print(el,end=' ')"
   ]
  },
  {
   "cell_type": "code",
   "execution_count": 99,
   "id": "c3c306d6",
   "metadata": {},
   "outputs": [
    {
     "data": {
      "text/plain": [
       "'Desmond has a barrow in the market place,  Molly is the singer in a band.  Desmond says to Molly, \"Girl, I like your face,\"  And Molly says this as she takes him by the hand:   Obladi, Oblada, life goes on, bra,  Lala how their life goes on.  Obladi, Oblada, life goes on, bra,  Lala how their life goes on.   Desmond takes a trolley to the jeweler\\'s store,  Buys a twenty carat golden ring.  Takes it back to Molly waiting at the door,  And as he gives it to her she begins to sing:   Obladi, Oblada, life goes on, bra,  Lala how their life goes on.  Obladi, Oblada, life goes on, bra,  Lala how their life goes on.   In a couple of years,  They have built a home sweet home.  With a couple of kids running in the yard  Of Desmond and Molly Jones.   Happy ever after in the market place,  Desmond lets the children lend a hand.  Molly stays at home and does her pretty face,  and in the evening she still sings it with the band.   Obladi, Oblada, life goes on, bra,  Lala how their life goes on.  Obladi, Oblada, life goes on, bra,  Lala how their life goes on.   In a couple of years,  They have built a home sweet home.  With a couple of kids running in the yard  of Desmond and Molly Jones.   Happy ever after in the market place,  Molly lets the children lend a hand.  Desmond stays at home and does his pretty face,  And in the evening she\\'s a singer with the band.   Obladi, Oblada, life goes on, bra,  Lala how their life goes on.  Obladi, Oblada, life goes on, bra,  Lala how their life goes   And if you want some fun, take obladiblada.                   '"
      ]
     },
     "execution_count": 99,
     "metadata": {},
     "output_type": "execute_result"
    }
   ],
   "source": [
    "lyrics"
   ]
  },
  {
   "cell_type": "code",
   "execution_count": 103,
   "id": "8cdccdb4",
   "metadata": {},
   "outputs": [
    {
     "name": "stdout",
     "output_type": "stream",
     "text": [
      "an,hadn,wouldn't,again,mustn't,nor,theirs,itself,being,is,isn't,had,both,needn,its,shan't,this,doesn't,he,whom,was,aren't,herself,of,don,d,didn,it's,in,off,or,just,about,weren,you're,shouldn,same,under,won't,now,y,isn,all,while,after,because,yourselves,below,how,you,until,yours,me,having,we,as,into,aren,were,did,those,once,a,won,over,why,that'll,some,couldn,didn't,should,so,it,ain,out,s,m,from,that,their,the,down,wasn,t,i,who,at,ours,them,she,am,other,between,than,does,o,shouldn't,have,such,has,with,own,here,yourself,should've,too,couldn't,she's,above,they,each,our,doing,hasn,shan,further,do,against,re,before,you'll,mightn't,through,ll,wasn't,him,hers,themselves,my,when,your,doesn,hasn't,myself,not,very,if,ve,there,for,these,been,hadn't,but,be,which,you've,you'd,and,his,her,are,only,needn't,during,most,what,few,no,will,can,to,any,himself,mustn,by,haven,ourselves,on,don't,wouldn,haven't,more,where,up,mightn,ma,weren't,then,"
     ]
    }
   ],
   "source": [
    "for el in stop_words:\n",
    "    print(el,end=',')"
   ]
  },
  {
   "cell_type": "code",
   "execution_count": null,
   "id": "3b4a1aae",
   "metadata": {},
   "outputs": [],
   "source": []
  },
  {
   "cell_type": "code",
   "execution_count": null,
   "id": "4665b22a",
   "metadata": {},
   "outputs": [],
   "source": []
  }
 ],
 "metadata": {
  "kernelspec": {
   "display_name": "Python 3 (ipykernel)",
   "language": "python",
   "name": "python3"
  },
  "language_info": {
   "codemirror_mode": {
    "name": "ipython",
    "version": 3
   },
   "file_extension": ".py",
   "mimetype": "text/x-python",
   "name": "python",
   "nbconvert_exporter": "python",
   "pygments_lexer": "ipython3",
   "version": "3.8.2"
  }
 },
 "nbformat": 4,
 "nbformat_minor": 5
}
