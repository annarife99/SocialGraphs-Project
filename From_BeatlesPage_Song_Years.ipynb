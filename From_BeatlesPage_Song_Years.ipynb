{
 "cells": [
  {
   "cell_type": "markdown",
   "id": "fa54fbfa",
   "metadata": {},
   "source": [
    "## Get Name of Beatles Songs and Release Year from Beatles Official Page\n",
    "\n",
    "\n",
    "First, we create a function to obtain the 'HTLM' of Beatles Page. "
   ]
  },
  {
   "cell_type": "code",
   "execution_count": 2,
   "id": "16329c0a",
   "metadata": {},
   "outputs": [],
   "source": [
    "#We import all necessary packages\n",
    "\n",
    "import re\n",
    "import pandas as pd\n",
    "from urllib.request import urlopen"
   ]
  },
  {
   "cell_type": "code",
   "execution_count": 3,
   "id": "707a1883",
   "metadata": {},
   "outputs": [],
   "source": [
    "def extract_html(url):\n",
    "    page = urlopen(url)\n",
    "    html_bytes = page.read()\n",
    "    html = html_bytes.decode(\"utf-8\")\n",
    "    return html"
   ]
  },
  {
   "cell_type": "code",
   "execution_count": 4,
   "id": "7c143fe1",
   "metadata": {},
   "outputs": [],
   "source": [
    "#Lists to store Beatles Songs and its chronological year of release\n",
    "song_titles=[]\n",
    "song_years=[]\n",
    "\n",
    "\n",
    "#Patters to find Name of Beatles Song\n",
    "pattern1= 'hreflang=\"en\">(.*?)</a>'\n",
    "\n",
    "#Pattern to find chronological year of Beatles Song\n",
    "pattern2= 'chronological-date\">(.*?)</td>'"
   ]
  },
  {
   "cell_type": "code",
   "execution_count": 10,
   "id": "d34cea1d",
   "metadata": {},
   "outputs": [],
   "source": [
    "#There are 9 pages in the Beatles Oficcial Page\n",
    "\n",
    "for i in range(0,9):\n",
    "    url = 'https://www.thebeatles.com/songs?page='+str(i)\n",
    "    html=extract_html(url)\n",
    "    a=re.findall(pattern1,html)\n",
    "    b=re.findall(pattern2,html)\n",
    "    \n",
    "    for el in a:\n",
    "        el=el.replace('&#039;', '\\'')\n",
    "        song_titles.append(el)\n",
    "        \n",
    "    for el2 in b:\n",
    "        song_years.append(el2)\n",
    "\n",
    "\n",
    "\n",
    "data={'song':song_titles,'year':song_years}\n",
    "data=pd.DataFrame(data)\n",
    "\n",
    "data.to_csv('Songs_Years.csv',index=False)"
   ]
  },
  {
   "cell_type": "code",
   "execution_count": null,
   "id": "fa8d7417",
   "metadata": {},
   "outputs": [],
   "source": []
  }
 ],
 "metadata": {
  "kernelspec": {
   "display_name": "Python 3 (ipykernel)",
   "language": "python",
   "name": "python3"
  },
  "language_info": {
   "codemirror_mode": {
    "name": "ipython",
    "version": 3
   },
   "file_extension": ".py",
   "mimetype": "text/x-python",
   "name": "python",
   "nbconvert_exporter": "python",
   "pygments_lexer": "ipython3",
   "version": "3.7.11"
  }
 },
 "nbformat": 4,
 "nbformat_minor": 5
}
