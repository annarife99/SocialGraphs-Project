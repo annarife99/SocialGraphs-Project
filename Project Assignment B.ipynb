{
 "cells": [
  {
   "cell_type": "markdown",
   "id": "c3a0cfae",
   "metadata": {},
   "source": [
    "_**Social Graphs and Interactions** - Project Assignment B  | December 2021_\n",
    "\n",
    "Lluis Colomer - Anna Rifé\n"
   ]
  },
  {
   "cell_type": "markdown",
   "id": "aa1b5467",
   "metadata": {},
   "source": [
    "# <font color='darkgreen'> <center> <h3>The Network of Beatles Songs</h3> </center>\n",
    "# <font color='green'> <center> <h4>Getting into Beatles' mind</h4> </center>\n",
    "  \n",
    "![Image](https://github.com/annarife99/SocialGraphs-Project/blob/main/Images/Beatles.jpg?raw=true)\n",
    "    \n"
   ]
  },
  {
   "cell_type": "markdown",
   "id": "86d8479c",
   "metadata": {},
   "source": [
    "**John Lennon**, **Paul McCartney**, **George Harrison** and **Ringo Starr**: The best-known members of the one of the greateast and most influential bands of all times: **The Beatles.** \n",
    "\n",
    "The Beatles were an English rock band, formed in Liverpool in 1960, whose best-known line-up comprised John Lennon, Paul McCartney, George Harrison and Ringo Starr. They are regarded as the most influential band of all time[1] and were integral to the development of 1960s counterculture and popular music's recognition as an art form.[2]\n",
    "With more that 200 songs on streaming services, it is time to build the network of songs of the greatest bands of all times: The Beatles. \n",
    "\n",
    "## <font color='darkgreen'> 1. Motivation   \n",
    "### <font color='green'> _Our Dataset:_\n",
    "\n",
    "\n",
    "    \n",
    "### <font color='green'> _Why?_\n",
    "-know how the beatles' songs are related from a lyrics point of view\n",
    "    \n",
    "    \n",
    "### <font color='green'> _Our Goal:_\n",
    "    \n",
    "    how songs are related and inspired by each others\n",
    "    communiities of songs and their common particularities\n",
    "    which were the most recurrent topics and how evolved over time: sentimental analysis\n",
    "    the most inspirational years of beatles and their singers: the network growth"
   ]
  },
  {
   "cell_type": "code",
   "execution_count": null,
   "id": "76b8229a",
   "metadata": {},
   "outputs": [],
   "source": []
  },
  {
   "cell_type": "code",
   "execution_count": null,
   "id": "7202c75f",
   "metadata": {},
   "outputs": [],
   "source": []
  },
  {
   "cell_type": "code",
   "execution_count": null,
   "id": "47476c5a",
   "metadata": {},
   "outputs": [],
   "source": []
  },
  {
   "cell_type": "code",
   "execution_count": null,
   "id": "e41a5e4c",
   "metadata": {},
   "outputs": [],
   "source": []
  },
  {
   "cell_type": "markdown",
   "id": "fc535389",
   "metadata": {},
   "source": [
    "## <font color='darkgreen'> 2. Basic stats"
   ]
  },
  {
   "cell_type": "markdown",
   "id": "87fe0497",
   "metadata": {},
   "source": [
    "Basic stats. Let's understand the dataset better.\n",
    "- Write about your choices in data cleaning and preprocessing\n",
    "\n",
    "To achieve both our main goal and our secondary ones, a lot of data extraction, cleaning and preprocessing has been needed. Different sources of information have been used, which are described below:\n",
    "\n",
    "1) [The Beatles Wiki](https://beatles.fandom.com/wiki/The_Beatles_Wiki). Wiki founded in 2006 is the main source of information on the internet for finding any stuff related with the Beatles. This wikipedia has been used to extract all their realeased songs, from which the name, album, released date, author, genre and length attributes have been extracted. \n",
    "\n",
    "2) [The Beatles official page](https://www.thebeatles.com/). This page has been used to extract all the lyrics of their songs.\n",
    "\n",
    "3) [Beatles Spotify](https://open.spotify.com/artist/3WrFJ7ztbogyGnTHbHJFl2). Their spotify profile has also been used to extract more information related with every specific track, such as the danceability, the key or the tempo of the song."
   ]
  },
  {
   "cell_type": "markdown",
   "id": "22ad7b9e",
   "metadata": {},
   "source": [
    "- Write a short section that discusses the dataset stats (here you can recycle the work you did for Project Assignment A)"
   ]
  },
  {
   "cell_type": "markdown",
   "id": "6dda3f90",
   "metadata": {},
   "source": [
    "From here a network has been created following the link criteria explained above (explicar part A del project)"
   ]
  },
  {
   "cell_type": "markdown",
   "id": "2976879b",
   "metadata": {},
   "source": [
    "## <font color='darkgreen'> 3. Tools, theory and analysis"
   ]
  },
  {
   "cell_type": "markdown",
   "id": "c6cacfc6",
   "metadata": {},
   "source": [
    "- Talk about how you've worked with text, including regular expressions, unicode, etc.\n",
    "\n",
    "In order to accomplish one of the main goals of this project, that was connecting songs (nodes) between them depending on if they shared one of the common word at least according to tdf-if index.\n",
    "\n",
    "\n",
    "- Describe which network science tools and data analysis strategies you've used, how those network science measures work, and why the tools you've chosen are right for the problem you're solving.\n",
    "\n",
    "\n",
    "\n",
    "\n",
    "- How did you use the tools to understand your dataset?"
   ]
  },
  {
   "cell_type": "markdown",
   "id": "40b1953e",
   "metadata": {},
   "source": [
    "## <font color='darkgreen'> 4. Discussion"
   ]
  },
  {
   "cell_type": "markdown",
   "id": "d0d9bde2",
   "metadata": {},
   "source": [
    "## <font color='darkgreen'> 5. Contributions"
   ]
  },
  {
   "cell_type": "code",
   "execution_count": null,
   "id": "ff2c48c4",
   "metadata": {},
   "outputs": [],
   "source": []
  }
 ],
 "metadata": {
  "kernelspec": {
   "display_name": "Python 3 (ipykernel)",
   "language": "python",
   "name": "python3"
  },
  "language_info": {
   "codemirror_mode": {
    "name": "ipython",
    "version": 3
   },
   "file_extension": ".py",
   "mimetype": "text/x-python",
   "name": "python",
   "nbconvert_exporter": "python",
   "pygments_lexer": "ipython3",
   "version": "3.8.2"
  }
 },
 "nbformat": 4,
 "nbformat_minor": 5
}
