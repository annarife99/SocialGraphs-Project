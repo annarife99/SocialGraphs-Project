{
 "cells": [
  {
   "cell_type": "markdown",
   "id": "c3a0cfae",
   "metadata": {},
   "source": [
    "_**Social Graphs and Interactions** - Project Assignment B  | December 2021_\n",
    "\n",
    "Lluis Colomer - Anna Rifé\n"
   ]
  },
  {
   "cell_type": "markdown",
   "id": "aa1b5467",
   "metadata": {},
   "source": [
    "# <font color='darkgreen'> <center> <h3>The Network of Beatles Songs</h3> </center>\n",
    "# <font color='green'> <center> <h4>Getting into Beatles' mind</h4> </center>\n",
    "  \n",
    "![Image](https://github.com/annarife99/SocialGraphs-Project/blob/main/Images/Beatles.jpg?raw=true)\n",
    "    \n"
   ]
  },
  {
   "cell_type": "markdown",
   "id": "86d8479c",
   "metadata": {},
   "source": [
    "**John Lennon**, **Paul McCartney**, **George Harrison** and **Ringo Starr**: The best-known members of the one of the greateast and most influential bands of all times: **The Beatles.** \n",
    "\n",
    "The Beatles were an English rock band, formed in Liverpool in 1960, whose best-known line-up comprised John Lennon, Paul McCartney, George Harrison and Ringo Starr. They are regarded as the most influential band of all time[1] and were integral to the development of 1960s counterculture and popular music's recognition as an art form.[2]\n",
    "With more that 200 songs on streaming services, it is time to build the network of songs of the greatest bands of all times: The Beatles. \n",
    "\n",
    "## <font color='darkgreen'> 1. Motivation   \n",
    "### <font color='green'> _Our Dataset:_\n",
    "\n",
    "\n",
    "    \n",
    "### <font color='green'> _Why?_\n",
    "-know how the beatles' songs are related from a lyrics point of view\n",
    "    \n",
    "    \n",
    "### <font color='green'> _Our Goal:_\n",
    "    \n",
    "    how songs are related and inspired by each others\n",
    "    communiities of songs and their common particularities\n",
    "    which were the most recurrent topics and how evolved over time: sentimental analysis\n",
    "    the most inspirational years of beatles and their singers: the network growth"
   ]
  },
  {
   "cell_type": "code",
   "execution_count": null,
   "id": "76b8229a",
   "metadata": {},
   "outputs": [],
   "source": []
  },
  {
   "cell_type": "code",
   "execution_count": null,
   "id": "7202c75f",
   "metadata": {},
   "outputs": [],
   "source": []
  },
  {
   "cell_type": "code",
   "execution_count": null,
   "id": "47476c5a",
   "metadata": {},
   "outputs": [],
   "source": []
  },
  {
   "cell_type": "code",
   "execution_count": null,
   "id": "e41a5e4c",
   "metadata": {},
   "outputs": [],
   "source": []
  },
  {
   "cell_type": "markdown",
   "id": "fc535389",
   "metadata": {},
   "source": [
    "## <font color='darkgreen'> 2. Basic stats"
   ]
  },
  {
   "cell_type": "markdown",
   "id": "9de894dc",
   "metadata": {},
   "source": [
    "Basic stats. Let's understand the dataset better.\n",
    "- Write about your choices in data cleaning and preprocessing\n",
    "\n",
    "To achieve both our main goal and our secondary ones, a lot of data extraction, cleaning and preprocessing has been needed. Different sources of information have been used, which are described below:\n",
    "\n",
    "1) [The Beatles Wiki](https://beatles.fandom.com/wiki/The_Beatles_Wiki). Wiki founded in 2006 is the main source of information on the internet for finding any stuff related with the Beatles. This wikipedia has been used to extract all their realeased songs, from which the name, album, released date, author, genre and length attributes have been extracted. \n",
    "\n",
    "2) [The Beatles official page](https://www.thebeatles.com/). This page has been used to extract all the lyrics of their songs.\n",
    "\n",
    "3) [Beatles Spotify](https://open.spotify.com/artist/3WrFJ7ztbogyGnTHbHJFl2). Their spotify profile has also been used to extract more information related with every specific track, such as the danceability, the key or the tempo of the song."
   ]
  },
  {
   "cell_type": "markdown",
   "id": "c172eabb",
   "metadata": {},
   "source": [
    "- Write a short section that discusses the dataset stats (here you can recycle the work you did for Project Assignment A)"
   ]
  },
  {
   "cell_type": "markdown",
   "id": "e18550c8",
   "metadata": {},
   "source": [
    "From here a network has been created following the link criteria explained above (explicar part A del project)"
   ]
  },
  {
   "cell_type": "markdown",
   "id": "2976879b",
   "metadata": {},
   "source": [
    "## <font color='darkgreen'> 3. Tools, theory and analysis"
   ]
  },
  {
   "cell_type": "markdown",
   "id": "251d6fea",
   "metadata": {},
   "source": [
    "- Talk about how you've worked with text, including regular expressions, unicode, etc.\n",
    "\n",
    "In order to accomplish one of the main goals of this project, that was connecting songs (nodes) between them depending on if they shared one at least of their common words according to tdf-if index, special emphasis has been put on text processing. Here we must distinguish between data extraction and preprocessing on one side, and sentimental analysis on the other. Let's focus now on the first part.\n",
    "\n",
    "For the purpose of getting all the needed data as explained in chapter 2, different kind of tools have been used.\n",
    "\n",
    "    -Regular expressions and unicode: (explicar els diferents patterns que hem utilitzat per extreure info de la \n",
    "    wiki i de la beatles page\n"
   ]
  },
  {
   "cell_type": "markdown",
   "id": "37df6d5f",
   "metadata": {},
   "source": [
    "    - Cleaning lyrics\n",
    "    \n",
    "Once the lyrics had been extracted, it was needed to clean it as much as possible. With cleaning, it is meant deleting all those words and characters that do not add any special information to the text. It would not make sense to connect two songs just because they share a preposition or a conjunction, which are mainly the most common words in any language.\n",
    "\n",
    "Thus, in order to achive so, the _clean_lyrics( )_ function shown below has been created:\n",
    "\n",
    "`def clean_lyrics(file_path):\n",
    "    data=open(file_path).read()\n",
    "    # import WordPunctTokenizer() method from nltk\n",
    "    # Create a reference variable for Class WordPunctTokenizer\n",
    "    tk = WordPunctTokenizer()\n",
    "    # define punctuation\n",
    "    punctuations = '''!()-[]{};:'\"\\,<>./?@#$%^&*_~'''\n",
    "    # remove punctuation from the string\n",
    "    no_punct = \"\"\n",
    "    for char in data:\n",
    "        if char not in punctuations:\n",
    "            no_punct = no_punct + char\n",
    "    # Remove all the special characters as \\n and single = left\n",
    "    char=['\\n','=']\n",
    "    for el in char:\n",
    "        raw=re.sub(el,'',no_punct)\n",
    "    # remove stop words\n",
    "    token_txt = tk.tokenize(raw.lower()) # set to lower case\n",
    "    token_txt = tk.tokenize(raw.lower()) # set to lower case\n",
    "    token_final = [x for x in token_txt if x not in stop_words and len(x)>2]\n",
    "    return token_final`\n",
    "\n",
    "What this function basically does is first clean and then tokenize the lyrics. To accomplish the cleaning part, first it removes any punctuation sign from the lyrics. Then it removes anys special characters that had been left when extracting it form the webpages api, such as _\\n_, =_ or empty spaces. Finally, it sets every word to lower case, and deletes all that ones that are not contained in the _nltk.corpus_ stopswords library."
   ]
  },
  {
   "cell_type": "markdown",
   "id": "57680b65",
   "metadata": {},
   "source": [
    "    - tc, idf and tc_idf analysis\n",
    "\n",
    "To connect the links we decided to go a step further and establish the linking criteria not on which were the most common words from each song, but on which were the five words in each song with higher tc-idf score. To do so, basically tc and idf has been computed, to finally compute tc-idf for each word and each song while storing the values in a dictionary. Then the dicctionary was sorted according to its values, and thus the five words with higher tc-idf score values were picked for each song."
   ]
  },
  {
   "cell_type": "markdown",
   "id": "190a6500",
   "metadata": {},
   "source": [
    "    - creation of hyperlinks\n",
    "\n",
    "To create the hyperlinks a double loop has been created, iterating over all the songs. So, when the external loop picks a song, the inner loop iterates all over the songs, comparing each inner song with the external one. Thus, if between each pair of songs a word is shared, it is stored as they have equal word/s in common. Finally, to decide how the links are directioned, we pick the _Year_ attribute from both songs. Between each pair of songs, the song that was realeased earlier will point towards the other one.\n",
    "\n",
    "Once all this has been done, the network is created by using the _nx.DiGraph()_ command. Each song name is added as a node, an each link stored before is added as mentioned above. Finally, to perform a better analysis of how the songs are related with, the GCC component is extracted."
   ]
  },
  {
   "cell_type": "markdown",
   "id": "c3021a8c",
   "metadata": {},
   "source": [
    "    - Determining a criteria about which should be the accurate number of words chosen (no crec q calgui posar totes les imatges i si si, ho faria amb un subplot maybe)\n",
    "    \n",
    "To determine the criteria of how many words should be chosen according to the tc-idf score when establishing the links between nodes, an optimal point had to be found between prioratizing the threshold that gave us higher modularity when aiming to find communities in our songs, and obtaining a sufficient of nodes and links that makes the analysis of the network significant.\n",
    "\n",
    "To do so, a loop has been created to see how the network size and shape evolves as the number of words per song to establish the comparison increases.\n",
    "\n",
    "Threshold:  2\n",
    "<img src=\"https://github.com/annarife99/SocialGraphs-Project/blob/main/Images/fignet2.png?raw=true\" alt=\"drawing\" width=\"500\"/>\n",
    "- Considering the GCC of the Beatles Network, it has 9 number of nodes and 14 number of links.\n",
    "Number of communities found:  2\n",
    "The modularity value is: 0.263\n",
    "The distribution of the community sizes\n",
    "\n",
    "Threshold:  3\n",
    "<img src=\"https://github.com/annarife99/SocialGraphs-Project/blob/main/Images/fignet3.png?raw=true\" alt=\"drawing\" width=\"500\"/>\n",
    "- Considering the GCC of the Beatles Network, it has 70 number of nodes and 117 number of links.\n",
    "Number of communities found:  9\n",
    "The modularity value is: 0.723\n",
    "The distribution of the community sizes\n",
    "\n",
    "Threshold:  4\n",
    "<img src=\"https://github.com/annarife99/SocialGraphs-Project/blob/main/Images/fignet4.png?raw=true\" alt=\"drawing\" width=\"500\"/>\n",
    "- Considering the GCC of the Beatles Network, it has 132 number of nodes and 296 number of links.\n",
    "Number of communities found:  12\n",
    "The modularity value is: 0.700\n",
    "The distribution of the community sizes\n",
    "\n",
    "Threshold:  5\n",
    "<img src=\"https://github.com/annarife99/SocialGraphs-Project/blob/main/Images/fignet5.png?raw=true\" alt=\"drawing\" width=\"500\"/>\n",
    "- Considering the GCC of the Beatles Network, it has 174 number of nodes and 482 number of links.\n",
    "Number of communities found:  11\n",
    "The modularity value is: 0.596\n",
    "The distribution of the community sizes\n",
    "\n",
    "Threshold:  6\n",
    "<img src=\"https://github.com/annarife99/SocialGraphs-Project/blob/main/Images/fignet6.png?raw=true\" alt=\"drawing\" width=\"500\"/>\n",
    "- Considering the GCC of the Beatles Network, it has 184 number of nodes and 695 number of links.\n",
    "Number of communities found:  9\n",
    "The modularity value is: 0.507\n",
    "The distribution of the community sizes\n",
    "\n",
    "Threshold:  7\n",
    "<img src=\"https://github.com/annarife99/SocialGraphs-Project/blob/main/Images/fignet7.png?raw=true\" alt=\"drawing\" width=\"500\"/>\n",
    "- Considering the GCC of the Beatles Network, it has 189 number of nodes and 953 number of links.\n",
    "Number of communities found:  9\n",
    "The modularity value is: 0.435\n",
    "The distribution of the community sizes\n",
    "\n",
    "Threshold:  8\n",
    "<img src=\"https://github.com/annarife99/SocialGraphs-Project/blob/main/Images/fignet8.png?raw=true\" alt=\"drawing\" width=\"500\"/>\n",
    "- Considering the GCC of the Beatles Network, it has 193 number of nodes and 1248 number of links.\n",
    "Number of communities found:  10\n",
    "The modularity value is: 0.360\n",
    "The distribution of the community sizes\n",
    "\n",
    "Threshold:  9\n",
    "<img src=\"https://github.com/annarife99/SocialGraphs-Project/blob/main/Images/fignet9.png?raw=true\" alt=\"drawing\" width=\"500\"/>\n",
    "- Considering the GCC of the Beatles Network, it has 195 number of nodes and 1528 number of links.\n",
    "Number of communities found:  8\n",
    "The modularity value is: 0.320\n",
    "The distribution of the community sizes"
   ]
  },
  {
   "cell_type": "markdown",
   "id": "c6691d72",
   "metadata": {},
   "source": [
    "**From the graphs and data plotted above, it has been decided to put the threshold at 5 words. Thus, achieving both a high level of modularity and a significant number of links and nodes when considering the GCC.**"
   ]
  },
  {
   "cell_type": "markdown",
   "id": "f93e68f7",
   "metadata": {},
   "source": [
    "- Describe which network science tools and data analysis strategies you've used, how those network science measures work, and why the tools you've chosen are right for the problem you're solving.\n",
    "\n",
    "        - Degree distributions:\n",
    "\n",
    "First, some basic stats of the network have been computed. Thus, total degree, in-degree and out-degree distributions are plotted below:\n",
    "\n",
    "<img src=\"https://github.com/annarife99/SocialGraphs-Project/blob/main/Images/Total_degree.png?raw=true\" alt=\"drawing\" width=\"400\"/>\n",
    "\n",
    "<img src=\"https://github.com/annarife99/SocialGraphs-Project/blob/main/Images/In_degree.png?raw=true\" alt=\"drawing\" width=\"400\"/>\n",
    "\n",
    "<img src=\"https://github.com/annarife99/SocialGraphs-Project/blob/main/Images/Out_degree.png?raw=true\" alt=\"drawing\" width=\"400\"/>\n",
    "\n"
   ]
  },
  {
   "cell_type": "markdown",
   "id": "c7ad2874",
   "metadata": {},
   "source": [
    "    - Finding communities\n",
    "In order to find communities inside the created network _community.community_louvain.best_partition()_ algorithm has been used. Thus the GCC of the beatles networks has been converted to undirected and inserted as an input to this algorithm. The results found show that 9 communities have been found, with a modularity value of 0.592."
   ]
  },
  {
   "cell_type": "markdown",
   "id": "1ef0ef92",
   "metadata": {},
   "source": [
    "- How did you use the tools to understand your dataset?"
   ]
  },
  {
   "cell_type": "markdown",
   "id": "40b1953e",
   "metadata": {},
   "source": [
    "## <font color='darkgreen'> 4. Discussion"
   ]
  },
  {
   "cell_type": "markdown",
   "id": "d0d9bde2",
   "metadata": {},
   "source": [
    "## <font color='darkgreen'> 5. Contributions"
   ]
  },
  {
   "cell_type": "code",
   "execution_count": null,
   "id": "ff2c48c4",
   "metadata": {},
   "outputs": [],
   "source": []
  }
 ],
 "metadata": {
  "kernelspec": {
   "display_name": "Python 3 (ipykernel)",
   "language": "python",
   "name": "python3"
  },
  "language_info": {
   "codemirror_mode": {
    "name": "ipython",
    "version": 3
   },
   "file_extension": ".py",
   "mimetype": "text/x-python",
   "name": "python",
   "nbconvert_exporter": "python",
   "pygments_lexer": "ipython3",
   "version": "3.8.2"
  }
 },
 "nbformat": 4,
 "nbformat_minor": 5
}
