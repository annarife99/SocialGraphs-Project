{
 "cells": [
  {
   "cell_type": "code",
   "execution_count": 326,
   "id": "2af31560",
   "metadata": {},
   "outputs": [],
   "source": [
    "def extract_html(url):\n",
    "    page = urlopen(url)\n",
    "    html_bytes = page.read()\n",
    "    html = html_bytes.decode(\"utf-8\")\n",
    "    return html"
   ]
  },
  {
   "cell_type": "code",
   "execution_count": 327,
   "id": "ca7c5c22",
   "metadata": {},
   "outputs": [
    {
     "data": {
      "text/plain": [
       "['12-Bar Original',\n",
       " '1822!',\n",
       " 'A Beginning',\n",
       " 'A Day In The Life',\n",
       " \"A Hard Day's Night\",\n",
       " 'A Little Rhyme',\n",
       " 'A Shot Of Rhythm And Blues',\n",
       " 'A Taste Of Honey',\n",
       " 'Across The Universe',\n",
       " 'Act Naturally']"
      ]
     },
     "execution_count": 327,
     "metadata": {},
     "output_type": "execute_result"
    }
   ],
   "source": [
    "import re\n",
    "from urllib.request import urlopen\n",
    "\n",
    "pattern1= 'hreflang=\"en\">(.*?)</a>'\n",
    "songs_titles=[]\n",
    "for i in range(0,9):\n",
    "    url = 'https://www.thebeatles.com/songs?page='+str(i)\n",
    "    html=extract_html(url)\n",
    "    a=re.findall(pattern1,html)\n",
    "    for el in a:\n",
    "        el=el.replace('&#039;', '\\'')\n",
    "        songs_titles.append(el)\n",
    "songs_titles[0:10]"
   ]
  },
  {
   "cell_type": "code",
   "execution_count": 328,
   "id": "8986f63a",
   "metadata": {},
   "outputs": [
    {
     "name": "stdout",
     "output_type": "stream",
     "text": [
      "words-love\n"
     ]
    }
   ],
   "source": [
    "import urllib.request as urllib2\n",
    "\n",
    "remove_list=[' a ',' in ',' the ',' of ',' to ',' is ',' at ',' for ',' that ',' by ',' as ',' from ',' into ',\n",
    "             ' on ',' with ',' off ',' this ',' up ',' like ']\n",
    "remove_list_start=['a-','in-','the-','of-','to-','is-','at-','for-','that-','by-','as-','from-','like-','this-',\n",
    "                  'with-']\n",
    "remove_list_end=['-by','-to','-on','-is','-that','-before']\n",
    "remove_list2=['\\'','.','!','(',')',',','/',':']\n",
    "\n",
    "pattern6='<div class=\"col-md-6 middle-content border-left border-right\"><p>'\n",
    "pattern7='<figure class=\"wp-block-table table-expander table table-imported\">'\n",
    "for title in songs_titles:\n",
    "    try:\n",
    "        title=title.lower()\n",
    "        for el in remove_list2: # delete special characters\n",
    "            title=title.replace(el,'')\n",
    "        for el in remove_list: # replace single words with a space\n",
    "            title=title.replace(el,' ')\n",
    "        title=title.replace(' ','-')\n",
    "        title=title.replace('--','-')\n",
    "        # delete words from the start\n",
    "        for i in range(0,6):\n",
    "            if title[:i] in remove_list_start:\n",
    "                title=title[i:]\n",
    "        # delete words end\n",
    "        for i in range(0,8):\n",
    "            if title[-i:] in remove_list_end:\n",
    "                title=title[:-i]\n",
    "        if title[0]=='-':\n",
    "            title=title[1:]\n",
    "        url='https://www.thebeatles.com/'\n",
    "        query=extract_html(url+title)\n",
    "        # write the extracted text in a .txt file\n",
    "        file=open('raw_songs/'+title+'.txt','w+')\n",
    "        file.write(query)\n",
    "        file.close()\n",
    "    except:\n",
    "        print(title)"
   ]
  },
  {
   "cell_type": "markdown",
   "id": "8a79f050",
   "metadata": {},
   "source": [
    "Hi ha a vegades que et pila la query del url tot i que la pàgina que correspon a la cançó té un afegit al final de -0 o -1, com el cas de la cançó que peta que és words-love-0"
   ]
  },
  {
   "cell_type": "code",
   "execution_count": 329,
   "id": "75a6821d",
   "metadata": {},
   "outputs": [],
   "source": [
    "import re\n",
    "from urllib.request import urlopen"
   ]
  },
  {
   "cell_type": "code",
   "execution_count": 330,
   "id": "48e0faf2",
   "metadata": {},
   "outputs": [
    {
     "data": {
      "text/plain": [
       "'Desmond has a barrow in the market place,  Molly is the singer in a band.  Desmond says to Molly, \"Girl, I like your face,\"  And Molly says this as she takes him by the hand:   Obladi, Oblada, life goes on, bra,  Lala how their life goes on.  Obladi, Oblada, life goes on, bra,  Lala how their life goes on.   Desmond takes a trolley to the jeweler\\'s store,  Buys a twenty carat golden ring.  Takes it back to Molly waiting at the door,  And as he gives it to her she begins to sing:   Obladi, Oblada, life goes on, bra,  Lala how their life goes on.  Obladi, Oblada, life goes on, bra,  Lala how their life goes on.   In a couple of years,  They have built a home sweet home.  With a couple of kids running in the yard  Of Desmond and Molly Jones.   Happy ever after in the market place,  Desmond lets the children lend a hand.  Molly stays at home and does her pretty face,  and in the evening she still sings it with the band.   Obladi, Oblada, life goes on, bra,  Lala how their life goes on.  Obladi, Oblada, life goes on, bra,  Lala how their life goes on.   In a couple of years,  They have built a home sweet home.  With a couple of kids running in the yard  of Desmond and Molly Jones.   Happy ever after in the market place,  Molly lets the children lend a hand.  Desmond stays at home and does his pretty face,  And in the evening she\\'s a singer with the band.   Obladi, Oblada, life goes on, bra,  Lala how their life goes on.  Obladi, Oblada, life goes on, bra,  Lala how their life goes   And if you want some fun, take obladiblada.                   '"
      ]
     },
     "execution_count": 330,
     "metadata": {},
     "output_type": "execute_result"
    }
   ],
   "source": [
    "pattern6='<div class=\"col-md-6 middle-content border-left border-right\"><p>'\n",
    "pattern7='<figure class=\"wp-block-table table-expander table table-imported\">'\n",
    "remove_list=['<br />','\\n','</p>','<p>']\n",
    "\n",
    "def extract_lyrics(song_path):\n",
    "    song=open(song_path).read()\n",
    "    idx_init = re.search(pattern6,song).end()\n",
    "    idx_final = re.search(pattern7,song).start()\n",
    "    lyrics=song[idx_init:idx_final]\n",
    "    for el in remove_list: # delete special characters\n",
    "        lyrics=lyrics.replace(el,' ')\n",
    "    return lyrics\n",
    "\n",
    "extract_lyrics('raw_songs/ob-la-di-ob-la-da.txt')"
   ]
  },
  {
   "cell_type": "code",
   "execution_count": 331,
   "id": "be9e0ca7",
   "metadata": {},
   "outputs": [
    {
     "data": {
      "text/plain": [
       "\"Yesterday, all my troubles seemed so far away,  Now it looks as though they're here to stay,  Oh, I believe in yesterday   Suddenly, I'm not half the man I used to be  There's a shadow hanging over me  Oh, yesterday came suddenly   Why she had to go I don't know, she wouldn't say  I said something wrong, now I long for yesterday   Yesterday, love was such an easy game to play  Now I need a place to hide away  Oh, I believe in yesterday   Why she had to go I don't know, she wouldn't say  I said something wrong, now I long for yesterday   Yesterday, love was such an easy game to play  Now I need a place to hide away  Oh, I believe in yesterday,  Mm mm mm mm mm.   \""
      ]
     },
     "execution_count": 331,
     "metadata": {},
     "output_type": "execute_result"
    }
   ],
   "source": [
    "extract_lyrics('raw_songs/yesterday.txt')"
   ]
  },
  {
   "cell_type": "code",
   "execution_count": 332,
   "id": "c7c890ad",
   "metadata": {},
   "outputs": [],
   "source": [
    "import os"
   ]
  },
  {
   "cell_type": "code",
   "execution_count": 333,
   "id": "5c7fec95",
   "metadata": {},
   "outputs": [
    {
     "name": "stdout",
     "output_type": "stream",
     "text": [
      "lonesome-tears-my-eyes\tthree-cool-cats\tlucille\tdizzy-miss-lizzy\tmemphis-tennessee\triding-bus\t12-bar-original\tset-fire-lot\tlend-me-your-comb\tkansas-city-hey-hey-hey-hey\tbaby-its-you\ttoo-much-monkey-business\t.DS_S\tmarch-meanies\tbeatle-greetings\tact-naturally\ti-forgot-remember-forget\tmy-bonnie\trevolution-9\ti-just-dont-understand\tpepperland-laid-waste\tso-how-come-no-one-loves-me\tfluff-you\ttwist-and-shout\tooh-my-soul\tmagical-mystery-tour\tsure-fall-love-you\tyou-really-got-hold-me\tnothin-shakin\thallelujah-i-love-her-so\tlet-it-be\tglad-all-over\tmoney-thats-what-i-want\tcry-shadow\tboys\tlittle-rhyme\tshout\thave-banana\trip-it-shake-rattle-and-roll-blue-suede-shoes\tanna-go-him\thow-do-you-do-it\till-be-my-way\tim-gonna-sit-right-down-and-cry\tkeep-your-hands-my-baby\tmailman-bring-me-no-more-blues\ttaste-honey\tsweet-little-sixteen\tdont-ever-change\thard-days-night\tcarol\tspeech-brian-epstein\tslow-down\tdear-wack\trock-and-roll-music\tcrying-waiting-hoping\tsome-other-guy\taint-she-sweet\tbad-boy\tjohnny-b-goode\tsearchin\tmr-moonlight\tday-life\tsea-time\tbesame-mucho\troll-over-beethoven\tlove-these-goon-shows\tlong-tall-sally\ti-got-find-my-baby\ti-got-woman\tsea-monsters\t1822\tooh-my-arms\thoneymoon-song\tshot-rhythm-and-blues\tall-you-need-love\tpepperland\tgnik-nus\tplease-mister-postman\tclarabella\tall-together-now\tleave-my-kitten-alone\tpenny-lane\tcrinsk-dee-night\tjust-rumour\tsha-la-la-la-la\tyellow-submarine\tchains\tplease-please-me\tflying\thelp\tthatll-be-day\thippy-hippy-shake\tcayenne\tsea-holes\tbeginning\tthats-all-right-mama\trevolution-1\tsoldier-love\trevolution\tyoung-blood\ttill-there-was-you\tknow-her-love-her\tyellow-submarine-pepperland\tmoonlight-bay\tsheik-araby\t"
     ]
    }
   ],
   "source": [
    "txt_files = os.listdir('raw_songs')\n",
    "songs_no_lyrics=[]\n",
    "for el in txt_files:\n",
    "    el=el[:-4]\n",
    "    song_path='raw_songs/'+el+'.txt'\n",
    "    try:\n",
    "        lyrics=extract_lyrics(song_path)\n",
    "        file=open('lyrics_songs/'+el+'.txt','w+')\n",
    "        file.write(lyrics)\n",
    "        file.close()\n",
    "    except:\n",
    "        songs_no_lyrics.append(el)\n",
    "        print(el, end='\\t')"
   ]
  },
  {
   "cell_type": "code",
   "execution_count": 334,
   "id": "32dd8519",
   "metadata": {},
   "outputs": [],
   "source": [
    "lyrics_files = os.listdir('lyrics_songs')\n",
    "for el in songs_no_lyrics:\n",
    "    el=el[:-4]\n",
    "    url='https://www.thebeatles.com/'\n",
    "    # check if the song has lyrics or not\n",
    "    for i in range(0,4):\n",
    "        try:\n",
    "            query=extract_html(url+el+'-'+str(i))\n",
    "            idx_init = re.search(pattern6,query).end()\n",
    "            idx_final = re.search(pattern7,query).start()\n",
    "            # rewrite the extracted text in a .txt file\n",
    "            file=open('raw_songs/'+el+'.txt','w+')\n",
    "            file.write(query)\n",
    "            file.close()\n",
    "            print(el, i)\n",
    "            # and save the lyrics\n",
    "            lyrics=extract_lyrics('raw_songs/'+el+'.txt')\n",
    "            file=open('lyrics_songs/'+el+'.txt','w+')\n",
    "            file.write(lyrics)\n",
    "            file.close()\n",
    "            break\n",
    "        except:\n",
    "            pass"
   ]
  },
  {
   "cell_type": "code",
   "execution_count": 320,
   "id": "47bba4a2",
   "metadata": {},
   "outputs": [
    {
     "data": {
      "text/plain": [
       "98"
      ]
     },
     "execution_count": 320,
     "metadata": {},
     "output_type": "execute_result"
    }
   ],
   "source": [
    "txt_files = os.listdir('raw_songs')\n",
    "songs_no_lyrics=[]\n",
    "for el in txt_files:\n",
    "    song_path='raw_songs/'+el\n",
    "    try:\n",
    "        lyrics=extract_lyrics(song_path)\n",
    "        file=open('lyrics_songs/'+el+'.txt','w+')\n",
    "        file.write(lyrics)\n",
    "        file.close()\n",
    "    except:\n",
    "        songs_no_lyrics.append(el)\n",
    "len(songs_no_lyrics)"
   ]
  },
  {
   "cell_type": "markdown",
   "id": "2e8978cb",
   "metadata": {},
   "source": [
    "### Feature: Clean lyrics files"
   ]
  },
  {
   "cell_type": "code",
   "execution_count": 302,
   "id": "bddada72",
   "metadata": {},
   "outputs": [],
   "source": [
    "from nltk.tokenize import WordPunctTokenizer\n",
    "from nltk.corpus import stopwords\n",
    "from nltk.probability import FreqDist\n",
    "\n",
    "stop_words = list(set(stopwords.words('english')))\n",
    "stop_words = [el.replace('\\'','') for el in stop_words]\n",
    "stop_words.append('im')\n",
    "\n",
    "\n",
    "def clean_lyrics(file_path):\n",
    "    data=open(file_path).read()\n",
    "    # import WordPunctTokenizer() method from nltk\n",
    "    # Create a reference variable for Class WordPunctTokenizer\n",
    "    tk = WordPunctTokenizer()\n",
    "    # define punctuation\n",
    "    punctuations = '''!()-[]{};:'\"\\,<>./?@#$%^&*_~'''\n",
    "    # remove punctuation from the string\n",
    "    no_punct = \"\"\n",
    "    for char in data:\n",
    "        if char not in punctuations:\n",
    "            no_punct = no_punct + char\n",
    "    # Remove all the special characters as \\n and single = left\n",
    "    char=['\\n','=']\n",
    "    for el in char:\n",
    "        raw=re.sub(el,'',no_punct)\n",
    "    # remove stop words\n",
    "    token_txt = tk.tokenize(raw.lower()) # set to lower case\n",
    "    token_txt = tk.tokenize(raw.lower()) # set to lower case\n",
    "    token_final = [x for x in token_txt if x not in stop_words and len(x)>2]\n",
    "    return token_final"
   ]
  },
  {
   "cell_type": "code",
   "execution_count": 303,
   "id": "99b5169a",
   "metadata": {},
   "outputs": [
    {
     "data": {
      "text/plain": [
       "406"
      ]
     },
     "execution_count": 303,
     "metadata": {},
     "output_type": "execute_result"
    }
   ],
   "source": [
    "lyrics_files=[el[:-4] for el in os.listdir('lyrics_songs')]\n",
    "lyrics_files.remove('.DS_S') # remove this element that is introduced when using os.listdir\n",
    "len(lyrics_files)"
   ]
  },
  {
   "cell_type": "markdown",
   "id": "55e6efd4",
   "metadata": {},
   "source": [
    "## Create network"
   ]
  },
  {
   "cell_type": "code",
   "execution_count": 304,
   "id": "f4dc20b8",
   "metadata": {},
   "outputs": [],
   "source": [
    "d_top5={}\n",
    "for file in lyrics_files:\n",
    "    path='lyrics_songs/'+file+'.txt'\n",
    "    clean=clean_lyrics(path)\n",
    "    \n",
    "    top5=[]\n",
    "    for el in FreqDist(clean).most_common(5):\n",
    "        top5.append(el[0])\n",
    "    d_top5[file]=top5"
   ]
  },
  {
   "cell_type": "code",
   "execution_count": 305,
   "id": "6ef5a164",
   "metadata": {},
   "outputs": [],
   "source": [
    "hyperlinks={} #dictionary to store links \n",
    "for file1 in lyrics_files:\n",
    "    eq_files=[]\n",
    "    for file2 in lyrics_files:\n",
    "        if file1!=file2:\n",
    "            a=d_top5[file1]\n",
    "            b=d_top5[file2]\n",
    "            # compute if there are equal words in both lists\n",
    "            eq=0\n",
    "            for el in a:\n",
    "                if el in b:\n",
    "                    eq+=1\n",
    "            if eq!=0:\n",
    "                eq_files.append(file2)\n",
    "    hyperlinks[file1]=eq_files"
   ]
  },
  {
   "cell_type": "code",
   "execution_count": 306,
   "id": "ff32afdf",
   "metadata": {},
   "outputs": [],
   "source": [
    "import networkx as nx\n",
    "#We build the Directed Network\n",
    "Beatles_nw= nx.DiGraph()\n",
    "for file in lyrics_files:\n",
    "    #We add the nodes and attributes to the the network\n",
    "    Beatles_nw.add_node(file)\n",
    "\n",
    "\n",
    "#We add the hyperlinks to the the network\n",
    "for el in lyrics_files:\n",
    "    links= hyperlinks[el]\n",
    "    for a in links:\n",
    "        u= el\n",
    "        v= a\n",
    "        Beatles_nw.add_edge(u,v)"
   ]
  },
  {
   "cell_type": "code",
   "execution_count": 307,
   "id": "2b15c780",
   "metadata": {},
   "outputs": [
    {
     "data": {
      "image/png": "[encoded data removed]",
      "text/plain": [
       "<Figure size 432x288 with 1 Axes>"
      ]
     },
     "metadata": {},
     "output_type": "display_data"
    }
   ],
   "source": [
    "nx.draw(Beatles_nw)"
   ]
  },
  {
   "cell_type": "markdown",
   "id": "8125dfbd",
   "metadata": {},
   "source": [
    "### Extract GCC"
   ]
  },
  {
   "cell_type": "code",
   "execution_count": 308,
   "id": "06506339",
   "metadata": {},
   "outputs": [],
   "source": [
    "Gs = list(Beatles_nw.subgraph(c).copy() for c in nx.weakly_connected_components(Beatles_nw))\n",
    "biggest = 0\n",
    "GCC_index = 0\n",
    "for index,graph in enumerate(Gs):\n",
    "    if len(graph.nodes) > biggest:\n",
    "        biggest = len(graph.nodes)\n",
    "        GCC_index = index\n",
    "GCC = Gs[GCC_index]"
   ]
  },
  {
   "cell_type": "code",
   "execution_count": 309,
   "id": "b9ce14f1",
   "metadata": {},
   "outputs": [
    {
     "data": {
      "image/png": "[encoded data removed]",
      "text/plain": [
       "<Figure size 432x288 with 1 Axes>"
      ]
     },
     "metadata": {},
     "output_type": "display_data"
    }
   ],
   "source": [
    "options = {\n",
    "    'node_size': 40,\n",
    "    'width': 0.2,\n",
    "}\n",
    "nx.draw(GCC,**options)"
   ]
  },
  {
   "cell_type": "markdown",
   "id": "68c484ed",
   "metadata": {},
   "source": [
    "#### Convert to undirected network"
   ]
  },
  {
   "cell_type": "code",
   "execution_count": 310,
   "id": "6a26cc8f",
   "metadata": {},
   "outputs": [
    {
     "data": {
      "image/png": "[encoded data removed]",
      "text/plain": [
       "<Figure size 432x288 with 1 Axes>"
      ]
     },
     "metadata": {},
     "output_type": "display_data"
    }
   ],
   "source": [
    "un_Beatles_nw= GCC.to_undirected()\n",
    "\n",
    "options = {\n",
    "    'node_size': 40,\n",
    "    'width': 0.2,\n",
    "}\n",
    "nx.draw(un_Beatles_nw,**options)"
   ]
  },
  {
   "cell_type": "markdown",
   "id": "e6785727",
   "metadata": {},
   "source": [
    "Still needs to be define a criteria to link two songs. Right now the criteria is that if between the most 5 common words one is present in both songs, these songs are linked."
   ]
  },
  {
   "cell_type": "code",
   "execution_count": 311,
   "id": "c6eb338a",
   "metadata": {},
   "outputs": [
    {
     "data": {
      "text/plain": [
       "{'love-me-do.txt': 153,\n",
       " 'love-me-do': 153,\n",
       " 'my-life.txt': 151,\n",
       " 'my-life': 151,\n",
       " 'means-lot': 147,\n",
       " 'means-lot.txt': 147,\n",
       " 'do-you-want-know-secret.txt': 145,\n",
       " 'do-you-want-know-secret': 145,\n",
       " 'ask-me-why': 143,\n",
       " 'ask-me-why.txt': 143,\n",
       " 'dreamers-do.txt': 141,\n",
       " 'dreamers-do': 141,\n",
       " 'here-there-and-everywhere': 139,\n",
       " 'i-feel-fine': 139,\n",
       " 'here-there-and-everywhere.txt': 139,\n",
       " 'i-feel-fine.txt': 139,\n",
       " 'i-dont-want-spoil-party.txt': 137,\n",
       " 'i-dont-want-spoil-party': 137,\n",
       " 'i-should-have-known-better.txt': 135,\n",
       " 'i-will.txt': 135,\n",
       " 'i-should-have-known-better': 135,\n",
       " 'i-will': 135,\n",
       " 'shes-woman.txt': 129,\n",
       " 'shes-woman': 129,\n",
       " 'she-loves-you.txt': 125,\n",
       " 'she-loves-you': 125,\n",
       " 'you-know-what-do': 123,\n",
       " 'end.txt': 123,\n",
       " 'end': 123,\n",
       " 'old-brown-shoe.txt': 123,\n",
       " 'you-know-what-do.txt': 123,\n",
       " 'old-brown-shoe': 123,\n",
       " 'no-one.txt': 121,\n",
       " 'no-one': 121,\n",
       " 'dont-pass-me.txt': 121,\n",
       " 'dont-pass-me': 121,\n",
       " 'youve-got-hide-your-love-away': 119,\n",
       " 'youve-got-hide-your-love-away.txt': 119,\n",
       " 'cant-buy-me-love.txt': 119,\n",
       " 'cant-buy-me-love': 119,\n",
       " 'thank-you-girl.txt': 117,\n",
       " 'thank-you-girl': 117,\n",
       " 'within-you-without-you.txt': 115,\n",
       " 'things-we-said-today': 115,\n",
       " 'things-we-said-today.txt': 115,\n",
       " 'within-you-without-you': 115,\n",
       " 'all-you-need-love': 111,\n",
       " 'all-you-need-love.txt': 111,\n",
       " 'love-you.txt': 109,\n",
       " 'long-long-long': 109,\n",
       " 'real-love.txt': 109,\n",
       " 'long-long-long.txt': 109,\n",
       " 'love-you': 109,\n",
       " 'real-love': 109,\n",
       " 'if-i-fell': 107,\n",
       " 'you-blue.txt': 107,\n",
       " 'ps-i-love-you.txt': 107,\n",
       " 'if-i-fell.txt': 107,\n",
       " 'you-blue': 107,\n",
       " 'ps-i-love-you': 107,\n",
       " 'not-second-time.txt': 105,\n",
       " 'boy.txt': 105,\n",
       " 'not-second-time': 105,\n",
       " 'ill-be-back': 105,\n",
       " 'boy': 105,\n",
       " 'ill-be-back.txt': 105,\n",
       " 'its-only-love': 103,\n",
       " 'step-inside-love-los-paranoias': 103,\n",
       " 'step-inside-love-los-paranoias.txt': 103,\n",
       " 'its-only-love.txt': 103,\n",
       " 'its-all-too-much': 99,\n",
       " 'its-all-too-much.txt': 99,\n",
       " 'if-i-needed-someone.txt': 99,\n",
       " 'if-i-needed-someone': 99,\n",
       " 'and-i-love-her.txt': 97,\n",
       " 'word': 97,\n",
       " 'word.txt': 97,\n",
       " 'and-i-love-her': 97,\n",
       " 'she-said-she-said.txt': 95,\n",
       " 'please-please-me.txt': 95,\n",
       " 'something.txt': 95,\n",
       " 'something': 95,\n",
       " 'please-please-me': 95,\n",
       " 'she-said-she-said': 95,\n",
       " 'i-call-your-name': 93,\n",
       " 'i-call-your-name.txt': 93,\n",
       " 'dont-let-me-down': 92,\n",
       " 'dont-let-me-down.txt': 92,\n",
       " 'tomorrow-never-knows': 91,\n",
       " 'im-happy-just-dance-you': 91,\n",
       " 'tomorrow-never-knows.txt': 91,\n",
       " 'im-happy-just-dance-you.txt': 91,\n",
       " 'because': 89,\n",
       " 'im-down': 89,\n",
       " 'wild-honey-pie': 89,\n",
       " 'wild-honey-pie.txt': 89,\n",
       " 'because.txt': 89,\n",
       " 'im-down.txt': 89,\n",
       " 'eight-days-week': 87,\n",
       " 'im-so-tired': 87,\n",
       " 'julia.txt': 87,\n",
       " 'julia': 87,\n",
       " 'eight-days-week.txt': 87,\n",
       " 'im-so-tired.txt': 87,\n",
       " 'every-little-thing': 83,\n",
       " 'dont-bother-me.txt': 83,\n",
       " 'dont-bother-me': 83,\n",
       " 'every-little-thing.txt': 83,\n",
       " 'your-mother-should-know': 77,\n",
       " 'back-ussr.txt': 77,\n",
       " 'your-mother-should-know.txt': 77,\n",
       " 'back-ussr': 77,\n",
       " 'inner-light': 75,\n",
       " 'inner-light.txt': 75,\n",
       " 'hello-little-girl': 73,\n",
       " 'hello-goodbye.txt': 73,\n",
       " 'hello-goodbye': 73,\n",
       " 'hello-little-girl.txt': 73,\n",
       " 'yesterday': 71,\n",
       " 'yesterday.txt': 71,\n",
       " 'polythene-pam.txt': 71,\n",
       " 'polythene-pam': 71,\n",
       " 'ballad-john-and-yoko.txt': 71,\n",
       " 'ballad-john-and-yoko': 71,\n",
       " 'another-girl': 67,\n",
       " 'we-can-work-it-out.txt': 67,\n",
       " 'savoy-truffle': 67,\n",
       " 'another-girl.txt': 67,\n",
       " 'taxman.txt': 67,\n",
       " 'savoy-truffle.txt': 67,\n",
       " 'ill-get-you.txt': 67,\n",
       " 'taxman': 67,\n",
       " 'we-can-work-it-out': 67,\n",
       " 'ill-get-you': 67,\n",
       " 'yer-blues': 65,\n",
       " 'and-your-bird-can-sing.txt': 65,\n",
       " 'and-your-bird-can-sing': 65,\n",
       " 'yer-blues.txt': 65,\n",
       " 'while-my-guitar-gently-weeps': 63,\n",
       " 'while-my-guitar-gently-weeps.txt': 63,\n",
       " 'you-know-my-name.txt': 63,\n",
       " 'you-know-my-name': 63,\n",
       " 'i-want-tell-you': 61,\n",
       " 'spite-all-danger': 61,\n",
       " 'spite-all-danger.txt': 61,\n",
       " 'not-guilty': 61,\n",
       " 'tell-me-what-you-see.txt': 61,\n",
       " 'not-guilty.txt': 61,\n",
       " 'i-want-tell-you.txt': 61,\n",
       " 'tell-me-what-you-see': 61,\n",
       " 'ill-cry-instead': 59,\n",
       " 'dear-prudence.txt': 59,\n",
       " 'ill-cry-instead.txt': 59,\n",
       " 'ive-got-feeling': 59,\n",
       " 'ive-got-feeling.txt': 59,\n",
       " 'dear-prudence': 59,\n",
       " 'come-together': 57,\n",
       " 'come-together.txt': 57,\n",
       " 'got-get-you-my-life': 55,\n",
       " 'all-ive-got-do': 55,\n",
       " 'little-child.txt': 55,\n",
       " 'misery.txt': 55,\n",
       " 'got-get-you-my-life.txt': 55,\n",
       " 'little-child': 55,\n",
       " 'all-ive-got-do.txt': 55,\n",
       " 'run-your-life.txt': 55,\n",
       " 'you-me-too-much.txt': 55,\n",
       " 'run-your-life': 55,\n",
       " 'you-me-too-much': 55,\n",
       " 'misery': 55,\n",
       " 'devil-her-heart.txt': 53,\n",
       " 'devil-her-heart': 53,\n",
       " 'you-wont-see-me': 53,\n",
       " 'you-wont-see-me.txt': 53,\n",
       " 'you-cant-do': 52,\n",
       " 'you-cant-do.txt': 52,\n",
       " 'i-wanna-be-your-man.txt': 51,\n",
       " 'any-time-all': 51,\n",
       " 'any-time-all.txt': 51,\n",
       " 'fool-hill.txt': 51,\n",
       " 'all-my-loving.txt': 51,\n",
       " 'all-my-loving': 51,\n",
       " 'i-wanna-be-your-man': 51,\n",
       " 'fool-hill': 51,\n",
       " 'it-wont-be-long': 49,\n",
       " 'it-wont-be-long.txt': 49,\n",
       " 'baby-youre-rich-man': 49,\n",
       " 'baby-youre-rich-man.txt': 49,\n",
       " 'good-morning-good-morning.txt': 49,\n",
       " 'good-morning-good-morning': 49,\n",
       " 'us-you': 47,\n",
       " 'youre-going-lose-girl': 47,\n",
       " 'youre-going-lose-girl.txt': 47,\n",
       " 'she-came-through-bathroom-window': 47,\n",
       " 'dig-pony': 47,\n",
       " 'night.txt': 47,\n",
       " 'wait.txt': 47,\n",
       " 'oh-darling': 47,\n",
       " 'night': 47,\n",
       " 'wait': 47,\n",
       " 'oh-darling.txt': 47,\n",
       " 'us-you.txt': 47,\n",
       " 'she-came-through-bathroom-window.txt': 47,\n",
       " 'dig-pony.txt': 47,\n",
       " 'i-need-you': 45,\n",
       " 'me-you': 45,\n",
       " 'i-need-you.txt': 45,\n",
       " 'girl': 45,\n",
       " 'paperback-writer.txt': 45,\n",
       " 'helter-skelter.txt': 45,\n",
       " 'girl.txt': 45,\n",
       " 'honey-dont': 45,\n",
       " 'paperback-writer': 45,\n",
       " 'helter-skelter': 45,\n",
       " 'me-you.txt': 45,\n",
       " 'honey-dont.txt': 45,\n",
       " 'get-back': 43,\n",
       " 'think-yourself': 43,\n",
       " 'think-yourself.txt': 43,\n",
       " 'get-back.txt': 43,\n",
       " 'honey-pie.txt': 43,\n",
       " 'honey-pie': 43,\n",
       " 'ill-follow-sun': 41,\n",
       " 'i-am-walrus.txt': 41,\n",
       " 'ive-just-seen-face.txt': 41,\n",
       " 'ive-just-seen-face': 41,\n",
       " 'golden-slumbers': 41,\n",
       " 'golden-slumbers.txt': 41,\n",
       " 'blue-jay-way.txt': 41,\n",
       " 'i-am-walrus': 41,\n",
       " 'ill-follow-sun.txt': 41,\n",
       " 'blue-jay-way': 41,\n",
       " 'what-youre-doing': 39,\n",
       " 'what-youre-doing.txt': 39,\n",
       " 'lady-madonna': 39,\n",
       " 'help.txt': 39,\n",
       " 'two-us.txt': 39,\n",
       " 'lady-madonna.txt': 39,\n",
       " 'help': 39,\n",
       " 'come-and-get-it': 39,\n",
       " 'come-and-get-it.txt': 39,\n",
       " 'two-us': 39,\n",
       " 'you-never-give-me-your-money.txt': 37,\n",
       " 'day-tripper': 37,\n",
       " 'you-never-give-me-your-money': 37,\n",
       " 'day-tripper.txt': 37,\n",
       " 'across-universe.txt': 35,\n",
       " 'long-and-winding-road': 35,\n",
       " 'across-universe': 35,\n",
       " 'long-and-winding-road.txt': 35,\n",
       " 'martha-my-dear': 33,\n",
       " 'eleanor-rigby': 33,\n",
       " 'eleanor-rigby.txt': 33,\n",
       " 'matchbox': 33,\n",
       " 'matchbox.txt': 33,\n",
       " 'martha-my-dear.txt': 33,\n",
       " 'one-after-909': 31,\n",
       " 'i-want-hold-your-hand.txt': 31,\n",
       " 'when-i-get-home': 31,\n",
       " 'when-i-get-home.txt': 31,\n",
       " 'i-want-hold-your-hand': 31,\n",
       " 'yes-it.txt': 31,\n",
       " 'if-youve-got-trouble': 31,\n",
       " 'one-after-909.txt': 31,\n",
       " 'little-help-my-friends': 31,\n",
       " 'glass-onion.txt': 31,\n",
       " 'if-youve-got-trouble.txt': 31,\n",
       " 'glass-onion': 31,\n",
       " 'carry-weight': 31,\n",
       " 'carry-weight.txt': 31,\n",
       " 'little-help-my-friends.txt': 31,\n",
       " 'yes-it': 31,\n",
       " 'everybodys-got-something-hide-except-me-and-my-monkey': 29,\n",
       " 'good-day-sunshine': 29,\n",
       " 'theres-place': 29,\n",
       " 'cry-baby-cry': 29,\n",
       " 'norwegian-wood-bird-has-flown.txt': 29,\n",
       " 'theres-place.txt': 29,\n",
       " 'norwegian-wood-bird-has-flown': 29,\n",
       " 'good-day-sunshine.txt': 29,\n",
       " 'everybodys-trying-be-my-baby': 29,\n",
       " 'lucy-sky-diamonds': 29,\n",
       " 'lucy-sky-diamonds.txt': 29,\n",
       " 'everybodys-got-something-hide-except-me-and-my-monkey.txt': 29,\n",
       " 'cry-baby-cry.txt': 29,\n",
       " 'everybodys-trying-be-my-baby.txt': 29,\n",
       " 'hey-jude.txt': 28,\n",
       " 'hey-jude': 28,\n",
       " 'tell-me-why.txt': 27,\n",
       " 'birthday.txt': 27,\n",
       " 'tell-me-why': 27,\n",
       " 'good-night': 27,\n",
       " 'good-night.txt': 27,\n",
       " 'birthday': 27,\n",
       " 'her-majesty': 25,\n",
       " 'fixing-hole': 25,\n",
       " 'sie-liebt-dich.txt': 25,\n",
       " 'octopuss-garden': 25,\n",
       " 'i-want-you': 25,\n",
       " 'sie-liebt-dich': 25,\n",
       " 'dig-it.txt': 25,\n",
       " 'dig-it': 25,\n",
       " 'teddy-boy': 25,\n",
       " 'octopuss-garden.txt': 25,\n",
       " 'teddy-boy.txt': 25,\n",
       " 'i-want-you.txt': 25,\n",
       " 'her-majesty.txt': 25,\n",
       " 'fixing-hole.txt': 25,\n",
       " 'hold-me-tight': 25,\n",
       " 'hold-me-tight.txt': 25,\n",
       " 'ticket-ride': 23,\n",
       " 'penny-lane.txt': 23,\n",
       " 'ticket-ride.txt': 23,\n",
       " 'penny-lane': 23,\n",
       " 'i-saw-her-standing-there.txt': 21,\n",
       " 'magical-mystery-tour': 21,\n",
       " 'getting-better': 21,\n",
       " 'rocky-raccoon': 21,\n",
       " 'here-comes-sun': 21,\n",
       " 'i-saw-her-standing-there': 21,\n",
       " 'here-comes-sun.txt': 21,\n",
       " 'rocky-raccoon.txt': 21,\n",
       " 'getting-better.txt': 21,\n",
       " 'magical-mystery-tour.txt': 21,\n",
       " 'nowhere-man': 21,\n",
       " 'nowhere-man.txt': 21,\n",
       " 'strawberry-fields-forever': 20,\n",
       " 'strawberry-fields-forever.txt': 20,\n",
       " 'all-things-must-pass.txt': 19,\n",
       " 'why-dont-we-do-it-road.txt': 19,\n",
       " 'why-dont-we-do-it-road': 19,\n",
       " 'all-things-must-pass': 19,\n",
       " 'rain': 19,\n",
       " 'rain.txt': 19,\n",
       " 'what-goes': 17,\n",
       " 'what-goes.txt': 17,\n",
       " 'lovely-rita.txt': 17,\n",
       " 'lovely-rita': 17,\n",
       " 'piggies': 15,\n",
       " 'youll-be-mine': 15,\n",
       " 'no-reply.txt': 15,\n",
       " 'youll-be-mine.txt': 15,\n",
       " 'blackbird': 15,\n",
       " 'when-im-sixty-four': 15,\n",
       " 'drive-my-car.txt': 15,\n",
       " 'drive-my-car': 15,\n",
       " 'piggies.txt': 15,\n",
       " 'blackbird.txt': 15,\n",
       " 'mean-mr-mustard.txt': 15,\n",
       " 'no-reply': 15,\n",
       " 'mean-mr-mustard': 15,\n",
       " 'when-im-sixty-four.txt': 15,\n",
       " 'only-northern-song': 13,\n",
       " 'i-me-mine': 13,\n",
       " 'doctor-robert': 13,\n",
       " 'doctor-robert.txt': 13,\n",
       " 'i-me-mine.txt': 13,\n",
       " 'only-northern-song.txt': 13,\n",
       " 'im-only-sleeping': 11,\n",
       " 'im-only-sleeping.txt': 11,\n",
       " 'shes-leaving-home': 11,\n",
       " 'hey-bulldog.txt': 11,\n",
       " 'free-bird': 11,\n",
       " 'free-bird.txt': 11,\n",
       " 'hey-bulldog': 11,\n",
       " 'shes-leaving-home.txt': 11,\n",
       " 'continuing-story-bungalow-bill.txt': 9,\n",
       " 'babys-black': 9,\n",
       " 'babys-black.txt': 9,\n",
       " 'sun-king': 9,\n",
       " 'sun-king.txt': 9,\n",
       " 'continuing-story-bungalow-bill': 9,\n",
       " 'let-it-be.txt': 8,\n",
       " 'mother-natures-son': 7,\n",
       " 'ob-la-di-ob-la-da.txt': 7,\n",
       " 'junk': 7,\n",
       " 'mother-natures-son.txt': 7,\n",
       " 'happiness-warm-gun': 7,\n",
       " 'happiness-warm-gun.txt': 7,\n",
       " 'ob-la-di-ob-la-da': 7,\n",
       " 'junk.txt': 7,\n",
       " 'being-benefit-mr-kite.txt': 5,\n",
       " 'im-loser': 5,\n",
       " 'im-loser.txt': 5,\n",
       " 'sgt-peppers-lonely-hearts-club-band.txt': 5,\n",
       " 'im-looking-through-you.txt': 5,\n",
       " 'sgt-peppers-lonely-hearts-club-band-reprise': 5,\n",
       " 'sgt-peppers-lonely-hearts-club-band': 5,\n",
       " 'im-looking-through-you': 5,\n",
       " 'sgt-peppers-lonely-hearts-club-band-reprise.txt': 5,\n",
       " 'being-benefit-mr-kite': 5,\n",
       " 'sexy-sadie.txt': 5,\n",
       " 'sexy-sadie': 5,\n",
       " 'maggie-mae': 3,\n",
       " 'komm-gib-mir-deine-hand': 3,\n",
       " 'yellow-submarine.txt': 3,\n",
       " 'komm-gib-mir-deine-hand.txt': 3,\n",
       " 'whats-new-mary-jane.txt': 3,\n",
       " 'whats-new-mary-jane': 3,\n",
       " 'maggie-mae.txt': 3,\n",
       " 'yellow-submarine': 3}"
      ]
     },
     "execution_count": 311,
     "metadata": {},
     "output_type": "execute_result"
    }
   ],
   "source": [
    "Sorted_degree=dict(sorted(un_Beatles_nw.degree, key=lambda x: x[1], reverse=True))\n",
    "Sorted_degree"
   ]
  },
  {
   "cell_type": "code",
   "execution_count": 312,
   "id": "60cfc6b4",
   "metadata": {},
   "outputs": [
    {
     "data": {
      "text/plain": [
       "['make', 'love', 'see', 'pass', 'cry']"
      ]
     },
     "execution_count": 312,
     "metadata": {},
     "output_type": "execute_result"
    }
   ],
   "source": [
    "d_top5['dont-pass-me']"
   ]
  },
  {
   "cell_type": "code",
   "execution_count": 316,
   "id": "3b4a1aae",
   "metadata": {},
   "outputs": [
    {
     "data": {
      "text/plain": [
       "[]"
      ]
     },
     "execution_count": 316,
     "metadata": {},
     "output_type": "execute_result"
    }
   ],
   "source": [
    "d_top5['let-it-be']"
   ]
  },
  {
   "cell_type": "code",
   "execution_count": 314,
   "id": "4665b22a",
   "metadata": {},
   "outputs": [
    {
     "data": {
      "text/plain": [
       "['know', 'said', 'love', 'feel', 'fine']"
      ]
     },
     "execution_count": 314,
     "metadata": {},
     "output_type": "execute_result"
    }
   ],
   "source": [
    "d_top5['i-feel-fine']"
   ]
  },
  {
   "cell_type": "code",
   "execution_count": 315,
   "id": "3b7ea144",
   "metadata": {},
   "outputs": [
    {
     "data": {
      "text/plain": [
       "['yellow', 'submarine', 'live', 'sea', 'lived']"
      ]
     },
     "execution_count": 315,
     "metadata": {},
     "output_type": "execute_result"
    }
   ],
   "source": [
    "d_top5['yellow-submarine']"
   ]
  },
  {
   "cell_type": "markdown",
   "id": "6b4e02ec",
   "metadata": {},
   "source": [
    "#### Plot degree distribution"
   ]
  },
  {
   "cell_type": "code",
   "execution_count": 282,
   "id": "92aa8189",
   "metadata": {},
   "outputs": [
    {
     "data": {
      "image/png": "[encoded data removed]",
      "text/plain": [
       "<Figure size 432x288 with 1 Axes>"
      ]
     },
     "metadata": {
      "needs_background": "light"
     },
     "output_type": "display_data"
    }
   ],
   "source": [
    "import matplotlib.pyplot as plt\n",
    "import numpy as np\n",
    "#FROM UNDIRECTED TO DIRECTED GRAPH:\n",
    "un_Beatles_nw= GCC.to_undirected()\n",
    "all_degrees=[]\n",
    "\n",
    "#Obtenition of degree \n",
    "for deg in un_Beatles_nw.degree():\n",
    "    all_degrees.append(deg[1])\n",
    "    \n",
    "#Zoom in\n",
    "v = np.arange(int(min(all_degrees)),max(Sorted_degree.values()))\n",
    "count,bins=np.histogram(all_degrees,bins=v)\n",
    "plt.bar(bins[:-1], count)\n",
    "plt.title('Zoom in: Degree distribution of the undirected graph',fontsize=13)\n",
    "plt.xlabel('Degree',fontsize=12)\n",
    "plt.ylabel('Counts',fontsize=12)\n",
    "plt.show() "
   ]
  },
  {
   "cell_type": "markdown",
   "id": "8062ce0a",
   "metadata": {},
   "source": [
    "## Find communities"
   ]
  },
  {
   "cell_type": "code",
   "execution_count": 283,
   "id": "7cf820f6",
   "metadata": {},
   "outputs": [
    {
     "data": {
      "image/png": "[encoded data removed]",
      "text/plain": [
       "<Figure size 432x288 with 1 Axes>"
      ]
     },
     "metadata": {},
     "output_type": "display_data"
    }
   ],
   "source": [
    "import community.community_louvain\n",
    "import matplotlib.cm as cm\n",
    "import matplotlib.pyplot as plt\n",
    "import networkx as nx\n",
    "\n",
    "# compute the best partition\n",
    "partition = community.community_louvain.best_partition(un_Beatles_nw)\n",
    "\n",
    "# draw the graph\n",
    "pos = nx.spring_layout(un_Beatles_nw)\n",
    "# color the nodes according to their partition\n",
    "cmap = cm.get_cmap('viridis', max(partition.values()) + 1)\n",
    "nx.draw_networkx_nodes(un_Beatles_nw, pos, partition.keys(), node_size=20,\n",
    "                       cmap=cmap, node_color=list(partition.values()))\n",
    "nx.draw_networkx_edges(un_Beatles_nw, pos, alpha=0.5)\n",
    "plt.show()"
   ]
  },
  {
   "cell_type": "code",
   "execution_count": 284,
   "id": "cb0e9099",
   "metadata": {},
   "outputs": [
    {
     "name": "stdout",
     "output_type": "stream",
     "text": [
      "Number of communities found:  5\n"
     ]
    }
   ],
   "source": [
    "print('Number of communities found: ', len(np.unique(list(partition.values()))))"
   ]
  },
  {
   "cell_type": "code",
   "execution_count": 285,
   "id": "54973abd",
   "metadata": {},
   "outputs": [
    {
     "name": "stdout",
     "output_type": "stream",
     "text": [
      "Modularity: 0.3326\n"
     ]
    }
   ],
   "source": [
    "print('Modularity:', np.round(community.community_louvain.modularity(partition,un_Beatles_nw),4))"
   ]
  },
  {
   "cell_type": "code",
   "execution_count": 286,
   "id": "7ed44462",
   "metadata": {},
   "outputs": [
    {
     "data": {
      "text/plain": [
       "[40, 85, 95, 62, 112]"
      ]
     },
     "execution_count": 286,
     "metadata": {},
     "output_type": "execute_result"
    }
   ],
   "source": [
    "# we compute the number of characters in every community in order to find the top 5\n",
    "communities_d=dict.fromkeys(list(range(0,len(np.unique(list(partition.values()))))))\n",
    "for i in range(0,len(np.unique(list(partition.values())))):\n",
    "    l=[]\n",
    "    for el in partition:\n",
    "        if partition[el]==i:\n",
    "            l.append(el)\n",
    "    communities_d[i]=l\n",
    "    \n",
    "size_communities=[len(x) for x in communities_d.values()]\n",
    "\n",
    "size_communities"
   ]
  },
  {
   "cell_type": "markdown",
   "id": "590a0267",
   "metadata": {},
   "source": [
    "Extract the most common words for each community"
   ]
  },
  {
   "cell_type": "code",
   "execution_count": 289,
   "id": "4e1ed2c9",
   "metadata": {},
   "outputs": [
    {
     "data": {
      "text/plain": [
       "['yesterday',\n",
       " 'you-know-what-do',\n",
       " 'not-second-time.txt',\n",
       " 'im-down',\n",
       " 'every-little-thing',\n",
       " 'im-so-tired',\n",
       " 'i-call-your-name',\n",
       " 'yesterday.txt',\n",
       " 'she-said-she-said.txt',\n",
       " 'dont-bother-me.txt']"
      ]
     },
     "execution_count": 289,
     "metadata": {},
     "output_type": "execute_result"
    }
   ],
   "source": [
    "communities_d[0][0:10]"
   ]
  },
  {
   "cell_type": "markdown",
   "id": "f5b9f423",
   "metadata": {},
   "source": [
    "Most common words in each community (counting the time each word appears)"
   ]
  },
  {
   "cell_type": "code",
   "execution_count": 290,
   "id": "3028b2cd",
   "metadata": {},
   "outputs": [
    {
     "name": "stdout",
     "output_type": "stream",
     "text": [
      "[('know', 364), ('say', 92), ('name', 82), ('hello', 66), ('look', 46)]\n",
      "[('love', 662), ('know', 155), ('cant', 90), ('say', 87), ('ill', 82)]\n",
      "[('ill', 168), ('yeah', 146), ('want', 142), ('like', 112), ('baby', 112)]\n",
      "[('yeah', 192), ('got', 133), ('ive', 105), ('home', 72), ('good', 60)]\n",
      "[('see', 175), ('girl', 148), ('little', 137), ('come', 133), ('way', 111)]\n"
     ]
    }
   ],
   "source": [
    "for idx in communities_d:\n",
    "    community_words=[]\n",
    "    for el in communities_d[idx]:\n",
    "        path='lyrics_songs/'+el+'.txt'\n",
    "        clean=clean_lyrics(path)\n",
    "        for word in clean:\n",
    "            community_words.append(word)\n",
    "    print(FreqDist(community_words).most_common(5))"
   ]
  },
  {
   "cell_type": "markdown",
   "id": "873aa2bd",
   "metadata": {},
   "source": [
    "Most common words in each community (counting the number of song a word appear)"
   ]
  },
  {
   "cell_type": "code",
   "execution_count": 291,
   "id": "70542f26",
   "metadata": {},
   "outputs": [
    {
     "name": "stdout",
     "output_type": "stream",
     "text": [
      "size: 40\n",
      "[('know', 40), ('see', 12), ('time', 12), ('things', 12), ('away', 10)]\n",
      "size: 85\n",
      "[('love', 85), ('know', 53), ('see', 35), ('want', 30), ('say', 25)]\n",
      "size: 95\n",
      "[('ill', 36), ('like', 34), ('want', 32), ('know', 32), ('see', 30)]\n",
      "size: 62\n",
      "[('time', 26), ('got', 25), ('ive', 23), ('know', 23), ('like', 23)]\n",
      "size: 112\n",
      "[('see', 49), ('know', 36), ('one', 34), ('time', 32), ('like', 31)]\n"
     ]
    }
   ],
   "source": [
    "for idx in communities_d:\n",
    "    community_words=[]\n",
    "    for el in communities_d[idx]:\n",
    "        path='lyrics_songs/'+el+'.txt'\n",
    "        clean=clean_lyrics(path)\n",
    "        unique=list(np.unique(clean))\n",
    "        for word in unique:\n",
    "            community_words.append(word)\n",
    "    print('size:' ,size_communities[idx])\n",
    "    print(FreqDist(community_words).most_common(5))"
   ]
  },
  {
   "cell_type": "markdown",
   "id": "57182ff6",
   "metadata": {},
   "source": [
    "### Feature: most common words of a given community (times a song contains a word)"
   ]
  },
  {
   "cell_type": "code",
   "execution_count": 292,
   "id": "7e5483e1",
   "metadata": {},
   "outputs": [
    {
     "data": {
      "text/plain": [
       "[('know', 40), ('see', 12), ('time', 12), ('things', 12), ('away', 10)]"
      ]
     },
     "execution_count": 292,
     "metadata": {},
     "output_type": "execute_result"
    }
   ],
   "source": [
    "def community_words(community):\n",
    "    community_words=[]\n",
    "    for el in community:\n",
    "        path='lyrics_songs/'+el+'.txt'\n",
    "        clean=clean_lyrics(path)\n",
    "        unique=list(np.unique(clean))\n",
    "        for word in unique:\n",
    "            community_words.append(word)\n",
    "    return FreqDist(community_words).most_common(5)\n",
    "\n",
    "community_words(communities_d[0])"
   ]
  },
  {
   "cell_type": "markdown",
   "id": "dccee7ed",
   "metadata": {},
   "source": [
    "### Feature: introduce a famous song and find in which community it belongs"
   ]
  },
  {
   "cell_type": "code",
   "execution_count": 293,
   "id": "b59bbc78",
   "metadata": {},
   "outputs": [],
   "source": [
    "def song_community(song):\n",
    "    i=0\n",
    "    for idx in communities_d:\n",
    "        if song in communities_d[i]:\n",
    "            return i\n",
    "        i+=1\n",
    "        \n",
    "song_community('let-it-be')"
   ]
  },
  {
   "cell_type": "code",
   "execution_count": 186,
   "id": "c2ec8d38",
   "metadata": {},
   "outputs": [
    {
     "data": {
      "text/plain": [
       "[('know', 3), ('let', 3), ('right', 3), ('hey', 3), ('always', 2)]"
      ]
     },
     "execution_count": 186,
     "metadata": {},
     "output_type": "execute_result"
    }
   ],
   "source": [
    "community_words(communities_d[song_community('let-it-be')])"
   ]
  },
  {
   "cell_type": "markdown",
   "id": "22b50e06",
   "metadata": {},
   "source": [
    "## VADER sentimental analysis"
   ]
  },
  {
   "cell_type": "code",
   "execution_count": 187,
   "id": "24d6ac3b",
   "metadata": {},
   "outputs": [],
   "source": [
    "from vaderSentiment.vaderSentiment import SentimentIntensityAnalyzer"
   ]
  },
  {
   "cell_type": "code",
   "execution_count": null,
   "id": "61bf736c",
   "metadata": {},
   "outputs": [],
   "source": [
    "sentenceDic = {}\n",
    "for name in dialogues:\n",
    "    sentenceDic[name] = []\n",
    "    for line in dialogues[name]:\n",
    "        sentence = re.split(r'[.!?]+ *',line)\n",
    "        sentenceDic[name].extend(sentence)"
   ]
  },
  {
   "cell_type": "code",
   "execution_count": 194,
   "id": "a36e31a7",
   "metadata": {},
   "outputs": [
    {
     "data": {
      "text/plain": [
       "\"Well darling all the night  You'll be mine and I know  You'll be mine until you die  You'll be mine   And so  (And so)  All the night  (All the night)  You'll be mine  (You'll be mine)  You'll be mine  And the stars  (And the stars)  Always shine  (Always shine)  You'll be mine   My darling, when you brought me  That toast the other morning  I, I looked into your eyes  And I could see a nice little healthy eyeball  And I loved you like I never done  Like I've never done before!   And the stars  (And the stars)  Always shine  (Always shine)  And you'll be mine  [Incomprehensible] you'll be mine  You'll be mine  At the start  (At the start)  Oh yes, you'll be   \""
      ]
     },
     "execution_count": 194,
     "metadata": {},
     "output_type": "execute_result"
    }
   ],
   "source": [
    "file=open('lyrics_songs/youll-be-mine.txt').read()\n",
    "file"
   ]
  },
  {
   "cell_type": "code",
   "execution_count": 221,
   "id": "2faebbcf",
   "metadata": {},
   "outputs": [
    {
     "name": "stdout",
     "output_type": "stream",
     "text": [
      "You'll be mine and I know.\n",
      "You'll be mine until you die.\n",
      "You'll be mine.\n",
      " And so.\n",
      "(And so).\n",
      "All the night.\n",
      "(All the night).\n",
      "You'll be mine.\n",
      "(You'll be mine).\n",
      "You'll be mine.\n",
      "And the stars.\n",
      "(And the stars).\n",
      "Always shine.\n",
      "(Always shine).\n",
      "You'll be mine.\n",
      " My darling, when you brought me.\n",
      "That toast the other morning.\n",
      "I, I looked into your eyes.\n",
      "And I could see a nice little healthy eyeball.\n",
      "And I loved you like I never done.\n",
      "Like I've never done before!.\n",
      " And the stars.\n",
      "(And the stars).\n",
      "Always shine.\n",
      "(Always shine).\n",
      "And you'll be mine.\n",
      "[Incomprehensible] you'll be mine.\n",
      "You'll be mine.\n",
      "At the start.\n",
      "(At the start).\n",
      "Oh yes, you'll be.\n"
     ]
    }
   ],
   "source": [
    "sentences=[]\n",
    "index=[(m.start(0), m.end(0)) for m in re.finditer('  ',file)]\n",
    "for i in range(0,len(index)-1):\n",
    "    a=file[index[i][1]:index[i+1][0]]\n",
    "    sentences.append(a)"
   ]
  },
  {
   "cell_type": "code",
   "execution_count": 227,
   "id": "b4df24b5",
   "metadata": {},
   "outputs": [
    {
     "data": {
      "text/plain": [
       "{'neg': 0.0, 'neu': 0.526, 'pos': 0.474, 'compound': 0.4019}"
      ]
     },
     "execution_count": 227,
     "metadata": {},
     "output_type": "execute_result"
    }
   ],
   "source": [
    "vs['compound']"
   ]
  },
  {
   "cell_type": "code",
   "execution_count": 245,
   "id": "2421a47e",
   "metadata": {
    "scrolled": true
   },
   "outputs": [
    {
     "data": {
      "text/plain": [
       "0.07086129032258064"
      ]
     },
     "execution_count": 245,
     "metadata": {},
     "output_type": "execute_result"
    }
   ],
   "source": [
    "def song_Vader(song):\n",
    "    # extract sentence of each song\n",
    "    file=open('lyrics_songs/'+song+'.txt').read()\n",
    "    sentences=[]\n",
    "    index=[(m.start(0), m.end(0)) for m in re.finditer('  ',file)]\n",
    "    for i in range(0,len(index)-1):\n",
    "        a=file[index[i][1]:index[i+1][0]]\n",
    "        sentences.append(a)\n",
    "    # compute sentiment analysis for sentence\n",
    "    analyzer = SentimentIntensityAnalyzer()\n",
    "    compound1=[]\n",
    "    compound2=[]\n",
    "    for sentence in sentences:\n",
    "        vs = analyzer.polarity_scores(sentence)\n",
    "        # take every sentence value (more robust)\n",
    "        compound1.append(vs['compound'])\n",
    "        # take just the sentences that are not neutral\n",
    "        if vs['compound']!=0:\n",
    "            compound2.append(vs['compound'])\n",
    "        # print(\"{:-<65} {}\".format(sentence, str(vs)))\n",
    "    return np.mean(compound1),np.mean(compound2)\n",
    "\n",
    "song_Vader('youll-be-mine')[0]"
   ]
  },
  {
   "cell_type": "code",
   "execution_count": 336,
   "id": "42de53b0",
   "metadata": {},
   "outputs": [
    {
     "data": {
      "text/plain": [
       "''"
      ]
     },
     "execution_count": 336,
     "metadata": {},
     "output_type": "execute_result"
    }
   ],
   "source": [
    "open('lyrics_songs/'+'let-it-be'+'.txt').read()"
   ]
  },
  {
   "cell_type": "code",
   "execution_count": 257,
   "id": "4e01d05a",
   "metadata": {},
   "outputs": [
    {
     "name": "stdout",
     "output_type": "stream",
     "text": [
      "(-0.012631914893617023, -0.03957999999999999)\n",
      "(nan, nan)\n",
      "(0.11838064516129032, 0.3058166666666667)\n",
      "(-0.0063149999999999986, -0.01578750000000001)\n",
      "(-0.22317741935483873, -0.4612333333333334)\n"
     ]
    },
    {
     "data": {
      "text/plain": [
       "nan"
      ]
     },
     "execution_count": 257,
     "metadata": {},
     "output_type": "execute_result"
    }
   ],
   "source": [
    "compound1=[]\n",
    "for el in communities_d[4]:\n",
    "    compound1.append(song_Vader(el)[0])\n",
    "    print(song_Vader(el))\n",
    "    \n",
    "np.mean(compound1)"
   ]
  },
  {
   "cell_type": "code",
   "execution_count": 254,
   "id": "9e79d626",
   "metadata": {},
   "outputs": [
    {
     "data": {
      "text/plain": [
       "['strawberry-fields-forever',\n",
       " 'let-it-be',\n",
       " 'hey-jude',\n",
       " 'hey-bulldog',\n",
       " 'continuing-story-bungalow-bill']"
      ]
     },
     "execution_count": 254,
     "metadata": {},
     "output_type": "execute_result"
    }
   ],
   "source": [
    "communities_d[4]"
   ]
  },
  {
   "cell_type": "code",
   "execution_count": 253,
   "id": "3734d61e",
   "metadata": {},
   "outputs": [
    {
     "name": "stdout",
     "output_type": "stream",
     "text": [
      "0\n",
      "0.07026679439580165\n",
      "1\n",
      "0.24090275870553327\n",
      "2\n",
      "0.04201305877816991\n",
      "3\n",
      "0.09169710421837023\n",
      "4\n",
      "nan\n",
      "5\n",
      "0.08063285414867749\n"
     ]
    }
   ],
   "source": [
    "for idx in communities_d:\n",
    "    compound1=[]\n",
    "    compound2=[]\n",
    "    for el in communities_d[idx]:\n",
    "        compound1.append(song_Vader(el)[0])\n",
    "        compound2.append(song_Vader(el)[1])\n",
    "    print(idx)\n",
    "    print(np.mean(compound1))"
   ]
  },
  {
   "cell_type": "code",
   "execution_count": null,
   "id": "e229572e",
   "metadata": {},
   "outputs": [],
   "source": [
    "sentenceDic = {}\n",
    "for name in dialogues:\n",
    "    sentenceDic[name] = []\n",
    "    for line in dialogues[name]:\n",
    "        sentence = re.split(r'[.!?]+ *',line)\n",
    "        sentenceDic[name].extend(sentence)"
   ]
  },
  {
   "cell_type": "code",
   "execution_count": 223,
   "id": "169f4747",
   "metadata": {},
   "outputs": [],
   "source": [
    "def sentiment_score_VADER(sentence):\n",
    "    sentiment_dict = sid_obj.polarity_scores(sentence)\n",
    "    return sentiment_dict['compound']"
   ]
  },
  {
   "cell_type": "code",
   "execution_count": 224,
   "id": "9b0d9056",
   "metadata": {},
   "outputs": [
    {
     "ename": "NameError",
     "evalue": "name 'sid_obj' is not defined",
     "output_type": "error",
     "traceback": [
      "\u001b[0;31m---------------------------------------------------------------------------\u001b[0m",
      "\u001b[0;31mNameError\u001b[0m                                 Traceback (most recent call last)",
      "\u001b[0;32m/var/folders/sl/1xwn2w1j4x7c2rxkc6cdlnrh0000gn/T/ipykernel_80094/2922932878.py\u001b[0m in \u001b[0;36m<module>\u001b[0;34m\u001b[0m\n\u001b[0;32m----> 1\u001b[0;31m \u001b[0msentiment_score_VADER\u001b[0m\u001b[0;34m(\u001b[0m\u001b[0;34m'Oh yes, you\\'ll be.'\u001b[0m\u001b[0;34m)\u001b[0m\u001b[0;34m\u001b[0m\u001b[0;34m\u001b[0m\u001b[0m\n\u001b[0m",
      "\u001b[0;32m/var/folders/sl/1xwn2w1j4x7c2rxkc6cdlnrh0000gn/T/ipykernel_80094/3024877794.py\u001b[0m in \u001b[0;36msentiment_score_VADER\u001b[0;34m(sentence)\u001b[0m\n\u001b[1;32m      1\u001b[0m \u001b[0;32mdef\u001b[0m \u001b[0msentiment_score_VADER\u001b[0m\u001b[0;34m(\u001b[0m\u001b[0msentence\u001b[0m\u001b[0;34m)\u001b[0m\u001b[0;34m:\u001b[0m\u001b[0;34m\u001b[0m\u001b[0;34m\u001b[0m\u001b[0m\n\u001b[0;32m----> 2\u001b[0;31m     \u001b[0msentiment_dict\u001b[0m \u001b[0;34m=\u001b[0m \u001b[0msid_obj\u001b[0m\u001b[0;34m.\u001b[0m\u001b[0mpolarity_scores\u001b[0m\u001b[0;34m(\u001b[0m\u001b[0msentence\u001b[0m\u001b[0;34m)\u001b[0m\u001b[0;34m\u001b[0m\u001b[0;34m\u001b[0m\u001b[0m\n\u001b[0m\u001b[1;32m      3\u001b[0m     \u001b[0;32mreturn\u001b[0m \u001b[0msentiment_dict\u001b[0m\u001b[0;34m[\u001b[0m\u001b[0;34m'compound'\u001b[0m\u001b[0;34m]\u001b[0m\u001b[0;34m\u001b[0m\u001b[0;34m\u001b[0m\u001b[0m\n",
      "\u001b[0;31mNameError\u001b[0m: name 'sid_obj' is not defined"
     ]
    }
   ],
   "source": [
    "sentiment_score_VADER('Oh yes, you\\'ll be.')"
   ]
  },
  {
   "cell_type": "code",
   "execution_count": 237,
   "id": "f6d6767c",
   "metadata": {},
   "outputs": [
    {
     "name": "stdout",
     "output_type": "stream",
     "text": [
      "0\n",
      "1\n",
      "2\n",
      "3\n",
      "4\n",
      "5\n"
     ]
    }
   ],
   "source": [
    "for idx in communities_d:\n",
    "    for el in communities_d[idx]:\n",
    "        "
   ]
  },
  {
   "cell_type": "code",
   "execution_count": null,
   "id": "c599e65a",
   "metadata": {},
   "outputs": [],
   "source": []
  }
 ],
 "metadata": {
  "kernelspec": {
   "display_name": "Python 3 (ipykernel)",
   "language": "python",
   "name": "python3"
  },
  "language_info": {
   "codemirror_mode": {
    "name": "ipython",
    "version": 3
   },
   "file_extension": ".py",
   "mimetype": "text/x-python",
   "name": "python",
   "nbconvert_exporter": "python",
   "pygments_lexer": "ipython3",
   "version": "3.8.2"
  }
 },
 "nbformat": 4,
 "nbformat_minor": 5
}
