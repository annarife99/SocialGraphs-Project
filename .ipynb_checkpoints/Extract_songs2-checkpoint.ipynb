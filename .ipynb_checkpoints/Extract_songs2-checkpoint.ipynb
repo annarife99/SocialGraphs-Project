{
 "cells": [
  {
   "cell_type": "code",
   "execution_count": 75,
   "id": "2af31560",
   "metadata": {},
   "outputs": [],
   "source": [
    "def extract_html(url):\n",
    "    page = urlopen(url)\n",
    "    html_bytes = page.read()\n",
    "    html = html_bytes.decode(\"utf-8\")\n",
    "    return html"
   ]
  },
  {
   "cell_type": "code",
   "execution_count": 76,
   "id": "ca7c5c22",
   "metadata": {},
   "outputs": [
    {
     "data": {
      "text/plain": [
       "['12-Bar Original',\n",
       " '1822!',\n",
       " 'A Beginning',\n",
       " 'A Day In The Life',\n",
       " \"A Hard Day's Night\",\n",
       " 'A Little Rhyme',\n",
       " 'A Shot Of Rhythm And Blues',\n",
       " 'A Taste Of Honey',\n",
       " 'Across The Universe',\n",
       " 'Act Naturally']"
      ]
     },
     "execution_count": 76,
     "metadata": {},
     "output_type": "execute_result"
    }
   ],
   "source": [
    "import re\n",
    "from urllib.request import urlopen\n",
    "\n",
    "pattern1= 'hreflang=\"en\">(.*?)</a>'\n",
    "songs_titles=[]\n",
    "for i in range(0,9):\n",
    "    url = 'https://www.thebeatles.com/songs?page='+str(i)\n",
    "    html=extract_html(url)\n",
    "    a=re.findall(pattern1,html)\n",
    "    for el in a:\n",
    "        el=el.replace('&#039;', '\\'')\n",
    "        songs_titles.append(el)\n",
    "songs_titles[0:10]"
   ]
  },
  {
   "cell_type": "code",
   "execution_count": 80,
   "id": "8986f63a",
   "metadata": {},
   "outputs": [
    {
     "name": "stdout",
     "output_type": "stream",
     "text": [
      "words-love\n"
     ]
    }
   ],
   "source": [
    "import urllib.request as urllib2\n",
    "\n",
    "remove_list=[' a ',' in ',' the ',' of ',' to ',' is ',' at ',' for ',' that ',' by ',' as ',' from ',' into ',\n",
    "             ' on ',' with ',' off ',' this ',' up ',' like ']\n",
    "remove_list_start=['a-','in-','the-','of-','to-','is-','at-','for-','that-','by-','as-','from-','like-','this-',\n",
    "                  'with-']\n",
    "remove_list_end=['-by','-to','-on','-is','-that','-before']\n",
    "remove_list2=['\\'','.','!','(',')',',','/',':']\n",
    "\n",
    "pattern6='<div class=\"col-md-6 middle-content border-left border-right\"><p>'\n",
    "pattern7='<figure class=\"wp-block-table table-expander table table-imported\">'\n",
    "for title in songs_titles:\n",
    "    try:\n",
    "        title=title.lower()\n",
    "        for el in remove_list2: # delete special characters\n",
    "            title=title.replace(el,'')\n",
    "        for el in remove_list: # replace single words with a space\n",
    "            title=title.replace(el,' ')\n",
    "        title=title.replace(' ','-')\n",
    "        title=title.replace('--','-')\n",
    "        # delete words from the start\n",
    "        for i in range(0,6):\n",
    "            if title[:i] in remove_list_start:\n",
    "                title=title[i:]\n",
    "        # delete words end\n",
    "        for i in range(0,8):\n",
    "            if title[-i:] in remove_list_end:\n",
    "                title=title[:-i]\n",
    "        if title[0]=='-':\n",
    "            title=title[1:]\n",
    "        url='https://www.thebeatles.com/'\n",
    "        query=extract_html(url+title)\n",
    "        # write the extracted text in a .txt file\n",
    "        file=open('raw_songs/'+title+'.txt','w+')\n",
    "        file.write(query)\n",
    "        file.close()\n",
    "    except:\n",
    "        print(title)"
   ]
  },
  {
   "cell_type": "markdown",
   "id": "8a79f050",
   "metadata": {},
   "source": [
    "Hi ha a vegades que et pila la query del url tot i que la pàgina que correspon a la cançó té un afegit al final de -0 o -1, com el cas de la cançó que peta que és words-love-0"
   ]
  },
  {
   "cell_type": "code",
   "execution_count": 5,
   "id": "75a6821d",
   "metadata": {},
   "outputs": [],
   "source": [
    "import re\n",
    "from urllib.request import urlopen"
   ]
  },
  {
   "cell_type": "code",
   "execution_count": 4,
   "id": "48e0faf2",
   "metadata": {},
   "outputs": [
    {
     "data": {
      "text/plain": [
       "'Desmond has a barrow in the market place,  Molly is the singer in a band.  Desmond says to Molly, \"Girl, I like your face,\"  And Molly says this as she takes him by the hand:   Obladi, Oblada, life goes on, bra,  Lala how their life goes on.  Obladi, Oblada, life goes on, bra,  Lala how their life goes on.   Desmond takes a trolley to the jeweler\\'s store,  Buys a twenty carat golden ring.  Takes it back to Molly waiting at the door,  And as he gives it to her she begins to sing:   Obladi, Oblada, life goes on, bra,  Lala how their life goes on.  Obladi, Oblada, life goes on, bra,  Lala how their life goes on.   In a couple of years,  They have built a home sweet home.  With a couple of kids running in the yard  Of Desmond and Molly Jones.   Happy ever after in the market place,  Desmond lets the children lend a hand.  Molly stays at home and does her pretty face,  and in the evening she still sings it with the band.   Obladi, Oblada, life goes on, bra,  Lala how their life goes on.  Obladi, Oblada, life goes on, bra,  Lala how their life goes on.   In a couple of years,  They have built a home sweet home.  With a couple of kids running in the yard  of Desmond and Molly Jones.   Happy ever after in the market place,  Molly lets the children lend a hand.  Desmond stays at home and does his pretty face,  And in the evening she\\'s a singer with the band.   Obladi, Oblada, life goes on, bra,  Lala how their life goes on.  Obladi, Oblada, life goes on, bra,  Lala how their life goes   And if you want some fun, take obladiblada.                   '"
      ]
     },
     "execution_count": 4,
     "metadata": {},
     "output_type": "execute_result"
    }
   ],
   "source": [
    "pattern6='<div class=\"col-md-6 middle-content border-left border-right\"><p>'\n",
    "pattern7='<figure class=\"wp-block-table table-expander table table-imported\">'\n",
    "remove_list=['<br />','\\n','</p>','<p>']\n",
    "\n",
    "def extract_lyrics(song_path):\n",
    "    song=open(song_path).read()\n",
    "    idx_init = re.search(pattern6,song).end()\n",
    "    idx_final = re.search(pattern7,song).start()\n",
    "    lyrics=song[idx_init:idx_final]\n",
    "    for el in remove_list: # delete special characters\n",
    "        lyrics=lyrics.replace(el,' ')\n",
    "    return lyrics\n",
    "\n",
    "extract_lyrics('raw_songs/ob-la-di-ob-la-da.txt')"
   ]
  },
  {
   "cell_type": "code",
   "execution_count": 22,
   "id": "be9e0ca7",
   "metadata": {},
   "outputs": [
    {
     "data": {
      "text/plain": [
       "\"Yesterday, all my troubles seemed so far away,  Now it looks as though they're here to stay,  Oh, I believe in yesterday   Suddenly, I'm not half the man I used to be  There's a shadow hanging over me  Oh, yesterday came suddenly   Why she had to go I don't know, she wouldn't say  I said something wrong, now I long for yesterday   Yesterday, love was such an easy game to play  Now I need a place to hide away  Oh, I believe in yesterday   Why she had to go I don't know, she wouldn't say  I said something wrong, now I long for yesterday   Yesterday, love was such an easy game to play  Now I need a place to hide away  Oh, I believe in yesterday,  Mm mm mm mm mm.   \""
      ]
     },
     "execution_count": 22,
     "metadata": {},
     "output_type": "execute_result"
    }
   ],
   "source": [
    "extract_lyrics('raw_songs/yesterday.txt')"
   ]
  },
  {
   "cell_type": "code",
   "execution_count": 5,
   "id": "c7c890ad",
   "metadata": {},
   "outputs": [],
   "source": [
    "import os"
   ]
  },
  {
   "cell_type": "code",
   "execution_count": 47,
   "id": "5c7fec95",
   "metadata": {},
   "outputs": [
    {
     "name": "stdout",
     "output_type": "stream",
     "text": [
      "lonesome-tears-my-eyes\tthree-cool-cats\tlucille\tdizzy-miss-lizzy\tmemphis-tennessee\triding-bus\t12-bar-original\tset-fire-lot\tlend-me-your-comb\tkansas-city-hey-hey-hey-hey\tbaby-its-you\ttoo-much-monkey-business\t.DS_S\tmarch-meanies\tbeatle-greetings\tact-naturally\ti-forgot-remember-forget\tmy-bonnie\trevolution-9\ti-just-dont-understand\tpepperland-laid-waste\tso-how-come-no-one-loves-me\tfluff-you\ttwist-and-shout\tooh-my-soul\tsure-fall-love-you\tyou-really-got-hold-me\tnothin-shakin\thallelujah-i-love-her-so\tglad-all-over\tmoney-thats-what-i-want\tcry-shadow\tboys\tlittle-rhyme\tshout\thave-banana\trip-it-shake-rattle-and-roll-blue-suede-shoes\tanna-go-him\thow-do-you-do-it\till-be-my-way\tim-gonna-sit-right-down-and-cry\tkeep-your-hands-my-baby\tmailman-bring-me-no-more-blues\ttaste-honey\tsweet-little-sixteen\tdont-ever-change\thard-days-night\tcarol\tspeech-brian-epstein\tslow-down\tdear-wack\trock-and-roll-music\tcrying-waiting-hoping\tsome-other-guy\taint-she-sweet\tbad-boy\tjohnny-b-goode\tsearchin\tmr-moonlight\tday-life\tsea-time\tbesame-mucho\troll-over-beethoven\tlove-these-goon-shows\tlong-tall-sally\ti-got-find-my-baby\ti-got-woman\tsea-monsters\t1822\tooh-my-arms\thoneymoon-song\tshot-rhythm-and-blues\tpepperland\tgnik-nus\tplease-mister-postman\tclarabella\tall-together-now\tleave-my-kitten-alone\tcrinsk-dee-night\tjust-rumour\tsha-la-la-la-la\tchains\tflying\tthatll-be-day\thippy-hippy-shake\tcayenne\tsea-holes\tbeginning\tthats-all-right-mama\trevolution-1\tsoldier-love\trevolution\tyoung-blood\ttill-there-was-you\tknow-her-love-her\tyellow-submarine-pepperland\tmoonlight-bay\tsheik-araby\t"
     ]
    }
   ],
   "source": [
    "txt_files = os.listdir('raw_songs')\n",
    "songs_no_lyrics=[]\n",
    "for el in txt_files:\n",
    "    el=el[:-4]\n",
    "    song_path='raw_songs/'+el+'.txt'\n",
    "    try:\n",
    "        lyrics=extract_lyrics(song_path)\n",
    "        file=open('lyrics_songs/'+el+'.txt','w+')\n",
    "        file.write(lyrics)\n",
    "        file.close()\n",
    "    except:\n",
    "        songs_no_lyrics.append(el)\n",
    "        print(el, end='\\t')"
   ]
  },
  {
   "cell_type": "code",
   "execution_count": 26,
   "id": "32dd8519",
   "metadata": {},
   "outputs": [],
   "source": [
    "lyrics_files = os.listdir('lyrics_songs')\n",
    "for el in songs_no_lyrics:\n",
    "    el=el[:-4]\n",
    "    url='https://www.thebeatles.com/'\n",
    "    # check if the song has lyrics or not\n",
    "    for i in range(0,4):\n",
    "        try:\n",
    "            query=extract_html(url+el+'-'+str(i))\n",
    "            idx_init = re.search(pattern6,query).end()\n",
    "            idx_final = re.search(pattern7,query).start()\n",
    "            # rewrite the extracted text in a .txt file\n",
    "            file=open('raw_songs/'+el+'.txt','w+')\n",
    "            file.write(query)\n",
    "            file.close()\n",
    "            print(el, i)\n",
    "            break\n",
    "        except:\n",
    "            pass"
   ]
  },
  {
   "cell_type": "code",
   "execution_count": 27,
   "id": "47bba4a2",
   "metadata": {},
   "outputs": [
    {
     "data": {
      "text/plain": [
       "98"
      ]
     },
     "execution_count": 27,
     "metadata": {},
     "output_type": "execute_result"
    }
   ],
   "source": [
    "txt_files = os.listdir('raw_songs')\n",
    "songs_no_lyrics=[]\n",
    "for el in txt_files:\n",
    "    song_path='raw_songs/'+el\n",
    "    try:\n",
    "        lyrics=extract_lyrics(song_path)\n",
    "        file=open('lyrics_songs/'+el+'.txt','w+')\n",
    "        file.write(lyrics)\n",
    "        file.close()\n",
    "    except:\n",
    "        songs_no_lyrics.append(el)\n",
    "len(songs_no_lyrics)"
   ]
  },
  {
   "cell_type": "markdown",
   "id": "2e8978cb",
   "metadata": {},
   "source": [
    "### Clean lyrics files"
   ]
  },
  {
   "cell_type": "code",
   "execution_count": 7,
   "id": "bddada72",
   "metadata": {},
   "outputs": [],
   "source": [
    "from nltk.tokenize import WordPunctTokenizer\n",
    "\n",
    "def clean_lyrics(file_path):\n",
    "    data=open(file_path).read()\n",
    "    # import WordPunctTokenizer() method from nltk\n",
    "    # Create a reference variable for Class WordPunctTokenizer\n",
    "    tk = WordPunctTokenizer()\n",
    "    # define punctuation\n",
    "    punctuations = '''!()-[]{};:'\"\\,<>./?@#$%^&*_~'''\n",
    "    # remove punctuation from the string\n",
    "    no_punct = \"\"\n",
    "    for char in data:\n",
    "        if char not in punctuations:\n",
    "            no_punct = no_punct + char\n",
    "    # Remove all the special characters as \\n and single = left\n",
    "    char=['\\n','=']\n",
    "    for el in char:\n",
    "        raw=re.sub(el,'',no_punct)\n",
    "    # remove stop words\n",
    "    stop_words = list(set(stopwords.words('english')))\n",
    "    token_txt = tk.tokenize(raw.lower()) # set to lower case\n",
    "    token_txt = tk.tokenize(raw.lower()) # set to lower case\n",
    "    token_final = [x for x in token_txt if x not in stop_words and len(x)>1]\n",
    "    return token_final"
   ]
  },
  {
   "cell_type": "code",
   "execution_count": 3,
   "id": "2242206d",
   "metadata": {},
   "outputs": [
    {
     "ename": "NameError",
     "evalue": "name 'stop_words' is not defined",
     "output_type": "error",
     "traceback": [
      "\u001b[0;31m---------------------------------------------------------------------------\u001b[0m",
      "\u001b[0;31mNameError\u001b[0m                                 Traceback (most recent call last)",
      "\u001b[0;32m/var/folders/sl/1xwn2w1j4x7c2rxkc6cdlnrh0000gn/T/ipykernel_80094/2704762616.py\u001b[0m in \u001b[0;36m<module>\u001b[0;34m\u001b[0m\n\u001b[0;32m----> 1\u001b[0;31m \u001b[0mstop_words\u001b[0m\u001b[0;34m\u001b[0m\u001b[0;34m\u001b[0m\u001b[0m\n\u001b[0m",
      "\u001b[0;31mNameError\u001b[0m: name 'stop_words' is not defined"
     ]
    }
   ],
   "source": []
  },
  {
   "cell_type": "code",
   "execution_count": 8,
   "id": "65501562",
   "metadata": {},
   "outputs": [
    {
     "ename": "NameError",
     "evalue": "name 'stopwords' is not defined",
     "output_type": "error",
     "traceback": [
      "\u001b[0;31m---------------------------------------------------------------------------\u001b[0m",
      "\u001b[0;31mNameError\u001b[0m                                 Traceback (most recent call last)",
      "\u001b[0;32m/var/folders/sl/1xwn2w1j4x7c2rxkc6cdlnrh0000gn/T/ipykernel_80094/425662202.py\u001b[0m in \u001b[0;36m<module>\u001b[0;34m\u001b[0m\n\u001b[0;32m----> 1\u001b[0;31m \u001b[0mclean\u001b[0m\u001b[0;34m=\u001b[0m\u001b[0mclean_lyrics\u001b[0m\u001b[0;34m(\u001b[0m\u001b[0;34m'lyrics_songs/i-need-you.txt'\u001b[0m\u001b[0;34m)\u001b[0m\u001b[0;34m\u001b[0m\u001b[0;34m\u001b[0m\u001b[0m\n\u001b[0m\u001b[1;32m      2\u001b[0m \u001b[0mtop10\u001b[0m\u001b[0;34m=\u001b[0m\u001b[0;34m[\u001b[0m\u001b[0;34m]\u001b[0m\u001b[0;34m\u001b[0m\u001b[0;34m\u001b[0m\u001b[0m\n\u001b[1;32m      3\u001b[0m \u001b[0;32mfor\u001b[0m \u001b[0mel\u001b[0m \u001b[0;32min\u001b[0m \u001b[0mFreqDist\u001b[0m\u001b[0;34m(\u001b[0m\u001b[0mclean\u001b[0m\u001b[0;34m)\u001b[0m\u001b[0;34m.\u001b[0m\u001b[0mmost_common\u001b[0m\u001b[0;34m(\u001b[0m\u001b[0;36m10\u001b[0m\u001b[0;34m)\u001b[0m\u001b[0;34m:\u001b[0m\u001b[0;34m\u001b[0m\u001b[0;34m\u001b[0m\u001b[0m\n\u001b[1;32m      4\u001b[0m     \u001b[0mtop10\u001b[0m\u001b[0;34m.\u001b[0m\u001b[0mappend\u001b[0m\u001b[0;34m(\u001b[0m\u001b[0mel\u001b[0m\u001b[0;34m[\u001b[0m\u001b[0;36m0\u001b[0m\u001b[0;34m]\u001b[0m\u001b[0;34m)\u001b[0m\u001b[0;34m\u001b[0m\u001b[0;34m\u001b[0m\u001b[0m\n\u001b[1;32m      5\u001b[0m \u001b[0mtop10\u001b[0m\u001b[0;34m\u001b[0m\u001b[0;34m\u001b[0m\u001b[0m\n",
      "\u001b[0;32m/var/folders/sl/1xwn2w1j4x7c2rxkc6cdlnrh0000gn/T/ipykernel_80094/708694707.py\u001b[0m in \u001b[0;36mclean_lyrics\u001b[0;34m(file_path)\u001b[0m\n\u001b[1;32m     18\u001b[0m         \u001b[0mraw\u001b[0m\u001b[0;34m=\u001b[0m\u001b[0mre\u001b[0m\u001b[0;34m.\u001b[0m\u001b[0msub\u001b[0m\u001b[0;34m(\u001b[0m\u001b[0mel\u001b[0m\u001b[0;34m,\u001b[0m\u001b[0;34m''\u001b[0m\u001b[0;34m,\u001b[0m\u001b[0mno_punct\u001b[0m\u001b[0;34m)\u001b[0m\u001b[0;34m\u001b[0m\u001b[0;34m\u001b[0m\u001b[0m\n\u001b[1;32m     19\u001b[0m     \u001b[0;31m# remove stop words\u001b[0m\u001b[0;34m\u001b[0m\u001b[0;34m\u001b[0m\u001b[0;34m\u001b[0m\u001b[0m\n\u001b[0;32m---> 20\u001b[0;31m     \u001b[0mstop_words\u001b[0m \u001b[0;34m=\u001b[0m \u001b[0mlist\u001b[0m\u001b[0;34m(\u001b[0m\u001b[0mset\u001b[0m\u001b[0;34m(\u001b[0m\u001b[0mstopwords\u001b[0m\u001b[0;34m.\u001b[0m\u001b[0mwords\u001b[0m\u001b[0;34m(\u001b[0m\u001b[0;34m'english'\u001b[0m\u001b[0;34m)\u001b[0m\u001b[0;34m)\u001b[0m\u001b[0;34m)\u001b[0m\u001b[0;34m\u001b[0m\u001b[0;34m\u001b[0m\u001b[0m\n\u001b[0m\u001b[1;32m     21\u001b[0m     \u001b[0mtoken_txt\u001b[0m \u001b[0;34m=\u001b[0m \u001b[0mtk\u001b[0m\u001b[0;34m.\u001b[0m\u001b[0mtokenize\u001b[0m\u001b[0;34m(\u001b[0m\u001b[0mraw\u001b[0m\u001b[0;34m.\u001b[0m\u001b[0mlower\u001b[0m\u001b[0;34m(\u001b[0m\u001b[0;34m)\u001b[0m\u001b[0;34m)\u001b[0m \u001b[0;31m# set to lower case\u001b[0m\u001b[0;34m\u001b[0m\u001b[0;34m\u001b[0m\u001b[0m\n\u001b[1;32m     22\u001b[0m     \u001b[0mtoken_txt\u001b[0m \u001b[0;34m=\u001b[0m \u001b[0mtk\u001b[0m\u001b[0;34m.\u001b[0m\u001b[0mtokenize\u001b[0m\u001b[0;34m(\u001b[0m\u001b[0mraw\u001b[0m\u001b[0;34m.\u001b[0m\u001b[0mlower\u001b[0m\u001b[0;34m(\u001b[0m\u001b[0;34m)\u001b[0m\u001b[0;34m)\u001b[0m \u001b[0;31m# set to lower case\u001b[0m\u001b[0;34m\u001b[0m\u001b[0;34m\u001b[0m\u001b[0m\n",
      "\u001b[0;31mNameError\u001b[0m: name 'stopwords' is not defined"
     ]
    }
   ],
   "source": [
    "clean=clean_lyrics('lyrics_songs/i-need-you.txt')\n",
    "top10=[]\n",
    "for el in FreqDist(clean).most_common(10):\n",
    "    top10.append(el[0])\n",
    "top10"
   ]
  },
  {
   "cell_type": "code",
   "execution_count": 71,
   "id": "99b5169a",
   "metadata": {},
   "outputs": [
    {
     "data": {
      "text/plain": [
       "203"
      ]
     },
     "execution_count": 71,
     "metadata": {},
     "output_type": "execute_result"
    }
   ],
   "source": [
    "lyrics_files=[el[:-4] for el in os.listdir('lyrics_songs')]\n",
    "lyrics_files.remove('.DS_S') # remove this element that is introduced when using os.listdir\n",
    "len(lyrics_files)"
   ]
  },
  {
   "cell_type": "code",
   "execution_count": 95,
   "id": "f4dc20b8",
   "metadata": {},
   "outputs": [],
   "source": [
    "d_top10={}\n",
    "for file in lyrics_files:\n",
    "    path='lyrics_songs/'+file+'.txt'\n",
    "    clean=clean_lyrics(path)\n",
    "    \n",
    "    top10=[]\n",
    "    for el in FreqDist(clean).most_common(5):\n",
    "        top10.append(el[0])\n",
    "    d_top10[file]=top10"
   ]
  },
  {
   "cell_type": "code",
   "execution_count": 96,
   "id": "6ef5a164",
   "metadata": {},
   "outputs": [],
   "source": [
    "hyperlinks={} #dictionary to store links \n",
    "for file1 in lyrics_files:\n",
    "    eq_files=[]\n",
    "    for file2 in lyrics_files:\n",
    "        if file1!=file2:\n",
    "            a=d_top10[file1]\n",
    "            b=d_top10[file2]\n",
    "            # compute if there are equal words in both lists\n",
    "            eq=0\n",
    "            for el in a:\n",
    "                if el in b:\n",
    "                    eq+=1\n",
    "            if eq!=0:\n",
    "                eq_files.append(file2)\n",
    "    hyperlinks[file1]=eq_files"
   ]
  },
  {
   "cell_type": "code",
   "execution_count": 101,
   "id": "ff32afdf",
   "metadata": {},
   "outputs": [],
   "source": [
    "import networkx as nx\n",
    "#We build the Directed Network\n",
    "Beatles_nw= nx.DiGraph()\n",
    "for file in lyrics_files:\n",
    "    #We add the nodes and attributes to the the network\n",
    "    Beatles_nw.add_node(file)\n",
    "\n",
    "\n",
    "#We add the hyperlinks to the the network\n",
    "for el in lyrics_files:\n",
    "    links= hyperlinks[el]\n",
    "    for a in links:\n",
    "        u= el\n",
    "        v= a\n",
    "        Beatles_nw.add_edge(u,v)"
   ]
  },
  {
   "cell_type": "code",
   "execution_count": 102,
   "id": "2b15c780",
   "metadata": {},
   "outputs": [
    {
     "data": {
      "image/png": "[encoded data removed]",
      "text/plain": [
       "<Figure size 432x288 with 1 Axes>"
      ]
     },
     "metadata": {},
     "output_type": "display_data"
    }
   ],
   "source": [
    "nx.draw(Beatles_nw)"
   ]
  },
  {
   "cell_type": "code",
   "execution_count": 103,
   "id": "06506339",
   "metadata": {},
   "outputs": [],
   "source": [
    "Gs = list(Beatles_nw.subgraph(c).copy() for c in nx.weakly_connected_components(Beatles_nw))\n",
    "biggest = 0\n",
    "GCC_index = 0\n",
    "for index,graph in enumerate(Gs):\n",
    "    if len(graph.nodes) > biggest:\n",
    "        biggest = len(graph.nodes)\n",
    "        GCC_index = index\n",
    "GCC = Gs[GCC_index]"
   ]
  },
  {
   "cell_type": "code",
   "execution_count": 116,
   "id": "b9ce14f1",
   "metadata": {},
   "outputs": [
    {
     "data": {
      "image/png": "[encoded data removed]",
      "text/plain": [
       "<Figure size 432x288 with 1 Axes>"
      ]
     },
     "metadata": {},
     "output_type": "display_data"
    }
   ],
   "source": [
    "options = {\n",
    "    'node_size': 40,\n",
    "    'width': 0.2,\n",
    "}\n",
    "nx.draw(GCC,**options)"
   ]
  },
  {
   "cell_type": "code",
   "execution_count": 115,
   "id": "6a26cc8f",
   "metadata": {},
   "outputs": [
    {
     "data": {
      "image/png": "[encoded data removed]",
      "text/plain": [
       "<Figure size 432x288 with 1 Axes>"
      ]
     },
     "metadata": {},
     "output_type": "display_data"
    }
   ],
   "source": [
    "un_Beatles_nw= GCC.to_undirected()\n",
    "\n",
    "options = {\n",
    "    'node_size': 40,\n",
    "    'width': 0.2,\n",
    "}\n",
    "nx.draw(un_Beatles_nw,**options)"
   ]
  },
  {
   "cell_type": "markdown",
   "id": "e6785727",
   "metadata": {},
   "source": [
    "Still needs to be define a criteria to link two songs. Right now the criteria is that if between the most 5 common words one is present in both songs, these songs are linked."
   ]
  },
  {
   "cell_type": "code",
   "execution_count": 118,
   "id": "c6eb338a",
   "metadata": {},
   "outputs": [
    {
     "data": {
      "text/plain": [
       "[('dont-pass-me', 88),\n",
       " ('i-feel-fine', 83),\n",
       " ('ask-me-why', 81),\n",
       " ('love-me-do', 78),\n",
       " ('my-life', 71),\n",
       " ('im-happy-just-dance-you', 71),\n",
       " ('means-lot', 69),\n",
       " ('old-brown-shoe', 69),\n",
       " ('do-you-want-know-secret', 67),\n",
       " ('word', 66),\n",
       " ('you-know-what-do', 65),\n",
       " ('end', 65),\n",
       " ('shes-woman', 65),\n",
       " ('back-ussr', 64),\n",
       " ('you-blue', 64),\n",
       " ('dont-let-me-down', 63),\n",
       " ('i-should-have-known-better', 63),\n",
       " ('thank-you-girl', 62),\n",
       " ('ill-get-you', 62),\n",
       " ('here-there-and-everywhere', 61),\n",
       " ('long-long-long', 61),\n",
       " ('boy', 61),\n",
       " ('i-will', 61),\n",
       " ('dreamers-do', 61),\n",
       " ('im-looking-through-you', 59),\n",
       " ('cant-buy-me-love', 58),\n",
       " ('if-i-fell', 57),\n",
       " ('im-down', 57),\n",
       " ('she-loves-you', 57),\n",
       " ('im-so-tired', 56),\n",
       " ('no-one', 56),\n",
       " ('things-we-said-today', 55),\n",
       " ('something', 55),\n",
       " ('youve-got-hide-your-love-away', 54),\n",
       " ('not-second-time', 54),\n",
       " ('within-you-without-you', 53),\n",
       " ('dont-bother-me', 52),\n",
       " ('all-you-need-love', 52),\n",
       " ('taxman', 52),\n",
       " ('ps-i-love-you', 52),\n",
       " ('real-love', 52),\n",
       " ('every-little-thing', 51),\n",
       " ('its-only-love', 50),\n",
       " ('love-you', 50),\n",
       " ('she-said-she-said', 50),\n",
       " ('step-inside-love-los-paranoias', 49),\n",
       " ('please-please-me', 49),\n",
       " ('not-guilty', 48),\n",
       " ('if-i-needed-someone', 48),\n",
       " ('its-all-too-much', 47),\n",
       " ('tell-me-what-you-see', 47),\n",
       " ('because', 46),\n",
       " ('ill-cry-instead', 46),\n",
       " ('i-want-tell-you', 46),\n",
       " ('and-i-love-her', 46),\n",
       " ('ill-be-back', 45),\n",
       " ('hello-goodbye', 45),\n",
       " ('im-only-sleeping', 44),\n",
       " ('another-girl', 44),\n",
       " ('i-dont-want-spoil-party', 44),\n",
       " ('tomorrow-never-knows', 44),\n",
       " ('wild-honey-pie', 43),\n",
       " ('eight-days-week', 42),\n",
       " ('you-cant-do', 42),\n",
       " ('julia', 42),\n",
       " ('honey-pie', 42),\n",
       " ('i-call-your-name', 40),\n",
       " ('if-youve-got-trouble', 40),\n",
       " ('all-my-loving', 40),\n",
       " ('matchbox', 39),\n",
       " ('polythene-pam', 38),\n",
       " ('i-am-walrus', 38),\n",
       " ('oh-darling', 36),\n",
       " ('it-wont-be-long', 35),\n",
       " ('help', 35),\n",
       " ('fixing-hole', 34),\n",
       " ('your-mother-should-know', 34),\n",
       " ('ive-got-feeling', 34),\n",
       " ('think-yourself', 32),\n",
       " ('why-dont-we-do-it-road', 32),\n",
       " ('blue-jay-way', 32),\n",
       " ('ticket-ride', 31),\n",
       " ('i-need-you', 30),\n",
       " ('when-im-sixty-four', 30),\n",
       " ('inner-light', 30),\n",
       " ('hello-little-girl', 30),\n",
       " ('youre-going-lose-girl', 29),\n",
       " ('baby-youre-rich-man', 28),\n",
       " ('honey-dont', 28),\n",
       " ('one-after-909', 27),\n",
       " ('im-loser', 27),\n",
       " ('all-ive-got-do', 27),\n",
       " ('spite-all-danger', 27),\n",
       " ('ballad-john-and-yoko', 27),\n",
       " ('devil-her-heart', 27),\n",
       " ('you-know-my-name', 27),\n",
       " ('we-can-work-it-out', 27),\n",
       " ('good-morning-good-morning', 27),\n",
       " ('girl', 26),\n",
       " ('yer-blues', 26),\n",
       " ('and-your-bird-can-sing', 26),\n",
       " ('savoy-truffle', 25),\n",
       " ('teddy-boy', 25),\n",
       " ('i-saw-her-standing-there', 25),\n",
       " ('come-together', 24),\n",
       " ('what-youre-doing', 24),\n",
       " ('while-my-guitar-gently-weeps', 24),\n",
       " ('you-wont-see-me', 24),\n",
       " ('yesterday', 23),\n",
       " ('me-you', 23),\n",
       " ('little-child', 23),\n",
       " ('i-wanna-be-your-man', 23),\n",
       " ('babys-black', 22),\n",
       " ('run-your-life', 22),\n",
       " ('misery', 22),\n",
       " ('paperback-writer', 21),\n",
       " ('got-get-you-my-life', 20),\n",
       " ('us-you', 20),\n",
       " ('maggie-mae', 20),\n",
       " ('doctor-robert', 20),\n",
       " ('helter-skelter', 20),\n",
       " ('night', 20),\n",
       " ('carry-weight', 20),\n",
       " ('only-northern-song', 19),\n",
       " ('any-time-all', 19),\n",
       " ('sexy-sadie', 19),\n",
       " ('maxwells-silver-hammer', 19),\n",
       " ('fool-hill', 19),\n",
       " ('you-me-too-much', 19),\n",
       " ('get-back', 18),\n",
       " ('ill-follow-sun', 18),\n",
       " ('dig-pony', 18),\n",
       " ('golden-slumbers', 18),\n",
       " ('two-us', 18),\n",
       " ('eleanor-rigby', 17),\n",
       " ('come-and-get-it', 17),\n",
       " ('martha-my-dear', 16),\n",
       " ('wait', 16),\n",
       " ('when-i-get-home', 15),\n",
       " ('i-want-hold-your-hand', 15),\n",
       " ('day-tripper', 15),\n",
       " ('long-and-winding-road', 15),\n",
       " ('across-universe', 15),\n",
       " ('lady-madonna', 14),\n",
       " ('lucy-sky-diamonds', 14),\n",
       " ('glass-onion', 14),\n",
       " ('theres-place', 13),\n",
       " ('cry-baby-cry', 13),\n",
       " ('you-never-give-me-your-money', 13),\n",
       " ('little-help-my-friends', 13),\n",
       " ('dear-prudence', 13),\n",
       " ('everybodys-got-something-hide-except-me-and-my-monkey', 12),\n",
       " ('her-majesty', 12),\n",
       " ('octopuss-garden', 12),\n",
       " ('i-want-you', 12),\n",
       " ('sie-liebt-dich', 12),\n",
       " ('everybodys-trying-be-my-baby', 12),\n",
       " ('shes-leaving-home', 11),\n",
       " ('good-day-sunshine', 11),\n",
       " ('tell-me-why', 11),\n",
       " ('dig-it', 11),\n",
       " ('hold-me-tight', 11),\n",
       " ('ive-just-seen-face', 10),\n",
       " ('good-night', 10),\n",
       " ('penny-lane', 10),\n",
       " ('hey-jude', 9),\n",
       " ('here-comes-sun', 9),\n",
       " ('rain', 9),\n",
       " ('what-goes', 8),\n",
       " ('getting-better', 8),\n",
       " ('rocky-raccoon', 8),\n",
       " ('birthday', 8),\n",
       " ('yes-it', 8),\n",
       " ('nowhere-man', 8),\n",
       " ('strawberry-fields-forever', 7),\n",
       " ('she-came-through-bathroom-window', 7),\n",
       " ('magical-mystery-tour', 7),\n",
       " ('junk', 7),\n",
       " ('mean-mr-mustard', 7),\n",
       " ('piggies', 6),\n",
       " ('drive-my-car', 6),\n",
       " ('no-reply', 6),\n",
       " ('blackbird', 5),\n",
       " ('norwegian-wood-bird-has-flown', 5),\n",
       " ('all-things-must-pass', 5),\n",
       " ('hey-bulldog', 5),\n",
       " ('youll-be-mine', 4),\n",
       " ('free-bird', 4),\n",
       " ('i-me-mine', 4),\n",
       " ('sun-king', 4),\n",
       " ('lovely-rita', 4),\n",
       " ('continuing-story-bungalow-bill', 4),\n",
       " ('mother-natures-son', 3),\n",
       " ('let-it-be', 3),\n",
       " ('happiness-warm-gun', 3),\n",
       " ('ob-la-di-ob-la-da', 3),\n",
       " ('sgt-peppers-lonely-hearts-club-band-reprise', 2),\n",
       " ('sgt-peppers-lonely-hearts-club-band', 2),\n",
       " ('being-benefit-mr-kite', 2),\n",
       " ('komm-gib-mir-deine-hand', 1),\n",
       " ('whats-new-mary-jane', 1),\n",
       " ('yellow-submarine', 1)]"
      ]
     },
     "execution_count": 118,
     "metadata": {},
     "output_type": "execute_result"
    }
   ],
   "source": [
    "sorted(un_Beatles_nw.degree, key=lambda x: x[1], reverse=True)"
   ]
  },
  {
   "cell_type": "code",
   "execution_count": 119,
   "id": "60cfc6b4",
   "metadata": {},
   "outputs": [
    {
     "data": {
      "text/plain": [
       "['dont', 'make', 'love', 'see', 'im']"
      ]
     },
     "execution_count": 119,
     "metadata": {},
     "output_type": "execute_result"
    }
   ],
   "source": [
    "d_top10['dont-pass-me']"
   ]
  },
  {
   "cell_type": "code",
   "execution_count": 120,
   "id": "3b4a1aae",
   "metadata": {},
   "outputs": [
    {
     "data": {
      "text/plain": [
       "['let', 'words', 'wisdom', 'answer', 'speaking']"
      ]
     },
     "execution_count": 120,
     "metadata": {},
     "output_type": "execute_result"
    }
   ],
   "source": [
    "d_top10['let-it-be']"
   ]
  },
  {
   "cell_type": "code",
   "execution_count": 121,
   "id": "4665b22a",
   "metadata": {},
   "outputs": [
    {
     "data": {
      "text/plain": [
       "['know', 'shes', 'said', 'im', 'love']"
      ]
     },
     "execution_count": 121,
     "metadata": {},
     "output_type": "execute_result"
    }
   ],
   "source": [
    "d_top10['i-feel-fine']"
   ]
  },
  {
   "cell_type": "code",
   "execution_count": 122,
   "id": "3b7ea144",
   "metadata": {},
   "outputs": [
    {
     "data": {
      "text/plain": [
       "['yellow', 'submarine', 'live', 'sea', 'lived']"
      ]
     },
     "execution_count": 122,
     "metadata": {},
     "output_type": "execute_result"
    }
   ],
   "source": [
    "d_top10['yellow-submarine']"
   ]
  },
  {
   "cell_type": "code",
   "execution_count": 125,
   "id": "f0fcb897",
   "metadata": {},
   "outputs": [
    {
     "ename": "NameError",
     "evalue": "name 'sample_dataset' is not defined",
     "output_type": "error",
     "traceback": [
      "\u001b[0;31m---------------------------------------------------------------------------\u001b[0m",
      "\u001b[0;31mNameError\u001b[0m                                 Traceback (most recent call last)",
      "\u001b[0;32m/var/folders/sl/1xwn2w1j4x7c2rxkc6cdlnrh0000gn/T/ipykernel_72517/4155021526.py\u001b[0m in \u001b[0;36m<module>\u001b[0;34m\u001b[0m\n\u001b[1;32m      6\u001b[0m \u001b[0;34m\u001b[0m\u001b[0m\n\u001b[1;32m      7\u001b[0m \u001b[0mnlu_engine\u001b[0m \u001b[0;34m=\u001b[0m \u001b[0mSnipsNLUEngine\u001b[0m\u001b[0;34m(\u001b[0m\u001b[0mconfig\u001b[0m\u001b[0;34m=\u001b[0m\u001b[0mCONFIG_EN\u001b[0m\u001b[0;34m)\u001b[0m\u001b[0;34m\u001b[0m\u001b[0;34m\u001b[0m\u001b[0m\n\u001b[0;32m----> 8\u001b[0;31m \u001b[0mnlu_engine\u001b[0m \u001b[0;34m=\u001b[0m \u001b[0mnlu_engine\u001b[0m\u001b[0;34m.\u001b[0m\u001b[0mfit\u001b[0m\u001b[0;34m(\u001b[0m\u001b[0msample_dataset\u001b[0m\u001b[0;34m)\u001b[0m\u001b[0;34m\u001b[0m\u001b[0;34m\u001b[0m\u001b[0m\n\u001b[0m\u001b[1;32m      9\u001b[0m \u001b[0mtext\u001b[0m \u001b[0;34m=\u001b[0m \u001b[0;34m\"Please turn the light on in the kitchen\"\u001b[0m\u001b[0;34m\u001b[0m\u001b[0;34m\u001b[0m\u001b[0m\n\u001b[1;32m     10\u001b[0m \u001b[0mparsing\u001b[0m \u001b[0;34m=\u001b[0m \u001b[0mnlu_engine\u001b[0m\u001b[0;34m.\u001b[0m\u001b[0mparse\u001b[0m\u001b[0;34m(\u001b[0m\u001b[0mtext\u001b[0m\u001b[0;34m)\u001b[0m\u001b[0;34m\u001b[0m\u001b[0;34m\u001b[0m\u001b[0m\n",
      "\u001b[0;31mNameError\u001b[0m: name 'sample_dataset' is not defined"
     ]
    }
   ],
   "source": [
    ">>> from __future__ import unicode_literals, print_function\n",
    ">>> import io\n",
    ">>> import json\n",
    ">>> from snips_nlu import SnipsNLUEngine\n",
    ">>> from snips_nlu.default_configs import CONFIG_EN\n",
    ">>> with io.open(\"sample_datasets/lights_dataset.json\") as f:\n",
    "...     sample_dataset = json.load(f)\n",
    ">>> nlu_engine = SnipsNLUEngine(config=CONFIG_EN)\n",
    ">>> nlu_engine = nlu_engine.fit(sample_dataset)\n",
    ">>> text = \"Please turn the light on in the kitchen\"\n",
    ">>> parsing = nlu_engine.parse(text)\n",
    ">>> parsing[\"intent\"][\"intentName\"]\n",
    "'turnLightOn'"
   ]
  },
  {
   "cell_type": "code",
   "execution_count": 128,
   "id": "92aa8189",
   "metadata": {},
   "outputs": [
    {
     "data": {
      "image/png": "[encoded data removed]",
      "text/plain": [
       "<Figure size 432x288 with 1 Axes>"
      ]
     },
     "metadata": {
      "needs_background": "light"
     },
     "output_type": "display_data"
    }
   ],
   "source": [
    "import matplotlib.pyplot as plt\n",
    "#FROM UNDIRECTED TO DIRECTED GRAPH:\n",
    "un_Beatles_nw= GCC.to_undirected()\n",
    "all_degrees=[]\n",
    "\n",
    "#Obtenition of degree \n",
    "for deg in un_Beatles_nw.degree():\n",
    "    all_degrees.append(deg[1])\n",
    "    \n",
    "#Zoom in\n",
    "v = np.arange(int(min(all_degrees)),30)\n",
    "count,bins=np.histogram(all_degrees,bins=v)\n",
    "plt.bar(bins[:-1], count)\n",
    "plt.title('Zoom in: Degree distribution of the undirected graph (removing extreme values)',fontsize=13)\n",
    "plt.xlabel('Degree',fontsize=12)\n",
    "plt.ylabel('Counts',fontsize=12)\n",
    "plt.show() "
   ]
  },
  {
   "cell_type": "code",
   "execution_count": null,
   "id": "f360a53c",
   "metadata": {},
   "outputs": [],
   "source": []
  }
 ],
 "metadata": {
  "kernelspec": {
   "display_name": "Python 3 (ipykernel)",
   "language": "python",
   "name": "python3"
  },
  "language_info": {
   "codemirror_mode": {
    "name": "ipython",
    "version": 3
   },
   "file_extension": ".py",
   "mimetype": "text/x-python",
   "name": "python",
   "nbconvert_exporter": "python",
   "pygments_lexer": "ipython3",
   "version": "3.8.2"
  }
 },
 "nbformat": 4,
 "nbformat_minor": 5
}
